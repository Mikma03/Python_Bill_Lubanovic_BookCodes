{
 "cells": [
  {
   "cell_type": "markdown",
   "metadata": {},
   "source": [
    "# The tenth chapter from Bill Lubanovic's book"
   ]
  },
  {
   "cell_type": "code",
   "execution_count": 2,
   "metadata": {},
   "outputs": [],
   "source": [
    "class Cat():\n",
    "    pass"
   ]
  },
  {
   "cell_type": "code",
   "execution_count": 6,
   "metadata": {},
   "outputs": [],
   "source": [
    "a_cat = Cat()\n",
    "another_cat = Cat()"
   ]
  },
  {
   "cell_type": "code",
   "execution_count": 7,
   "metadata": {},
   "outputs": [
    {
     "data": {
      "text/plain": [
       "<__main__.Cat at 0x229ae3f00a0>"
      ]
     },
     "execution_count": 7,
     "metadata": {},
     "output_type": "execute_result"
    }
   ],
   "source": [
    "a_cat"
   ]
  },
  {
   "cell_type": "code",
   "execution_count": 8,
   "metadata": {},
   "outputs": [],
   "source": [
    "a_cat.age = 3\n",
    "a_cat.name = \"cosiek\"\n",
    "a_cat.nemesis = another_cat"
   ]
  },
  {
   "cell_type": "code",
   "execution_count": 9,
   "metadata": {},
   "outputs": [
    {
     "data": {
      "text/plain": [
       "3"
      ]
     },
     "execution_count": 9,
     "metadata": {},
     "output_type": "execute_result"
    }
   ],
   "source": [
    "a_cat.age"
   ]
  },
  {
   "cell_type": "code",
   "execution_count": 10,
   "metadata": {},
   "outputs": [],
   "source": [
    "a_cat.nemesis.name = \"innykot\""
   ]
  },
  {
   "cell_type": "code",
   "execution_count": 11,
   "metadata": {},
   "outputs": [],
   "source": [
    "class Cat():\n",
    "    def __init__(self, Name):\n",
    "        self.name = Name"
   ]
  },
  {
   "cell_type": "code",
   "execution_count": 12,
   "metadata": {},
   "outputs": [],
   "source": [
    "furball = Cat('filemon')"
   ]
  },
  {
   "cell_type": "code",
   "execution_count": 13,
   "metadata": {},
   "outputs": [
    {
     "name": "stdout",
     "output_type": "stream",
     "text": [
      "wartosc argumentu: filemon\n"
     ]
    }
   ],
   "source": [
    "print('wartosc argumentu:', furball.name)"
   ]
  },
  {
   "cell_type": "markdown",
   "metadata": {},
   "source": [
    "# Inheritance"
   ]
  },
  {
   "cell_type": "code",
   "execution_count": 14,
   "metadata": {},
   "outputs": [],
   "source": [
    "\n",
    "\n",
    "class Car():\n",
    "    pass"
   ]
  },
  {
   "cell_type": "code",
   "execution_count": 17,
   "metadata": {},
   "outputs": [],
   "source": [
    "class Yugo(Car):\n",
    "    pass"
   ]
  },
  {
   "cell_type": "code",
   "execution_count": 18,
   "metadata": {},
   "outputs": [
    {
     "data": {
      "text/plain": [
       "True"
      ]
     },
     "execution_count": 18,
     "metadata": {},
     "output_type": "execute_result"
    }
   ],
   "source": [
    "issubclass(Yugo, Car)"
   ]
  },
  {
   "cell_type": "code",
   "execution_count": 21,
   "metadata": {},
   "outputs": [],
   "source": [
    "give_me_a_car = Car()\n",
    "give_me_a_yugo = Yugo()\n"
   ]
  },
  {
   "cell_type": "code",
   "execution_count": 22,
   "metadata": {},
   "outputs": [],
   "source": [
    "class Car():\n",
    "    def exclaim(self):\n",
    "        print('jestem klasa Car')"
   ]
  },
  {
   "cell_type": "code",
   "execution_count": 23,
   "metadata": {},
   "outputs": [],
   "source": [
    "class Yugo(Car):\n",
    "    pass"
   ]
  },
  {
   "cell_type": "code",
   "execution_count": 24,
   "metadata": {},
   "outputs": [
    {
     "name": "stdout",
     "output_type": "stream",
     "text": [
      "jestem klasa Car\n"
     ]
    }
   ],
   "source": [
    "give_me_a_car = Car()\n",
    "give_me_a_yugo = Yugo()\n",
    "give_me_a_car.exclaim()"
   ]
  },
  {
   "cell_type": "code",
   "execution_count": 25,
   "metadata": {},
   "outputs": [],
   "source": [
    "class Car():\n",
    "    def exclaim(self):\n",
    "        print('jestem klasa Car')"
   ]
  },
  {
   "cell_type": "code",
   "execution_count": 26,
   "metadata": {},
   "outputs": [],
   "source": [
    "class Yugo(Car):\n",
    "    def exclaim(self):\n",
    "        print('jestem klasa Yugo dziedziczaca cechy klasy Car')"
   ]
  },
  {
   "cell_type": "code",
   "execution_count": 27,
   "metadata": {},
   "outputs": [],
   "source": [
    "give_me_a_car = Car()\n",
    "give_me_a_yugo = Yugo()"
   ]
  },
  {
   "cell_type": "code",
   "execution_count": 28,
   "metadata": {},
   "outputs": [
    {
     "name": "stdout",
     "output_type": "stream",
     "text": [
      "jestem klasa Car\n"
     ]
    }
   ],
   "source": [
    "give_me_a_car.exclaim()"
   ]
  },
  {
   "cell_type": "code",
   "execution_count": 29,
   "metadata": {},
   "outputs": [
    {
     "name": "stdout",
     "output_type": "stream",
     "text": [
      "jestem klasa Yugo dziedziczaca cechy klasy Car\n"
     ]
    }
   ],
   "source": [
    "give_me_a_yugo.exclaim()"
   ]
  },
  {
   "cell_type": "code",
   "execution_count": 37,
   "metadata": {},
   "outputs": [],
   "source": [
    "# adding new method\n",
    "\n",
    "class Car():\n",
    "    def exclaim(self):\n",
    "        print('jestem klasa Car')"
   ]
  },
  {
   "cell_type": "code",
   "execution_count": 38,
   "metadata": {},
   "outputs": [],
   "source": [
    "class Yugo(Car):\n",
    "    def exclaim(self):\n",
    "        print('jestem klasa Yugo dziedziczaca cechy klasy Car')\n",
    "    def need_a_push(self):\n",
    "        print('potrzebna pomoc?')"
   ]
  },
  {
   "cell_type": "code",
   "execution_count": 39,
   "metadata": {},
   "outputs": [],
   "source": [
    "give_me_a_car = Car()\n",
    "give_me_a_yugo = Yugo()"
   ]
  },
  {
   "cell_type": "code",
   "execution_count": 40,
   "metadata": {},
   "outputs": [
    {
     "name": "stdout",
     "output_type": "stream",
     "text": [
      "potrzebna pomoc?\n"
     ]
    }
   ],
   "source": [
    "give_me_a_yugo.need_a_push()"
   ]
  },
  {
   "cell_type": "markdown",
   "metadata": {},
   "source": [
    "# super() method"
   ]
  },
  {
   "cell_type": "code",
   "execution_count": 41,
   "metadata": {},
   "outputs": [],
   "source": [
    "\n",
    "\n",
    "class Pearson():\n",
    "    def __init__(self, name):\n",
    "        self.name = name"
   ]
  },
  {
   "cell_type": "code",
   "execution_count": 42,
   "metadata": {},
   "outputs": [],
   "source": [
    "class EmailPerson(Pearson):\n",
    "    def __init__(self, name, email):\n",
    "        super().__init__(name)\n",
    "        self.email = email"
   ]
  },
  {
   "cell_type": "code",
   "execution_count": 43,
   "metadata": {},
   "outputs": [],
   "source": [
    "bob = EmailPerson('robert nowak', 'robert@gmail.com')"
   ]
  },
  {
   "cell_type": "code",
   "execution_count": 44,
   "metadata": {},
   "outputs": [
    {
     "data": {
      "text/plain": [
       "'robert nowak'"
      ]
     },
     "execution_count": 44,
     "metadata": {},
     "output_type": "execute_result"
    }
   ],
   "source": [
    "bob.name"
   ]
  },
  {
   "cell_type": "code",
   "execution_count": 45,
   "metadata": {},
   "outputs": [
    {
     "data": {
      "text/plain": [
       "'robert@gmail.com'"
      ]
     },
     "execution_count": 45,
     "metadata": {},
     "output_type": "execute_result"
    }
   ],
   "source": [
    "bob.email"
   ]
  },
  {
   "cell_type": "markdown",
   "metadata": {},
   "source": [
    "# multiple class inheritance"
   ]
  },
  {
   "cell_type": "code",
   "execution_count": 46,
   "metadata": {},
   "outputs": [],
   "source": [
    "\n",
    "\n",
    "class Animal:\n",
    "    def says(self):\n",
    "        return 'klasa animal'"
   ]
  },
  {
   "cell_type": "code",
   "execution_count": 47,
   "metadata": {},
   "outputs": [],
   "source": [
    "class Horse(Animal):\n",
    "    def says(self):\n",
    "        return 'Klasa horse'"
   ]
  },
  {
   "cell_type": "code",
   "execution_count": 48,
   "metadata": {},
   "outputs": [],
   "source": [
    "class Donkey(Animal):\n",
    "    def says(self):\n",
    "        return 'klasa donkey'"
   ]
  },
  {
   "cell_type": "code",
   "execution_count": 49,
   "metadata": {},
   "outputs": [],
   "source": [
    "class Mule(Donkey, Horse):\n",
    "    pass"
   ]
  },
  {
   "cell_type": "code",
   "execution_count": 50,
   "metadata": {},
   "outputs": [],
   "source": [
    "class Hinny(Horse, Donkey):\n",
    "    pass"
   ]
  },
  {
   "cell_type": "code",
   "execution_count": 51,
   "metadata": {},
   "outputs": [
    {
     "data": {
      "text/plain": [
       "[__main__.Mule, __main__.Donkey, __main__.Horse, __main__.Animal, object]"
      ]
     },
     "execution_count": 51,
     "metadata": {},
     "output_type": "execute_result"
    }
   ],
   "source": [
    "Mule.mro()"
   ]
  },
  {
   "cell_type": "code",
   "execution_count": 52,
   "metadata": {},
   "outputs": [
    {
     "data": {
      "text/plain": [
       "[__main__.Hinny, __main__.Horse, __main__.Donkey, __main__.Animal, object]"
      ]
     },
     "execution_count": 52,
     "metadata": {},
     "output_type": "execute_result"
    }
   ],
   "source": [
    "Hinny.mro()"
   ]
  },
  {
   "cell_type": "code",
   "execution_count": 53,
   "metadata": {},
   "outputs": [],
   "source": [
    "mule = Mule()\n",
    "hinny = Hinny()"
   ]
  },
  {
   "cell_type": "code",
   "execution_count": 54,
   "metadata": {},
   "outputs": [
    {
     "data": {
      "text/plain": [
       "'klasa donkey'"
      ]
     },
     "execution_count": 54,
     "metadata": {},
     "output_type": "execute_result"
    }
   ],
   "source": [
    "mule.says()"
   ]
  },
  {
   "cell_type": "code",
   "execution_count": 55,
   "metadata": {},
   "outputs": [
    {
     "name": "stdout",
     "output_type": "stream",
     "text": [
      "jestem klasa Car\n"
     ]
    }
   ],
   "source": [
    "# self argument\n",
    "\n",
    "a_car = Car()\n",
    "a_car.exclaim()"
   ]
  },
  {
   "cell_type": "code",
   "execution_count": 56,
   "metadata": {},
   "outputs": [],
   "source": [
    "# getter and setter\n",
    "\n",
    "class Duck():\n",
    "    def __init__(self, input_name):\n",
    "        self.hidden_name = input_name\n",
    "    def get_name(self):\n",
    "        print('wywolany getter')\n",
    "        return self.hidden_name\n",
    "    def set_name(self, input_name):\n",
    "        print('wywolany setter')\n",
    "        self.hidden_name = input_name\n",
    "\n"
   ]
  },
  {
   "cell_type": "code",
   "execution_count": 57,
   "metadata": {},
   "outputs": [],
   "source": [
    "don = Duck('donald')"
   ]
  },
  {
   "cell_type": "code",
   "execution_count": 58,
   "metadata": {},
   "outputs": [
    {
     "name": "stdout",
     "output_type": "stream",
     "text": [
      "wywolany getter\n"
     ]
    },
    {
     "data": {
      "text/plain": [
       "'donald'"
      ]
     },
     "execution_count": 58,
     "metadata": {},
     "output_type": "execute_result"
    }
   ],
   "source": [
    "don.get_name()"
   ]
  },
  {
   "cell_type": "code",
   "execution_count": 59,
   "metadata": {},
   "outputs": [
    {
     "name": "stdout",
     "output_type": "stream",
     "text": [
      "wywolany setter\n"
     ]
    }
   ],
   "source": [
    "don.set_name('inneimie')"
   ]
  },
  {
   "cell_type": "code",
   "execution_count": 64,
   "metadata": {},
   "outputs": [],
   "source": [
    "# property access\n",
    "\n",
    "class Duck():\n",
    "    def __init__(self, input_name):\n",
    "        self.hidden_name = input_name\n",
    "    def get_name(self):\n",
    "        print('wywolany getter')\n",
    "        return self.hidden_name\n",
    "    def set_name(self, input_name):\n",
    "        print('wywolany setter')\n",
    "        self.hidden_name = input_name\n",
    "    name = property(get_name, set_name)"
   ]
  },
  {
   "cell_type": "code",
   "execution_count": 66,
   "metadata": {},
   "outputs": [
    {
     "name": "stdout",
     "output_type": "stream",
     "text": [
      "wywolany getter\n"
     ]
    },
    {
     "data": {
      "text/plain": [
       "'donald'"
      ]
     },
     "execution_count": 66,
     "metadata": {},
     "output_type": "execute_result"
    }
   ],
   "source": [
    "don = Duck('donald')\n",
    "don.name"
   ]
  },
  {
   "cell_type": "code",
   "execution_count": 68,
   "metadata": {},
   "outputs": [],
   "source": [
    "class Duck():\n",
    "    def __init__(self, input_name):\n",
    "        self.hidden_name = input_name\n",
    "    @property\n",
    "    def name(self):\n",
    "        print('wywolany getter')\n",
    "        return self.hidden_name\n",
    "    @name.setter\n",
    "    def set_name(self, input_name):\n",
    "        print('wywolany setter')\n",
    "        self.hidden_name = input_name"
   ]
  },
  {
   "cell_type": "code",
   "execution_count": 69,
   "metadata": {},
   "outputs": [
    {
     "name": "stdout",
     "output_type": "stream",
     "text": [
      "wywolany getter\n"
     ]
    },
    {
     "data": {
      "text/plain": [
       "'donald'"
      ]
     },
     "execution_count": 69,
     "metadata": {},
     "output_type": "execute_result"
    }
   ],
   "source": [
    "flow = Duck('donald')\n",
    "flow.name"
   ]
  },
  {
   "cell_type": "code",
   "execution_count": 78,
   "metadata": {},
   "outputs": [],
   "source": [
    "# other values\n",
    "\n",
    "class Circle():\n",
    "    def __init__(self, radius):\n",
    "        self.radius = radius\n",
    "    @property\n",
    "    def diameter(self):\n",
    "        return 2 * self.radius"
   ]
  },
  {
   "cell_type": "code",
   "execution_count": 79,
   "metadata": {},
   "outputs": [
    {
     "data": {
      "text/plain": [
       "5"
      ]
     },
     "execution_count": 79,
     "metadata": {},
     "output_type": "execute_result"
    }
   ],
   "source": [
    "c = Circle(5)\n",
    "c.radius"
   ]
  },
  {
   "cell_type": "code",
   "execution_count": 80,
   "metadata": {},
   "outputs": [
    {
     "data": {
      "text/plain": [
       "10"
      ]
     },
     "execution_count": 80,
     "metadata": {},
     "output_type": "execute_result"
    }
   ],
   "source": [
    "c.diameter"
   ]
  },
  {
   "cell_type": "code",
   "execution_count": 81,
   "metadata": {},
   "outputs": [
    {
     "data": {
      "text/plain": [
       "14"
      ]
     },
     "execution_count": 81,
     "metadata": {},
     "output_type": "execute_result"
    }
   ],
   "source": [
    "c.radius = 7\n",
    "c.diameter"
   ]
  },
  {
   "cell_type": "code",
   "execution_count": 99,
   "metadata": {},
   "outputs": [],
   "source": [
    "# privacy thanks to name modification\n",
    "\n",
    "class Duck():\n",
    "    def __init__(self, input_name):\n",
    "        self.__name = input_name\n",
    "    @property\n",
    "    def name(self):\n",
    "        print('wywolany getter')\n",
    "        return self.__name\n",
    "    @name.setter\n",
    "    def name(self, input_name):\n",
    "        print('wywolany setter')\n",
    "        self.__name = input_name"
   ]
  },
  {
   "cell_type": "code",
   "execution_count": 100,
   "metadata": {},
   "outputs": [],
   "source": [
    "fowl = Duck('donald')"
   ]
  },
  {
   "cell_type": "code",
   "execution_count": 101,
   "metadata": {},
   "outputs": [
    {
     "name": "stdout",
     "output_type": "stream",
     "text": [
      "wywolany getter\n"
     ]
    },
    {
     "data": {
      "text/plain": [
       "'donald'"
      ]
     },
     "execution_count": 101,
     "metadata": {},
     "output_type": "execute_result"
    }
   ],
   "source": [
    "fowl.name"
   ]
  },
  {
   "cell_type": "code",
   "execution_count": 102,
   "metadata": {},
   "outputs": [
    {
     "name": "stdout",
     "output_type": "stream",
     "text": [
      "wywolany setter\n"
     ]
    }
   ],
   "source": [
    "fowl.name = 'Dziwaczka'"
   ]
  },
  {
   "cell_type": "code",
   "execution_count": 105,
   "metadata": {},
   "outputs": [],
   "source": [
    "# attributes\n",
    "\n",
    "class Fruit:\n",
    "    color = 'czerwony'"
   ]
  },
  {
   "cell_type": "code",
   "execution_count": 106,
   "metadata": {},
   "outputs": [],
   "source": [
    "blueberry = Fruit()"
   ]
  },
  {
   "cell_type": "code",
   "execution_count": 108,
   "metadata": {},
   "outputs": [
    {
     "data": {
      "text/plain": [
       "'czerwony'"
      ]
     },
     "execution_count": 108,
     "metadata": {},
     "output_type": "execute_result"
    }
   ],
   "source": [
    "Fruit.color"
   ]
  },
  {
   "cell_type": "code",
   "execution_count": 109,
   "metadata": {},
   "outputs": [],
   "source": [
    "blueberry.color = 'niebieski'"
   ]
  },
  {
   "cell_type": "code",
   "execution_count": 110,
   "metadata": {},
   "outputs": [
    {
     "data": {
      "text/plain": [
       "'niebieski'"
      ]
     },
     "execution_count": 110,
     "metadata": {},
     "output_type": "execute_result"
    }
   ],
   "source": [
    "blueberry.color"
   ]
  },
  {
   "cell_type": "code",
   "execution_count": 115,
   "metadata": {},
   "outputs": [],
   "source": [
    "# methods\n",
    "\n",
    "class A():\n",
    "    count = 0\n",
    "    def __init__(self):\n",
    "        A.count += 1\n",
    "    def exclaim(self):\n",
    "        print('jestem klasa A')\n",
    "    @classmethod\n",
    "    def kids(cls):\n",
    "        print('liczba obiektow:', cls.count)"
   ]
  },
  {
   "cell_type": "code",
   "execution_count": 116,
   "metadata": {},
   "outputs": [],
   "source": [
    "easy_a = A()\n",
    "breezy_a = A()\n",
    "wheezy_a = A()"
   ]
  },
  {
   "cell_type": "code",
   "execution_count": 117,
   "metadata": {},
   "outputs": [
    {
     "name": "stdout",
     "output_type": "stream",
     "text": [
      "liczba obiektow: 3\n"
     ]
    }
   ],
   "source": [
    "A.kids()"
   ]
  },
  {
   "cell_type": "code",
   "execution_count": 118,
   "metadata": {},
   "outputs": [],
   "source": [
    "# static methods\n",
    "\n",
    "class CoyoeWeapon():\n",
    "    @staticmethod\n",
    "    def commercial():\n",
    "        print('bron coyoteweapon dostarcza amazon')\n"
   ]
  },
  {
   "cell_type": "code",
   "execution_count": 119,
   "metadata": {},
   "outputs": [
    {
     "name": "stdout",
     "output_type": "stream",
     "text": [
      "bron coyoteweapon dostarcza amazon\n"
     ]
    }
   ],
   "source": [
    "CoyoeWeapon.commercial()"
   ]
  },
  {
   "cell_type": "code",
   "execution_count": 120,
   "metadata": {},
   "outputs": [],
   "source": [
    "# duck typing\n",
    "\n",
    "class Quote():\n",
    "    def __init__(self, person, words):\n",
    "        self.person = person\n",
    "        self.words = words\n",
    "    def who(self):\n",
    "        return self.person\n",
    "    def says(self):\n",
    "        return self.words + '.'"
   ]
  },
  {
   "cell_type": "code",
   "execution_count": 121,
   "metadata": {},
   "outputs": [],
   "source": [
    "class QuestionQuote(Quote):\n",
    "    def says(self):\n",
    "        return self.words +'?'"
   ]
  },
  {
   "cell_type": "code",
   "execution_count": 124,
   "metadata": {},
   "outputs": [],
   "source": [
    "class ExclamationQuote(Quote):\n",
    "    def says(self):\n",
    "        return self.words + '!'"
   ]
  },
  {
   "cell_type": "code",
   "execution_count": 125,
   "metadata": {},
   "outputs": [
    {
     "name": "stdout",
     "output_type": "stream",
     "text": [
      "elmer fudd mowi:  poluje na kroliki.\n"
     ]
    }
   ],
   "source": [
    "hunter = Quote('elmer fudd', 'poluje na kroliki')\n",
    "print(hunter.who(), 'mowi: ', hunter.says())"
   ]
  },
  {
   "cell_type": "code",
   "execution_count": 128,
   "metadata": {},
   "outputs": [
    {
     "name": "stdout",
     "output_type": "stream",
     "text": [
      "krolik bugs mowi:  o co chodzix?\n"
     ]
    }
   ],
   "source": [
    "hunted1 = QuestionQuote('krolik bugs', 'o co chodzix')\n",
    "print(hunted1.who(), 'mowi: ', hunted1.says())"
   ]
  },
  {
   "cell_type": "code",
   "execution_count": 6,
   "metadata": {},
   "outputs": [],
   "source": [
    "# magic methods\n",
    "\n",
    "class Word():\n",
    "    def __init__(self, text):\n",
    "        self.text = text\n",
    "    def equals (self, word2):\n",
    "        return self.text.lower() == word2.text.lower()"
   ]
  },
  {
   "cell_type": "code",
   "execution_count": 7,
   "metadata": {},
   "outputs": [],
   "source": [
    "first = Word('czesc')\n",
    "second = Word('CZESC')\n",
    "third = Word('witaj')"
   ]
  },
  {
   "cell_type": "code",
   "execution_count": 10,
   "metadata": {},
   "outputs": [
    {
     "name": "stdout",
     "output_type": "stream",
     "text": [
      "False\n",
      "True\n"
     ]
    }
   ],
   "source": [
    "print(first.equals(third))\n",
    "print(first.equals(second))"
   ]
  },
  {
   "cell_type": "code",
   "execution_count": 12,
   "metadata": {},
   "outputs": [],
   "source": [
    "# method __eq__\n",
    "\n",
    "class Word_2():\n",
    "    def __init__(self, text):\n",
    "        self.text = text\n",
    "    def __eq__ (self, word2):\n",
    "        return self.text.lower() == word2.text.lower()"
   ]
  },
  {
   "cell_type": "code",
   "execution_count": 15,
   "metadata": {},
   "outputs": [],
   "source": [
    "first1 = Word_2('czesc')\n",
    "second1 = Word_2('CZESC')\n",
    "third1 = Word_2('witaj')"
   ]
  },
  {
   "cell_type": "code",
   "execution_count": 16,
   "metadata": {},
   "outputs": [
    {
     "data": {
      "text/plain": [
       "True"
      ]
     },
     "execution_count": 16,
     "metadata": {},
     "output_type": "execute_result"
    }
   ],
   "source": [
    "first1 == second1"
   ]
  },
  {
   "cell_type": "markdown",
   "metadata": {},
   "source": [
    "\n",
    "|Initialization and Construction|\tDescription|\n",
    "|--|--|\n",
    "|`__new__`(cls, other)|\tTo get called in an object's instantiation.|\n",
    "|`__init__`(self, other)|\tTo get called by the __new__ method.|\n",
    "|`__del__`(self)|\tDestructor method.|"
   ]
  },
  {
   "cell_type": "markdown",
   "metadata": {},
   "source": [
    "|Unary operators and functions|\tDescription|\n",
    "|--|--|\n",
    "|`__pos__(self)`\t|To get called for unary positive e.g. +someobject.|\n",
    "|`__neg__(self)`\t|To get called for unary negative e.g. -someobject.|\n",
    "|`__abs__(self)`\t|To get called by built-in abs() function.|\n",
    "|`__invert__(self)`\t|To get called for inversion using the ~ operator.|\n",
    "|`__round__(self,n)`\t|To get called by built-in round() function.|\n",
    "|`__floor__(self)`\t|To get called by built-in math.floor() function.|\n",
    "|`__ceil__(self)`\t|To get called by built-in math.ceil() function.|\n",
    "|`__trunc__(self)`\t|To get called by built-in math.trunc() function.|"
   ]
  },
  {
   "cell_type": "markdown",
   "metadata": {},
   "source": [
    "|Augmented Assignment\t|Description|\n",
    "|--|--|\n",
    "|`__iadd__(self, other)`|\tTo get called on addition with assignment e.g. a +=b |\n",
    "|`__isub__(self, other)`| To get called on subtraction with assignment e.g. a -=b |\n",
    "|`__imul__(self, other)`|\tTo get called on multiplication with assignment e.g. a *=b |\n",
    "|`__ifloordiv__(self, other)`|\tTo get called on integer division with assignment e.g. a //=b |\n",
    "|`__idiv__(self, other)`|\tTo get called on division with assignment e.g. a /=b |\n",
    "|`__itruediv__(self, other)`|\tTo get called on true division with assignment|\n",
    "|`__imod__(self, other)`|\tTo get called on modulo with assignment e.g. a%=b|\n",
    "|`__ipow__(self, other)`|\tTo get called on exponentswith assignment e.g. a **=b |\n",
    "|`__ilshift__(self, other)`|\tTo get called on left bitwise shift with assignment e.g. a<<=b |\n",
    "|`__irshift__(self, other)`|\tTo get called on right bitwise shift with assignment e.g. a >>=b |\n",
    "|`__iand__(self, other)`|\tTo get called on bitwise AND with assignment e.g. a&=b |\n",
    "|`__ior__(self, other)`|\tTo get called on bitwise OR with assignment e.g. a|=b |\n",
    "|`__ixor__(self, other)`|\tTo get called on bitwise XOR with assignment e.g. a ^=b|"
   ]
  },
  {
   "cell_type": "markdown",
   "metadata": {},
   "source": [
    "|Type Conversion Magic Methods|\tDescription|\n",
    "|--|--|\n",
    "|`__int__(self)`|\tTo get called by built-int int() method to convert a type to an int|\n",
    "|`__float__(self)`|\tTo get called by built-int float() method to convert a type to float|\n",
    "|`__complex__(self)`|\tTo get called by built-int complex() method to convert a type to complex|\n",
    "|`__oct__(self)`|\tTo get called by built-int oct() method to convert a type to octal|\n",
    "|`__hex__(self)`|\tTo get called by built-int hex() method to convert a type to hexadecimal|\n",
    "|`__index__(self)`|\tTo get called on type conversion to an int when the object is used in a slice expression|\n",
    "|`__trunc__(self)`|\tTo get called from math.trunc() method|"
   ]
  },
  {
   "cell_type": "markdown",
   "metadata": {},
   "source": [
    "|String Magic Methods\t|Description|\n",
    "|--|--|\n",
    "|`__str__(self)` | To get called by built-int str() method to return a string representation of a type|\n",
    "|`__repr__(self)` | To get called by built-int repr() method to return a machine readable representation of a type|\n",
    "|`__unicode__(self)` | To get called by built-int unicode() method to return an unicode string of a type|\n",
    "|`__format__(self, formatstr)` | To get called by built-int string.format() method to return a new style of string|\n",
    "|`__hash__(self)` | To get called by built-int hash() method to return an integer|\n",
    "|`__nonzero__(self)` | To get called by built-int bool() method to return True or False|\n",
    "|`__dir__(self)` | To get called by built-int dir() method to return a list of attributes of a class|\n",
    "|`__sizeof__(self)` | To get called by built-int sys.getsizeof() method to return the size of an object|"
   ]
  },
  {
   "cell_type": "markdown",
   "metadata": {},
   "source": [
    "|Attribute Magic| Methods\tDescription|\n",
    "|--|--|\n",
    "|`__getattr__(self, name)`|\tIs called when the accessing attribute of a class that does not exist|\n",
    "|`__setattr__(self, name, value)`|\tIs called when assigning a value to the attribute of a class|\n",
    "|`__delattr__(self, name)`|\tIs called when deleting an attribute of a class|"
   ]
  },
  {
   "cell_type": "markdown",
   "metadata": {},
   "source": [
    "|Operator Magic Methods\t|Description|\n",
    "|--|--|\n",
    "|`__add__(self, other)`|\tTo get called on add operation using + operator|\n",
    "|`__sub__(self, other)`|\tTo get called on subtraction operation using - operator|\n",
    "|`__mul__(self, other)`|\tTo get called on multiplication operation using * operator|\n",
    "|`__floordiv__(self, other)`|\tTo get called on floor division operation using // operator|\n",
    "|`__truediv__(self, other)`|\tTo get called on division operation using / operator|\n",
    "|`__mod__(self, other)`|\tTo get called on modulo operation using % operator|\n",
    "|`__pow__(self, other[, modulo])`|\tTo get called on calculating the power using ** operator|\n",
    "|`__lt__(self, other)`|\tTo get called on comparison using < operator|\n",
    "|`__le__(self, other)`|\tTo get called on comparison using <= operator|\n",
    "|`__eq__(self, other)`|\tTo get called on comparison using == operator|\n",
    "|`__ne__(self, other)`|\tTo get called on comparison using != operator|\n",
    "|`__ge__(self, other)`|\tTo get called on comparison using >= operator|"
   ]
  },
  {
   "cell_type": "code",
   "execution_count": 17,
   "metadata": {},
   "outputs": [],
   "source": [
    "class Word():\n",
    "    def __init__(self, text):\n",
    "        self.text = text\n",
    "    def __eq__(self, word2):\n",
    "        return self.text.lower() == word2.text.lower()\n",
    "    def __str__(self):\n",
    "        return self.text\n",
    "    def __repr__(self):\n",
    "        return 'Word(\" ' + self.text + '\")'"
   ]
  },
  {
   "cell_type": "code",
   "execution_count": 18,
   "metadata": {},
   "outputs": [
    {
     "data": {
      "text/plain": [
       "Word(\" czesc\")"
      ]
     },
     "execution_count": 18,
     "metadata": {},
     "output_type": "execute_result"
    }
   ],
   "source": [
    "first = Word('czesc')\n",
    "first"
   ]
  },
  {
   "cell_type": "code",
   "execution_count": 20,
   "metadata": {},
   "outputs": [
    {
     "name": "stdout",
     "output_type": "stream",
     "text": [
      "czesc\n"
     ]
    }
   ],
   "source": [
    "print(first)"
   ]
  },
  {
   "cell_type": "code",
   "execution_count": 33,
   "metadata": {},
   "outputs": [],
   "source": [
    "# aggregating and composing classes\n",
    "\n",
    "class Bill():\n",
    "    def __init__(self, description):\n",
    "        self.description = description"
   ]
  },
  {
   "cell_type": "code",
   "execution_count": 34,
   "metadata": {},
   "outputs": [],
   "source": [
    "class Tail():\n",
    "    def __init__(self, lenght):\n",
    "        self.lenght = lenght"
   ]
  },
  {
   "cell_type": "code",
   "execution_count": 35,
   "metadata": {},
   "outputs": [],
   "source": [
    "class Duck():\n",
    "    def __init__(self, bill, tail):\n",
    "        self.bill = bill\n",
    "        self.tail = tail\n",
    "    def about(self):\n",
    "        print('kaczka ma: ', self.bill.description,\n",
    "        'dziob i ', self.tail.lenght, 'ogon')"
   ]
  },
  {
   "cell_type": "code",
   "execution_count": 36,
   "metadata": {},
   "outputs": [],
   "source": [
    "a_tail = Tail('dglugi')\n",
    "a_bill = Bill('zolty')"
   ]
  },
  {
   "cell_type": "code",
   "execution_count": 37,
   "metadata": {},
   "outputs": [
    {
     "name": "stdout",
     "output_type": "stream",
     "text": [
      "kaczka ma:  zolty dziob i  dglugi ogon\n"
     ]
    }
   ],
   "source": [
    "duck = Duck(a_bill, a_tail)\n",
    "duck.about()"
   ]
  },
  {
   "cell_type": "code",
   "execution_count": 43,
   "metadata": {},
   "outputs": [],
   "source": [
    "# named tuples\n",
    "\n",
    "from collections import namedtuple\n",
    "Duck = namedtuple('duck', 'bill tail')\n",
    "duck = Duck('zolty', 'dlugi')"
   ]
  },
  {
   "cell_type": "code",
   "execution_count": 44,
   "metadata": {},
   "outputs": [
    {
     "data": {
      "text/plain": [
       "duck(bill='zolty', tail='dlugi')"
      ]
     },
     "execution_count": 44,
     "metadata": {},
     "output_type": "execute_result"
    }
   ],
   "source": [
    "duck"
   ]
  },
  {
   "cell_type": "code",
   "execution_count": 45,
   "metadata": {},
   "outputs": [
    {
     "data": {
      "text/plain": [
       "'zolty'"
      ]
     },
     "execution_count": 45,
     "metadata": {},
     "output_type": "execute_result"
    }
   ],
   "source": [
    "duck.bill"
   ]
  },
  {
   "cell_type": "code",
   "execution_count": 46,
   "metadata": {},
   "outputs": [
    {
     "data": {
      "text/plain": [
       "'dlugi'"
      ]
     },
     "execution_count": 46,
     "metadata": {},
     "output_type": "execute_result"
    }
   ],
   "source": [
    "duck.tail"
   ]
  },
  {
   "cell_type": "code",
   "execution_count": 47,
   "metadata": {},
   "outputs": [],
   "source": [
    "# data class\n",
    "\n",
    "from dataclasses import dataclass\n",
    "@dataclass\n",
    "class TeenyDataClass:\n",
    "    name: str"
   ]
  },
  {
   "cell_type": "code",
   "execution_count": 48,
   "metadata": {},
   "outputs": [
    {
     "data": {
      "text/plain": [
       "'imie'"
      ]
     },
     "execution_count": 48,
     "metadata": {},
     "output_type": "execute_result"
    }
   ],
   "source": [
    "teeny = TeenyDataClass('imie')\n",
    "teeny.name"
   ]
  },
  {
   "cell_type": "markdown",
   "metadata": {},
   "source": [
    "# The One Python Library Everyone Needs\n",
    "\n",
    "[Link to article](https://glyph.twistedmatrix.com/2016/08/attrs.html)\n",
    "\n"
   ]
  },
  {
   "cell_type": "code",
   "execution_count": null,
   "metadata": {},
   "outputs": [],
   "source": []
  }
 ],
 "metadata": {
  "interpreter": {
   "hash": "7b0470897870f91c1d27568bf8346e85da46866cae942d918bd7f2b2e94e9a5a"
  },
  "kernelspec": {
   "display_name": "Python 3.10.0 64-bit",
   "language": "python",
   "name": "python3"
  },
  "language_info": {
   "codemirror_mode": {
    "name": "ipython",
    "version": 3
   },
   "file_extension": ".py",
   "mimetype": "text/x-python",
   "name": "python",
   "nbconvert_exporter": "python",
   "pygments_lexer": "ipython3",
   "version": "3.10.0"
  },
  "orig_nbformat": 4
 },
 "nbformat": 4,
 "nbformat_minor": 2
}
