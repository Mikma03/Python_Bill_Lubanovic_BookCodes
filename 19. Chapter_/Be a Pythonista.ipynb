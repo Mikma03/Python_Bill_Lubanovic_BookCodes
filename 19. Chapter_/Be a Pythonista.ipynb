{
 "cells": [
  {
   "cell_type": "code",
   "execution_count": 1,
   "metadata": {},
   "outputs": [
    {
     "name": "stdout",
     "output_type": "stream",
     "text": [
      "-40.000000 F => -40.000000 C\n",
      "0.000000 F => -17.777778 C\n",
      "32.000000 F => 0.000000 C\n",
      "100.000000 F => 37.777778 C\n",
      "212.000000 F => 100.000000 C\n"
     ]
    }
   ],
   "source": [
    "def ftoc(f_temp):\n",
    "    \"Convert Fahrenheit temperature <f_temp> to Celsius and return it.\"\n",
    "    f_boil_temp = 212.0\n",
    "    f_freeze_temp = 32.0\n",
    "    c_boil_temp = 100.0\n",
    "    c_freeze_temp = 0.0\n",
    "    f_range = f_boil_temp - f_freeze_temp\n",
    "    c_range = c_boil_temp - c_freeze_temp\n",
    "    f_c_ratio = c_range / f_range\n",
    "    c_temp = (f_temp - f_freeze_temp) * f_c_ratio + c_freeze_temp\n",
    "    return c_temp\n",
    "\n",
    "if __name__ == '__main__':\n",
    "    for f_temp in [-40.0, 0.0, 32.0, 100.0, 212.0]:\n",
    "        c_temp = ftoc(f_temp)\n",
    "        print('%f F => %f C' % (f_temp, c_temp))"
   ]
  },
  {
   "cell_type": "code",
   "execution_count": 2,
   "metadata": {},
   "outputs": [
    {
     "name": "stdout",
     "output_type": "stream",
     "text": [
      "-40.000000 F => -40.000000 C\n",
      "0.000000 F => -17.777778 C\n",
      "32.000000 F => 0.000000 C\n",
      "100.000000 F => 37.777778 C\n",
      "212.000000 F => 100.000000 C\n"
     ]
    }
   ],
   "source": [
    "# PEP 8\n",
    "\n",
    "F_BOIL_TEMP = 212.0\n",
    "F_FREEZE_TEMP = 32.0\n",
    "C_BOIL_TEMP = 100.0\n",
    "C_FREEZE_TEMP = 0.0\n",
    "F_RANGE = F_BOIL_TEMP - F_FREEZE_TEMP\n",
    "C_RANGE = C_BOIL_TEMP - C_FREEZE_TEMP\n",
    "F_C_RATIO = C_RANGE / F_RANGE\n",
    "\n",
    "def ftoc(f_temp):\n",
    "    \"Convert Fahrenheit temperature <f_temp> to Celsius and return it.\"\n",
    "    c_temp = (f_temp - F_FREEZE_TEMP) * F_C_RATIO + C_FREEZE_TEMP\n",
    "    return c_temp\n",
    "\n",
    "if __name__ == '__main__':\n",
    "    for f_temp in [-40.0, 0.0, 32.0, 100.0, 212.0]:\n",
    "        c_temp = ftoc(f_temp)\n",
    "        print('%f F => %f C' % (f_temp, c_temp))"
   ]
  },
  {
   "cell_type": "code",
   "execution_count": 7,
   "metadata": {},
   "outputs": [
    {
     "name": "stdout",
     "output_type": "stream",
     "text": [
      "0.0\n"
     ]
    }
   ],
   "source": [
    "from time import time\n",
    "\n",
    "t1 = time()\n",
    "num = 5\n",
    "num *= 2\n",
    "print(time() - t1)"
   ]
  },
  {
   "cell_type": "code",
   "execution_count": 6,
   "metadata": {},
   "outputs": [
    {
     "name": "stdout",
     "output_type": "stream",
     "text": [
      "1.003852367401123\n"
     ]
    }
   ],
   "source": [
    "from time import time, sleep\n",
    "\n",
    "t1 = time()\n",
    "sleep(1.0)\n",
    "print(time() - t1)"
   ]
  },
  {
   "cell_type": "code",
   "execution_count": 9,
   "metadata": {},
   "outputs": [
    {
     "name": "stdout",
     "output_type": "stream",
     "text": [
      "[3.998866304755211e-07, 1.00000761449337e-07, 1.00000761449337e-07, 1.00000761449337e-07, 1.00000761449337e-07, 1.00000761449337e-07, 1.00000761449337e-07, 1.00000761449337e-07, 1.00000761449337e-07, 1.00000761449337e-07]\n"
     ]
    }
   ],
   "source": [
    "from timeit import repeat\n",
    "print(repeat('num = 5; num *= 2', number=1, repeat=10))"
   ]
  },
  {
   "cell_type": "code",
   "execution_count": 10,
   "metadata": {},
   "outputs": [
    {
     "name": "stdout",
     "output_type": "stream",
     "text": [
      "1.0073\n"
     ]
    }
   ],
   "source": [
    "import time\n",
    "from timeit import timeit\n",
    "def snooze():\n",
    "    time.sleep(1)\n",
    "seconds = timeit('snooze()', globals=globals(), number=1)\n",
    "print(\"%.4f\" % seconds)"
   ]
  },
  {
   "cell_type": "code",
   "execution_count": 11,
   "metadata": {},
   "outputs": [
    {
     "name": "stdout",
     "output_type": "stream",
     "text": [
      "1.0114\n"
     ]
    }
   ],
   "source": [
    "import time\n",
    "def snooze():\n",
    "    time.sleep(1)\n",
    "def time_decorator(func):\n",
    "    def inner(*args, **kwargs):\n",
    "        t1 = time.time()\n",
    "        result = func(*args, **kwargs)\n",
    "        t2 = time.time()\n",
    "        print(f\"{(t2-t1):.4f}\")\n",
    "        return result\n",
    "    return inner\n",
    "@time_decorator\n",
    "def naptime():\n",
    "    snooze()\n",
    "naptime()"
   ]
  },
  {
   "cell_type": "code",
   "execution_count": 12,
   "metadata": {},
   "outputs": [
    {
     "name": "stdout",
     "output_type": "stream",
     "text": [
      "make_list_1 takes 0.052250799955800176 seconds\n",
      "make_list_2 takes 0.029369299998506904 seconds\n"
     ]
    }
   ],
   "source": [
    "from timeit import timeit\n",
    "\n",
    "def make_list_1():\n",
    "    result = []\n",
    "    for value in range(1000):\n",
    "        result.append(value)\n",
    "    return result\n",
    "\n",
    "def make_list_2():\n",
    "    result = [value for value in range(1000)]\n",
    "    return result\n",
    "\n",
    "print('make_list_1 takes', timeit(make_list_1, number=1000), 'seconds')\n",
    "print('make_list_2 takes', timeit(make_list_2, number=1000), 'seconds')"
   ]
  },
  {
   "cell_type": "code",
   "execution_count": null,
   "metadata": {},
   "outputs": [],
   "source": []
  }
 ],
 "metadata": {
  "interpreter": {
   "hash": "7b0470897870f91c1d27568bf8346e85da46866cae942d918bd7f2b2e94e9a5a"
  },
  "kernelspec": {
   "display_name": "Python 3.10.0 64-bit",
   "language": "python",
   "name": "python3"
  },
  "language_info": {
   "codemirror_mode": {
    "name": "ipython",
    "version": 3
   },
   "file_extension": ".py",
   "mimetype": "text/x-python",
   "name": "python",
   "nbconvert_exporter": "python",
   "pygments_lexer": "ipython3",
   "version": "3.10.0"
  },
  "orig_nbformat": 4
 },
 "nbformat": 4,
 "nbformat_minor": 2
}
