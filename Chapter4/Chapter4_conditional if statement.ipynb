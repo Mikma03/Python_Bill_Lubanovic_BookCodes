{
 "cells": [
  {
   "cell_type": "markdown",
   "metadata": {
    "collapsed": true,
    "pycharm": {
     "name": "#%% md\n"
    }
   },
   "source": [
    "## Additional characters"
   ]
  },
  {
   "cell_type": "code",
   "execution_count": 1,
   "outputs": [
    {
     "name": "stdout",
     "output_type": "stream",
     "text": [
      "Cudzysłów powoduje że znak # nie działą\n"
     ]
    }
   ],
   "source": [
    "print(\"Cudzysłów powoduje że znak # nie działą\")\n"
   ],
   "metadata": {
    "collapsed": false,
    "pycharm": {
     "name": "#%%\n"
    }
   }
  },
  {
   "cell_type": "markdown",
   "source": [
    "## Continuation sign"
   ],
   "metadata": {
    "collapsed": false,
    "pycharm": {
     "name": "#%% md\n"
    }
   }
  },
  {
   "cell_type": "code",
   "execution_count": 4,
   "outputs": [
    {
     "data": {
      "text/plain": "10"
     },
     "execution_count": 4,
     "metadata": {},
     "output_type": "execute_result"
    }
   ],
   "source": [
    "sum = 1 + \\\n",
    "      2 + \\\n",
    "      3 + \\\n",
    "      4\n",
    "sum"
   ],
   "metadata": {
    "collapsed": false,
    "pycharm": {
     "name": "#%%\n"
    }
   }
  },
  {
   "cell_type": "code",
   "execution_count": 6,
   "outputs": [
    {
     "data": {
      "text/plain": "83"
     },
     "execution_count": 6,
     "metadata": {},
     "output_type": "execute_result"
    }
   ],
   "source": [
    "sum = (\n",
    "    1+\n",
    "    2+\n",
    "    3+\n",
    "    77)\n",
    "sum"
   ],
   "metadata": {
    "collapsed": false,
    "pycharm": {
     "name": "#%%\n"
    }
   }
  },
  {
   "cell_type": "markdown",
   "source": [
    "## Instructions \"if\", \"elif\", \"else\""
   ],
   "metadata": {
    "collapsed": false,
    "pycharm": {
     "name": "#%% md\n"
    }
   }
  },
  {
   "cell_type": "code",
   "execution_count": 7,
   "outputs": [
    {
     "name": "stdout",
     "output_type": "stream",
     "text": [
      "Niedobrze\n"
     ]
    }
   ],
   "source": [
    "disaster = True\n",
    "if disaster:\n",
    "    print(\"Niedobrze\")\n",
    "else:\n",
    "    print(\"Dobrze\")"
   ],
   "metadata": {
    "collapsed": false,
    "pycharm": {
     "name": "#%%\n"
    }
   }
  },
  {
   "cell_type": "code",
   "execution_count": 8,
   "outputs": [
    {
     "name": "stdout",
     "output_type": "stream",
     "text": [
      "to jest yeti\n"
     ]
    }
   ],
   "source": [
    "furry = True\n",
    "large = True\n",
    "if furry:\n",
    "    if large:\n",
    "        print(\"to jest yeti\")\n",
    "    else:\n",
    "        print(\"to jest kot\")\n",
    "else:\n",
    "    if large:\n",
    "        print(\"to jest wieloryb\")\n",
    "    else:\n",
    "        print(\"to jest czlowiek\")"
   ],
   "metadata": {
    "collapsed": false,
    "pycharm": {
     "name": "#%%\n"
    }
   }
  },
  {
   "cell_type": "code",
   "execution_count": 9,
   "outputs": [
    {
     "name": "stdout",
     "output_type": "stream",
     "text": [
      "nie znam kolrou lawendowy\n"
     ]
    }
   ],
   "source": [
    "color = \"lawendowy\"\n",
    "if color == \"czerwony\":\n",
    "    print(\"to jest pomidor\")\n",
    "elif color == \"zielony\":\n",
    "    print(\"to jest ogorek\")\n",
    "elif color == \"ultrafioletowy\":\n",
    "    print(\"nie wiem co to jest\")\n",
    "else:\n",
    "    print(\"nie znam kolrou\", color)"
   ],
   "metadata": {
    "collapsed": false,
    "pycharm": {
     "name": "#%%\n"
    }
   }
  },
  {
   "cell_type": "markdown",
   "source": [
    "## Comparison operators\n",
    "\n",
    "|Operator|\tName\t|Example|\n",
    "| -- | -- | -- |\n",
    "|== |\tEqual|\tx == y\n",
    "|!=\t|Not equal|\tx != y\n",
    "|>\t|Greater than|\tx > y\n",
    "|<\t|Less than|\tx < y\n",
    "|>=\t|Greater than or equal to|\tx >= y\n",
    "|<=\t|Less than or equal to|\tx <= y"
   ],
   "metadata": {
    "collapsed": false,
    "pycharm": {
     "name": "#%% md\n"
    }
   }
  },
  {
   "cell_type": "code",
   "execution_count": 10,
   "outputs": [],
   "source": [
    "x = 55"
   ],
   "metadata": {
    "collapsed": false,
    "pycharm": {
     "name": "#%%\n"
    }
   }
  },
  {
   "cell_type": "code",
   "execution_count": 11,
   "outputs": [
    {
     "data": {
      "text/plain": "False"
     },
     "execution_count": 11,
     "metadata": {},
     "output_type": "execute_result"
    }
   ],
   "source": [
    "x == 8"
   ],
   "metadata": {
    "collapsed": false,
    "pycharm": {
     "name": "#%%\n"
    }
   }
  },
  {
   "cell_type": "code",
   "execution_count": 12,
   "outputs": [
    {
     "data": {
      "text/plain": "True"
     },
     "execution_count": 12,
     "metadata": {},
     "output_type": "execute_result"
    }
   ],
   "source": [
    "(5 < x) and (x < 100)"
   ],
   "metadata": {
    "collapsed": false,
    "pycharm": {
     "name": "#%%\n"
    }
   }
  },
  {
   "cell_type": "code",
   "execution_count": 15,
   "outputs": [
    {
     "data": {
      "text/plain": "False"
     },
     "execution_count": 15,
     "metadata": {},
     "output_type": "execute_result"
    }
   ],
   "source": [
    "bool(None)"
   ],
   "metadata": {
    "collapsed": false,
    "pycharm": {
     "name": "#%%\n"
    }
   }
  },
  {
   "cell_type": "markdown",
   "source": [
    "Treated as false in Python\n",
    "\n",
    "|Object| Symbol |\n",
    "| -- | -- |\n",
    "|no value | None |\n",
    "|integer zero | 0 |\n",
    "|real number zero | 0.0 |\n",
    "|empty string  | ' ' |\n",
    "| empty list| [] |\n",
    "|empty tuple | () |\n",
    "|empty dictionary| {} |\n",
    "|empty set | set() |"
   ],
   "metadata": {
    "collapsed": false,
    "pycharm": {
     "name": "#%% md\n"
    }
   }
  },
  {
   "cell_type": "code",
   "execution_count": 16,
   "outputs": [
    {
     "name": "stdout",
     "output_type": "stream",
     "text": [
      "ta lista jest pusta\n"
     ]
    }
   ],
   "source": [
    "some_list = []\n",
    "if some_list:\n",
    "    print(\"w tej liscie cos jest\")\n",
    "else:\n",
    "    print(\"ta lista jest pusta\")\n"
   ],
   "metadata": {
    "collapsed": false,
    "pycharm": {
     "name": "#%%\n"
    }
   }
  },
  {
   "cell_type": "markdown",
   "source": [
    "## Operator \"in\""
   ],
   "metadata": {
    "collapsed": false,
    "pycharm": {
     "name": "#%% md\n"
    }
   }
  },
  {
   "cell_type": "code",
   "execution_count": 23,
   "outputs": [
    {
     "data": {
      "text/plain": "True"
     },
     "execution_count": 23,
     "metadata": {},
     "output_type": "execute_result"
    }
   ],
   "source": [
    "vowels = 'aeiouy'\n",
    "letter = 'o'\n",
    "letter in vowels"
   ],
   "metadata": {
    "collapsed": false,
    "pycharm": {
     "name": "#%%\n"
    }
   }
  },
  {
   "cell_type": "code",
   "execution_count": 24,
   "outputs": [
    {
     "name": "stdout",
     "output_type": "stream",
     "text": [
      "o jest samogłoską\n"
     ]
    }
   ],
   "source": [
    "vowels = 'aeiouy'\n",
    "letter = 'o'\n",
    "if letter in vowels:\n",
    "    print(letter, 'jest samogłoską')"
   ],
   "metadata": {
    "collapsed": false,
    "pycharm": {
     "name": "#%%\n"
    }
   }
  },
  {
   "cell_type": "code",
   "execution_count": 25,
   "outputs": [
    {
     "data": {
      "text/plain": "True"
     },
     "execution_count": 25,
     "metadata": {},
     "output_type": "execute_result"
    }
   ],
   "source": [
    "letter = 'o'\n",
    "vowel_set = {'a', 'e', 'i', 'o', 'u', 'y'}\n",
    "letter in vowel_set"
   ],
   "metadata": {
    "collapsed": false,
    "pycharm": {
     "name": "#%%\n"
    }
   }
  },
  {
   "cell_type": "code",
   "execution_count": 26,
   "outputs": [
    {
     "data": {
      "text/plain": "True"
     },
     "execution_count": 26,
     "metadata": {},
     "output_type": "execute_result"
    }
   ],
   "source": [
    "vowel_list = [ 'a', 'e', 'i', 'o', 'u', 'y']\n",
    "letter in vowel_list"
   ],
   "metadata": {
    "collapsed": false,
    "pycharm": {
     "name": "#%%\n"
    }
   }
  },
  {
   "cell_type": "markdown",
   "source": [
    "## Operator \"walrus\""
   ],
   "metadata": {
    "collapsed": false,
    "pycharm": {
     "name": "#%% md\n"
    }
   }
  },
  {
   "cell_type": "code",
   "execution_count": 29,
   "outputs": [
    {
     "name": "stdout",
     "output_type": "stream",
     "text": [
      "tweet za dlugi o 320 znakow\n"
     ]
    }
   ],
   "source": [
    "# befor using operator\n",
    "\n",
    "tweet_limit = 280\n",
    "tweet_string = \"cosssswwwwww\" * 50\n",
    "diff = tweet_limit - len(tweet_string)\n",
    "if diff >= 0:\n",
    "    print(\"dobry tweet\")\n",
    "else:\n",
    "    print(\"tweet za dlugi o\", abs(diff), \"znakow\")"
   ],
   "metadata": {
    "collapsed": false,
    "pycharm": {
     "name": "#%%\n"
    }
   }
  },
  {
   "cell_type": "code",
   "execution_count": 33,
   "outputs": [
    {
     "name": "stdout",
     "output_type": "stream",
     "text": [
      "dobry tweet\n"
     ]
    }
   ],
   "source": [
    "# after using new operator\n",
    "\n",
    "tweet_limit = 280\n",
    "tweet_string = \"cos\" * 50\n",
    "if diff := tweet_limit - len(tweet_string) >= 0:\n",
    "    print(\"dobry tweet\")\n",
    "else:\n",
    "    print(\"tweet za dlugi o\", abs(diff), \"znakow\")\n"
   ],
   "metadata": {
    "collapsed": false,
    "pycharm": {
     "name": "#%%\n"
    }
   }
  },
  {
   "cell_type": "markdown",
   "source": [
    "More about walrus operator: https://www.python.org/dev/peps/pep-0572/\n"
   ],
   "metadata": {
    "collapsed": false,
    "pycharm": {
     "name": "#%% md\n"
    }
   }
  },
  {
   "cell_type": "code",
   "execution_count": null,
   "outputs": [],
   "source": [],
   "metadata": {
    "collapsed": false,
    "pycharm": {
     "name": "#%%\n"
    }
   }
  }
 ],
 "metadata": {
  "kernelspec": {
   "display_name": "Python 3",
   "language": "python",
   "name": "python3"
  },
  "language_info": {
   "codemirror_mode": {
    "name": "ipython",
    "version": 2
   },
   "file_extension": ".py",
   "mimetype": "text/x-python",
   "name": "python",
   "nbconvert_exporter": "python",
   "pygments_lexer": "ipython2",
   "version": "2.7.6"
  }
 },
 "nbformat": 4,
 "nbformat_minor": 0
}