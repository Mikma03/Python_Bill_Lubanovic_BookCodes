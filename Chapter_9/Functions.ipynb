{
 "cells": [
  {
   "cell_type": "markdown",
   "metadata": {},
   "source": [
    "# The ninth chapter from Bill Lubanovic's book"
   ]
  },
  {
   "cell_type": "code",
   "execution_count": 1,
   "metadata": {},
   "outputs": [],
   "source": [
    "# the simplest function\n",
    "\n",
    "def do_nothing():\n",
    "    pass"
   ]
  },
  {
   "cell_type": "code",
   "execution_count": 2,
   "metadata": {},
   "outputs": [],
   "source": [
    "do_nothing()"
   ]
  },
  {
   "cell_type": "code",
   "execution_count": 23,
   "metadata": {},
   "outputs": [
    {
     "name": "stdout",
     "output_type": "stream",
     "text": [
      "None\n"
     ]
    }
   ],
   "source": [
    "print(do_nothing())"
   ]
  },
  {
   "cell_type": "code",
   "execution_count": 3,
   "metadata": {},
   "outputs": [],
   "source": [
    "def make_a_sound():\n",
    "    print('hej')"
   ]
  },
  {
   "cell_type": "code",
   "execution_count": 4,
   "metadata": {},
   "outputs": [
    {
     "name": "stdout",
     "output_type": "stream",
     "text": [
      "hej\n"
     ]
    }
   ],
   "source": [
    "make_a_sound()"
   ]
  },
  {
   "cell_type": "code",
   "execution_count": 5,
   "metadata": {},
   "outputs": [],
   "source": [
    "def agree():\n",
    "    return True"
   ]
  },
  {
   "cell_type": "code",
   "execution_count": 7,
   "metadata": {},
   "outputs": [
    {
     "data": {
      "text/plain": [
       "True"
      ]
     },
     "execution_count": 7,
     "metadata": {},
     "output_type": "execute_result"
    }
   ],
   "source": [
    "agree()"
   ]
  },
  {
   "cell_type": "code",
   "execution_count": 9,
   "metadata": {},
   "outputs": [
    {
     "name": "stdout",
     "output_type": "stream",
     "text": [
      "super\n"
     ]
    }
   ],
   "source": [
    "if agree() == True:\n",
    "    print('super')\n",
    "else:\n",
    "    print('suprise')"
   ]
  },
  {
   "cell_type": "code",
   "execution_count": 12,
   "metadata": {},
   "outputs": [],
   "source": [
    "def echo (cos):\n",
    "    return cos + ' ' + cos\n"
   ]
  },
  {
   "cell_type": "code",
   "execution_count": 13,
   "metadata": {},
   "outputs": [
    {
     "data": {
      "text/plain": [
       "'test test'"
      ]
     },
     "execution_count": 13,
     "metadata": {},
     "output_type": "execute_result"
    }
   ],
   "source": [
    "echo ('test')"
   ]
  },
  {
   "cell_type": "code",
   "execution_count": 18,
   "metadata": {},
   "outputs": [],
   "source": [
    "def commentary(color):\n",
    "    if color =='czerwony':\n",
    "        return 'to jest pomidor'\n",
    "    elif color == 'zielony':\n",
    "        return 'to jest ogor'\n",
    "    elif color == 'ultrafiolet':\n",
    "        return 'nie wiem co to'\n",
    "    else:\n",
    "        return 'nie znam tego ' + color + \".\""
   ]
  },
  {
   "cell_type": "code",
   "execution_count": 19,
   "metadata": {},
   "outputs": [],
   "source": [
    "wywolanie = commentary('niebieski')"
   ]
  },
  {
   "cell_type": "code",
   "execution_count": 20,
   "metadata": {},
   "outputs": [
    {
     "name": "stdout",
     "output_type": "stream",
     "text": [
      "nie znam tego niebieski.\n"
     ]
    }
   ],
   "source": [
    "print(wywolanie)"
   ]
  },
  {
   "cell_type": "code",
   "execution_count": 30,
   "metadata": {},
   "outputs": [
    {
     "name": "stdout",
     "output_type": "stream",
     "text": [
      "brak\n"
     ]
    }
   ],
   "source": [
    "# None\n",
    "\n",
    "thing = None\n",
    "if thing:\n",
    "    print('jaksś wartość')\n",
    "else:\n",
    "    print('brak')"
   ]
  },
  {
   "cell_type": "code",
   "execution_count": 31,
   "metadata": {},
   "outputs": [],
   "source": [
    "def whatis(thing):\n",
    "    if thing is None:\n",
    "        print(thing, 'to None')\n",
    "    elif thing:\n",
    "        print(thing, 'to True')\n",
    "    else:\n",
    "        print(thing, 'To False')"
   ]
  },
  {
   "cell_type": "code",
   "execution_count": 32,
   "metadata": {},
   "outputs": [
    {
     "name": "stdout",
     "output_type": "stream",
     "text": [
      "None to None\n"
     ]
    }
   ],
   "source": [
    "whatis(None)"
   ]
  },
  {
   "cell_type": "code",
   "execution_count": 33,
   "metadata": {},
   "outputs": [
    {
     "name": "stdout",
     "output_type": "stream",
     "text": [
      "True to True\n"
     ]
    }
   ],
   "source": [
    "whatis(True)"
   ]
  },
  {
   "cell_type": "code",
   "execution_count": 34,
   "metadata": {},
   "outputs": [
    {
     "name": "stdout",
     "output_type": "stream",
     "text": [
      "False To False\n"
     ]
    }
   ],
   "source": [
    "whatis(False)"
   ]
  },
  {
   "cell_type": "code",
   "execution_count": 35,
   "metadata": {},
   "outputs": [
    {
     "name": "stdout",
     "output_type": "stream",
     "text": [
      "0 To False\n"
     ]
    }
   ],
   "source": [
    "whatis(0)"
   ]
  },
  {
   "cell_type": "code",
   "execution_count": 36,
   "metadata": {},
   "outputs": [
    {
     "name": "stdout",
     "output_type": "stream",
     "text": [
      "set() To False\n"
     ]
    }
   ],
   "source": [
    "whatis(set())"
   ]
  },
  {
   "cell_type": "code",
   "execution_count": 38,
   "metadata": {},
   "outputs": [
    {
     "name": "stdout",
     "output_type": "stream",
     "text": [
      "{1, 2, 3} to True\n"
     ]
    }
   ],
   "source": [
    "whatis(set({1,2,3}))"
   ]
  },
  {
   "cell_type": "code",
   "execution_count": 39,
   "metadata": {},
   "outputs": [],
   "source": [
    "def menu(wine, entree, dessert):\n",
    "    return {'wino': wine, 'danie glowne': entree, 'deser': dessert}"
   ]
  },
  {
   "cell_type": "code",
   "execution_count": 40,
   "metadata": {},
   "outputs": [
    {
     "data": {
      "text/plain": [
       "{'wino': 'chardonay', 'danie glowne': 'kurczak', 'deser': 'ciasto'}"
      ]
     },
     "execution_count": 40,
     "metadata": {},
     "output_type": "execute_result"
    }
   ],
   "source": [
    "menu('chardonay', 'kurczak', 'ciasto')"
   ]
  },
  {
   "cell_type": "code",
   "execution_count": 41,
   "metadata": {},
   "outputs": [
    {
     "data": {
      "text/plain": [
       "{'wino': 'bordaux', 'danie glowne': 'pieczen', 'deser': 'bajgiel'}"
      ]
     },
     "execution_count": 41,
     "metadata": {},
     "output_type": "execute_result"
    }
   ],
   "source": [
    "menu(entree='pieczen', dessert='bajgiel', wine='bordaux')"
   ]
  },
  {
   "cell_type": "code",
   "execution_count": 42,
   "metadata": {},
   "outputs": [],
   "source": [
    "def menu(wine, entree, dessert='budyn'):\n",
    "    return {'wino': wine, 'danie glowne': entree, 'deser': dessert}"
   ]
  },
  {
   "cell_type": "code",
   "execution_count": 43,
   "metadata": {},
   "outputs": [
    {
     "data": {
      "text/plain": [
       "{'wino': 'chardonee', 'danie glowne': 'kurczak', 'deser': 'budyn'}"
      ]
     },
     "execution_count": 43,
     "metadata": {},
     "output_type": "execute_result"
    }
   ],
   "source": [
    "menu('chardonee', 'kurczak')"
   ]
  },
  {
   "cell_type": "code",
   "execution_count": 44,
   "metadata": {},
   "outputs": [
    {
     "data": {
      "text/plain": [
       "{'wino': 'chardonay', 'danie glowne': 'pieczen', 'deser': 'paczek'}"
      ]
     },
     "execution_count": 44,
     "metadata": {},
     "output_type": "execute_result"
    }
   ],
   "source": [
    "menu('chardonay', 'pieczen', 'paczek')"
   ]
  },
  {
   "cell_type": "code",
   "execution_count": 45,
   "metadata": {},
   "outputs": [],
   "source": [
    "def works(arg):\n",
    "    result = []\n",
    "    result.append(arg)\n",
    "    return result"
   ]
  },
  {
   "cell_type": "code",
   "execution_count": 46,
   "metadata": {},
   "outputs": [
    {
     "data": {
      "text/plain": [
       "['a']"
      ]
     },
     "execution_count": 46,
     "metadata": {},
     "output_type": "execute_result"
    }
   ],
   "source": [
    "works('a')"
   ]
  },
  {
   "cell_type": "code",
   "execution_count": 47,
   "metadata": {},
   "outputs": [
    {
     "data": {
      "text/plain": [
       "['b']"
      ]
     },
     "execution_count": 47,
     "metadata": {},
     "output_type": "execute_result"
    }
   ],
   "source": [
    "works('b')"
   ]
  },
  {
   "cell_type": "code",
   "execution_count": 48,
   "metadata": {},
   "outputs": [],
   "source": [
    "def nonbugg(arg, result=None):\n",
    "    if result is None:\n",
    "        result = []\n",
    "    result.append(arg)\n",
    "    print(result)"
   ]
  },
  {
   "cell_type": "code",
   "execution_count": 49,
   "metadata": {},
   "outputs": [
    {
     "name": "stdout",
     "output_type": "stream",
     "text": [
      "['a']\n"
     ]
    }
   ],
   "source": [
    "nonbugg('a')"
   ]
  },
  {
   "cell_type": "code",
   "execution_count": 50,
   "metadata": {},
   "outputs": [
    {
     "name": "stdout",
     "output_type": "stream",
     "text": [
      "['acacca']\n"
     ]
    }
   ],
   "source": [
    "nonbugg('acacca')"
   ]
  },
  {
   "cell_type": "code",
   "execution_count": 51,
   "metadata": {},
   "outputs": [],
   "source": [
    "def print_args(*args):\n",
    "    print('krotka z argumentami pozycyjnymi: ', args)"
   ]
  },
  {
   "cell_type": "code",
   "execution_count": 52,
   "metadata": {},
   "outputs": [
    {
     "name": "stdout",
     "output_type": "stream",
     "text": [
      "krotka z argumentami pozycyjnymi:  ()\n"
     ]
    }
   ],
   "source": [
    "print_args()"
   ]
  },
  {
   "cell_type": "code",
   "execution_count": 53,
   "metadata": {},
   "outputs": [
    {
     "name": "stdout",
     "output_type": "stream",
     "text": [
      "krotka z argumentami pozycyjnymi:  (3, 4, 'raz', 'dwa')\n"
     ]
    }
   ],
   "source": [
    "print_args(3,4, 'raz', 'dwa')"
   ]
  },
  {
   "cell_type": "code",
   "execution_count": 54,
   "metadata": {},
   "outputs": [],
   "source": [
    "def print_kwargs(**kwargs):\n",
    "    print('Nazwane argumenty: ', kwargs)"
   ]
  },
  {
   "cell_type": "code",
   "execution_count": 55,
   "metadata": {},
   "outputs": [
    {
     "name": "stdout",
     "output_type": "stream",
     "text": [
      "Nazwane argumenty:  {}\n"
     ]
    }
   ],
   "source": [
    "print_kwargs()"
   ]
  },
  {
   "cell_type": "code",
   "execution_count": 56,
   "metadata": {},
   "outputs": [
    {
     "name": "stdout",
     "output_type": "stream",
     "text": [
      "Nazwane argumenty:  {'wine': 'merlot', 'entree': 'baranica'}\n"
     ]
    }
   ],
   "source": [
    "print_kwargs(wine='merlot',entree='baranica')"
   ]
  },
  {
   "cell_type": "code",
   "execution_count": 61,
   "metadata": {},
   "outputs": [],
   "source": [
    "def print_data(data, *, start=0, end=100):\n",
    "    for value in (data[start:end]):\n",
    "        print(value)"
   ]
  },
  {
   "cell_type": "code",
   "execution_count": 62,
   "metadata": {},
   "outputs": [
    {
     "name": "stdout",
     "output_type": "stream",
     "text": [
      "a\n",
      "b\n",
      "c\n"
     ]
    }
   ],
   "source": [
    "data = ['a', 'b', 'c']\n",
    "print_data(data)"
   ]
  },
  {
   "cell_type": "code",
   "execution_count": 1,
   "metadata": {},
   "outputs": [],
   "source": [
    "# mutable arguments\n",
    "\n",
    "outside = ['jaki', 'piekny', 'dzien']\n",
    "def mangle(arg):\n",
    "    arg[1] = 'okropny'"
   ]
  },
  {
   "cell_type": "code",
   "execution_count": 2,
   "metadata": {},
   "outputs": [
    {
     "data": {
      "text/plain": [
       "['jaki', 'piekny', 'dzien']"
      ]
     },
     "execution_count": 2,
     "metadata": {},
     "output_type": "execute_result"
    }
   ],
   "source": [
    "outside"
   ]
  },
  {
   "cell_type": "code",
   "execution_count": 3,
   "metadata": {},
   "outputs": [
    {
     "data": {
      "text/plain": [
       "['jaki', 'okropny', 'dzien']"
      ]
     },
     "execution_count": 3,
     "metadata": {},
     "output_type": "execute_result"
    }
   ],
   "source": [
    "mangle(outside)\n",
    "outside"
   ]
  },
  {
   "cell_type": "code",
   "execution_count": 4,
   "metadata": {},
   "outputs": [],
   "source": [
    "# comments in code structure\n",
    "\n",
    "def print_if_true(thing, check):\n",
    "    '''\n",
    "    Funkcja wyświetla pierwszy agrument, jezeli drugi ma wartość True.as_integer_ratio\n",
    "    Funckaj działa w nasyępujący sposób:\n",
    "    1. Sprawdza, czy *drugi* argument ma wartość True.\n",
    "    2. Jeżęli tak, wyświetla *pierwszy* argument.\n",
    "    '''\n",
    "    if check:\n",
    "        print(thing)"
   ]
  },
  {
   "cell_type": "code",
   "execution_count": 5,
   "metadata": {},
   "outputs": [
    {
     "name": "stdout",
     "output_type": "stream",
     "text": [
      "Help on function print_if_true in module __main__:\n",
      "\n",
      "print_if_true(thing, check)\n",
      "    Funkcja wyświetla pierwszy agrument, jezeli drugi ma wartość True.as_integer_ratio\n",
      "    Funckaj działa w nasyępujący sposób:\n",
      "    1. Sprawdza, czy *drugi* argument ma wartość True.\n",
      "    2. Jeżęli tak, wyświetla *pierwszy* argument.\n",
      "\n"
     ]
    }
   ],
   "source": [
    "# to display comment in code structure\n",
    "\n",
    "help(print_if_true)"
   ]
  },
  {
   "cell_type": "code",
   "execution_count": 7,
   "metadata": {},
   "outputs": [],
   "source": [
    "def answer():\n",
    "    print(42)"
   ]
  },
  {
   "cell_type": "code",
   "execution_count": 9,
   "metadata": {},
   "outputs": [
    {
     "name": "stdout",
     "output_type": "stream",
     "text": [
      "42\n"
     ]
    }
   ],
   "source": [
    "answer()"
   ]
  },
  {
   "cell_type": "code",
   "execution_count": 10,
   "metadata": {},
   "outputs": [],
   "source": [
    "def add_args(arg1, arg2):\n",
    "    print(arg1 + arg2)\n"
   ]
  },
  {
   "cell_type": "code",
   "execution_count": 11,
   "metadata": {},
   "outputs": [
    {
     "data": {
      "text/plain": [
       "function"
      ]
     },
     "execution_count": 11,
     "metadata": {},
     "output_type": "execute_result"
    }
   ],
   "source": [
    "type(add_args)"
   ]
  },
  {
   "cell_type": "code",
   "execution_count": 12,
   "metadata": {},
   "outputs": [],
   "source": [
    "def run_smotehing_with_args(func, arg1, arg2):\n",
    "    func(arg1, arg2)\n",
    "\n"
   ]
  },
  {
   "cell_type": "code",
   "execution_count": 13,
   "metadata": {},
   "outputs": [
    {
     "name": "stdout",
     "output_type": "stream",
     "text": [
      "105\n"
     ]
    }
   ],
   "source": [
    "run_smotehing_with_args(add_args, 6, 99)"
   ]
  },
  {
   "cell_type": "code",
   "execution_count": 15,
   "metadata": {},
   "outputs": [],
   "source": [
    "# using *args & **kwargs\n",
    "\n",
    "def sum_args(*args):\n",
    "    return sum(args)\n"
   ]
  },
  {
   "cell_type": "code",
   "execution_count": 16,
   "metadata": {},
   "outputs": [],
   "source": [
    "def run_with_positional_args(func, *args):\n",
    "    return func(*args)\n"
   ]
  },
  {
   "cell_type": "code",
   "execution_count": 18,
   "metadata": {},
   "outputs": [
    {
     "data": {
      "text/plain": [
       "10"
      ]
     },
     "execution_count": 18,
     "metadata": {},
     "output_type": "execute_result"
    }
   ],
   "source": [
    "run_with_positional_args(sum_args, 1, 2, 3, 4)"
   ]
  },
  {
   "cell_type": "code",
   "execution_count": 19,
   "metadata": {},
   "outputs": [],
   "source": [
    "# function inside function\n",
    "\n",
    "def outer(a, b):\n",
    "    def inner(c, d):\n",
    "        return c + d\n",
    "    return inner(a, b)"
   ]
  },
  {
   "cell_type": "code",
   "execution_count": 20,
   "metadata": {},
   "outputs": [
    {
     "data": {
      "text/plain": [
       "86"
      ]
     },
     "execution_count": 20,
     "metadata": {},
     "output_type": "execute_result"
    }
   ],
   "source": [
    "outer(54, 32)"
   ]
  },
  {
   "cell_type": "code",
   "execution_count": 21,
   "metadata": {},
   "outputs": [],
   "source": [
    "# clocures\n",
    "\n",
    "def knights2(saying):\n",
    "    def inner2():\n",
    "        return \"jestesmy programistami, ktorzy mowia : '%s'\" % saying\n",
    "    return inner2"
   ]
  },
  {
   "cell_type": "code",
   "execution_count": 22,
   "metadata": {},
   "outputs": [],
   "source": [
    "a = knights2('cos cos cos')\n",
    "b = knights2('przyklad przyklad')"
   ]
  },
  {
   "cell_type": "code",
   "execution_count": 23,
   "metadata": {},
   "outputs": [
    {
     "data": {
      "text/plain": [
       "function"
      ]
     },
     "execution_count": 23,
     "metadata": {},
     "output_type": "execute_result"
    }
   ],
   "source": [
    "type(a)"
   ]
  },
  {
   "cell_type": "code",
   "execution_count": 24,
   "metadata": {},
   "outputs": [
    {
     "data": {
      "text/plain": [
       "function"
      ]
     },
     "execution_count": 24,
     "metadata": {},
     "output_type": "execute_result"
    }
   ],
   "source": [
    "type(b)"
   ]
  },
  {
   "cell_type": "code",
   "execution_count": 25,
   "metadata": {},
   "outputs": [
    {
     "data": {
      "text/plain": [
       "<function __main__.knights2.<locals>.inner2()>"
      ]
     },
     "execution_count": 25,
     "metadata": {},
     "output_type": "execute_result"
    }
   ],
   "source": [
    "a"
   ]
  },
  {
   "cell_type": "code",
   "execution_count": 26,
   "metadata": {},
   "outputs": [
    {
     "data": {
      "text/plain": [
       "<function __main__.knights2.<locals>.inner2()>"
      ]
     },
     "execution_count": 26,
     "metadata": {},
     "output_type": "execute_result"
    }
   ],
   "source": [
    "b"
   ]
  },
  {
   "cell_type": "code",
   "execution_count": 27,
   "metadata": {},
   "outputs": [],
   "source": [
    "# lambda expression\n",
    "\n",
    "def edit_story(words, func):\n",
    "    for word in words:\n",
    "        print(func(word))"
   ]
  },
  {
   "cell_type": "code",
   "execution_count": 28,
   "metadata": {},
   "outputs": [],
   "source": [
    "stairs = ['raz', 'dwa', 'trzy']"
   ]
  },
  {
   "cell_type": "code",
   "execution_count": 29,
   "metadata": {},
   "outputs": [],
   "source": [
    "def enliven(word):\n",
    "    return word.capitalize() + '!'"
   ]
  },
  {
   "cell_type": "code",
   "execution_count": 30,
   "metadata": {},
   "outputs": [
    {
     "name": "stdout",
     "output_type": "stream",
     "text": [
      "Raz!\n",
      "Dwa!\n",
      "Trzy!\n"
     ]
    }
   ],
   "source": [
    "edit_story(stairs, enliven)"
   ]
  },
  {
   "cell_type": "code",
   "execution_count": 34,
   "metadata": {},
   "outputs": [
    {
     "name": "stdout",
     "output_type": "stream",
     "text": [
      "Raz!\n",
      "Dwa!\n",
      "Trzy!\n"
     ]
    }
   ],
   "source": [
    "edit_story(stairs, lambda word: word.capitalize() + '!')"
   ]
  },
  {
   "cell_type": "code",
   "execution_count": 2,
   "metadata": {},
   "outputs": [],
   "source": [
    "# generator function\n",
    "\n",
    "def my_range(first=0, last=10, step=1):\n",
    "    number = first\n",
    "    while number < last:\n",
    "        yield number\n",
    "        number += step\n"
   ]
  },
  {
   "cell_type": "code",
   "execution_count": 3,
   "metadata": {},
   "outputs": [
    {
     "data": {
      "text/plain": [
       "<function __main__.my_range(first=0, last=10, step=1)>"
      ]
     },
     "execution_count": 3,
     "metadata": {},
     "output_type": "execute_result"
    }
   ],
   "source": [
    "my_range"
   ]
  },
  {
   "cell_type": "code",
   "execution_count": 10,
   "metadata": {},
   "outputs": [
    {
     "data": {
      "text/plain": [
       "<generator object my_range at 0x000001E0BAF092A0>"
      ]
     },
     "execution_count": 10,
     "metadata": {},
     "output_type": "execute_result"
    }
   ],
   "source": [
    "ranger = my_range(1, 8)\n",
    "ranger"
   ]
  },
  {
   "cell_type": "code",
   "execution_count": 11,
   "metadata": {},
   "outputs": [
    {
     "name": "stdout",
     "output_type": "stream",
     "text": [
      "1\n",
      "2\n",
      "3\n",
      "4\n",
      "5\n",
      "6\n",
      "7\n"
     ]
    }
   ],
   "source": [
    "for x in ranger:\n",
    "    print(x)"
   ]
  },
  {
   "cell_type": "code",
   "execution_count": 16,
   "metadata": {},
   "outputs": [],
   "source": [
    "# decorators\n",
    "\n",
    "def document_it(func):\n",
    "    def new_function(*args, **kwargs):\n",
    "        print('nazwa funkcji: ', func.__name__)\n",
    "        print('Argument pozycjyjny: ', args)\n",
    "        print('argument nazwany:', kwargs)\n",
    "        result = func(*args, **kwargs)\n",
    "        print('wynik: ', result)\n",
    "    return new_function"
   ]
  },
  {
   "cell_type": "code",
   "execution_count": 17,
   "metadata": {},
   "outputs": [],
   "source": [
    "def add_inst(a,b):\n",
    "    return a + b"
   ]
  },
  {
   "cell_type": "code",
   "execution_count": 18,
   "metadata": {},
   "outputs": [
    {
     "data": {
      "text/plain": [
       "8"
      ]
     },
     "execution_count": 18,
     "metadata": {},
     "output_type": "execute_result"
    }
   ],
   "source": [
    "add_inst(3, 5)"
   ]
  },
  {
   "cell_type": "code",
   "execution_count": 19,
   "metadata": {},
   "outputs": [
    {
     "name": "stdout",
     "output_type": "stream",
     "text": [
      "nazwa funkcji:  add_inst\n",
      "Argument pozycjyjny:  (5, 5)\n",
      "argument nazwany: {}\n",
      "wynik:  10\n"
     ]
    }
   ],
   "source": [
    "cooler_add_inst = document_it(add_inst)\n",
    "cooler_add_inst(5, 5)"
   ]
  },
  {
   "cell_type": "code",
   "execution_count": 20,
   "metadata": {},
   "outputs": [],
   "source": [
    "@document_it\n",
    "def add_inst(a, b):\n",
    "    return a + b\n"
   ]
  },
  {
   "cell_type": "code",
   "execution_count": 21,
   "metadata": {},
   "outputs": [
    {
     "name": "stdout",
     "output_type": "stream",
     "text": [
      "nazwa funkcji:  add_inst\n",
      "Argument pozycjyjny:  (4, 6)\n",
      "argument nazwany: {}\n",
      "wynik:  10\n"
     ]
    }
   ],
   "source": [
    "add_inst(4, 6)"
   ]
  },
  {
   "cell_type": "code",
   "execution_count": 28,
   "metadata": {},
   "outputs": [],
   "source": [
    "# global variable\n",
    "\n",
    "animal = 'kot'\n"
   ]
  },
  {
   "cell_type": "code",
   "execution_count": 29,
   "metadata": {},
   "outputs": [],
   "source": [
    "def change_and_print_global():\n",
    "    global animal \n",
    "    animal = 'pies'\n",
    "    print('wartosc wewnatrz funckji change_and_print_global: ', animal)\n"
   ]
  },
  {
   "cell_type": "code",
   "execution_count": 30,
   "metadata": {},
   "outputs": [
    {
     "data": {
      "text/plain": [
       "'kot'"
      ]
     },
     "execution_count": 30,
     "metadata": {},
     "output_type": "execute_result"
    }
   ],
   "source": [
    "animal"
   ]
  },
  {
   "cell_type": "code",
   "execution_count": 31,
   "metadata": {},
   "outputs": [
    {
     "name": "stdout",
     "output_type": "stream",
     "text": [
      "wartosc wewnatrz funckji change_and_print_global:  pies\n"
     ]
    }
   ],
   "source": [
    "change_and_print_global()"
   ]
  },
  {
   "cell_type": "code",
   "execution_count": 33,
   "metadata": {},
   "outputs": [],
   "source": [
    "# locals() & globals()\n",
    "\n",
    "animal = 'kot'"
   ]
  },
  {
   "cell_type": "code",
   "execution_count": 35,
   "metadata": {},
   "outputs": [],
   "source": [
    "def change_local():\n",
    "    animal = 'pies'\n",
    "    print('nazwy lokalne: ', locals())"
   ]
  },
  {
   "cell_type": "code",
   "execution_count": 36,
   "metadata": {},
   "outputs": [
    {
     "data": {
      "text/plain": [
       "'kot'"
      ]
     },
     "execution_count": 36,
     "metadata": {},
     "output_type": "execute_result"
    }
   ],
   "source": [
    "animal"
   ]
  },
  {
   "cell_type": "code",
   "execution_count": 37,
   "metadata": {},
   "outputs": [
    {
     "name": "stdout",
     "output_type": "stream",
     "text": [
      "nazwy lokalne:  {'animal': 'pies'}\n"
     ]
    }
   ],
   "source": [
    "change_local()"
   ]
  },
  {
   "cell_type": "code",
   "execution_count": 38,
   "metadata": {},
   "outputs": [
    {
     "name": "stdout",
     "output_type": "stream",
     "text": [
      "nazwy globalne:  {'__name__': '__main__', '__doc__': 'Automatically created module for IPython interactive environment', '__package__': None, '__loader__': None, '__spec__': None, '__builtin__': <module 'builtins' (built-in)>, '__builtins__': <module 'builtins' (built-in)>, '_ih': ['', 'ranger = my_range(1, 8**6)\\nranger', '# generator function\\n\\ndef my_range(first=0, last=10, step=1):\\n    number = first\\n    while number < last:\\n        yield number\\n        number += step', 'my_range', 'ranger = my_range(1, 8**6)\\nranger', 'for x in ranger:\\n    print(x)', 'x = 8*8*8*8*8*8', 'print(x)', 'x = 8*8*8*8*8*8*8', 'print(x)', 'ranger = my_range(1, 8)\\nranger', 'for x in ranger:\\n    print(x)', \"# decorators\\n\\ndef document_it(func):\\n    def new_function(*args, **kwargs):\\n        print('nazwa funkcji: ', func._name_)\\n        print('Argument pozycjyjny: ', args)\\n        print('argument nazwany:', kwargs)\\n        result = func(*args, **kwargs)\\n        print('wynik: ', result)\\n    return new_function\", 'def add_inst(a,b):\\n    return a + b', 'add_inst(3, 5)', 'cooler_add_inst = document_it(add_inst)\\ncooler_add_inst(5, 5)', \"# decorators\\n\\ndef document_it(func):\\n    def new_function(*args, **kwargs):\\n        print('nazwa funkcji: ', func.__name__)\\n        print('Argument pozycjyjny: ', args)\\n        print('argument nazwany:', kwargs)\\n        result = func(*args, **kwargs)\\n        print('wynik: ', result)\\n    return new_function\", 'def add_inst(a,b):\\n    return a + b', 'add_inst(3, 5)', 'cooler_add_inst = document_it(add_inst)\\ncooler_add_inst(5, 5)', '@document_it\\ndef add_inst(a, b):\\n    return a + b', 'add_inst(4, 6)', \"# global variable\\n\\nanimal = 'kot'\", \"def change_and_print_global():\\n    global animalanimal = 'pies'\\n    print('wartoscwewnatrz funckji change_and_print_global: ', animal)\\n    \", \"def change_and_print_global():\\n    global animal = 'pies'\\n    print('wartoscwewnatrz funckji change_and_print_global: ', animal)\", \"def change_and_print_global():\\n    global animal \\n    animal = 'pies'\\n    print('wartoscwewnatrz funckji change_and_print_global: ', animal)\", 'animal', 'change_and_print_global()', \"# global variable\\n\\nanimal = 'kot'\", \"def change_and_print_global():\\n    global animal \\n    animal = 'pies'\\n    print('wartosc wewnatrz funckji change_and_print_global: ', animal)\", 'animal', 'change_and_print_global()', '# locals() & globals()', \"# locals() & globals()\\n\\nanimal = 'kot'\", \"def change_local():\\n    anima = 'pies'\\n    print('nazwy lokalne: ', locals())\", \"def change_local():\\n    animal = 'pies'\\n    print('nazwy lokalne: ', locals())\", 'animal', 'change_local()', \"print('nazwy globalne: ', globals())\"], '_oh': {3: <function my_range at 0x000001E0BA941C60>, 4: <generator object my_range at 0x000001E0BA8F15B0>, 10: <generator object my_range at 0x000001E0BAF092A0>, 14: 8, 18: 8, 26: 'kot', 30: 'kot', 36: 'kot'}, '_dh': ['c:\\\\Users\\\\mikol\\\\Desktop\\\\Skonczone_rzeczy\\\\Python_Bill_Lubanovic\\\\GitHub about this book\\\\Python_Bill_Lubanovic_BookCodes\\\\Chapter9'], 'In': ['', 'ranger = my_range(1, 8**6)\\nranger', '# generator function\\n\\ndef my_range(first=0, last=10, step=1):\\n    number = first\\n    while number < last:\\n        yield number\\n        number += step', 'my_range', 'ranger = my_range(1, 8**6)\\nranger', 'for x in ranger:\\n    print(x)', 'x = 8*8*8*8*8*8', 'print(x)', 'x = 8*8*8*8*8*8*8', 'print(x)', 'ranger = my_range(1, 8)\\nranger', 'for x in ranger:\\n    print(x)', \"# decorators\\n\\ndef document_it(func):\\n    def new_function(*args, **kwargs):\\n        print('nazwa funkcji: ', func._name_)\\n        print('Argument pozycjyjny: ', args)\\n        print('argument nazwany:', kwargs)\\n        result = func(*args, **kwargs)\\n        print('wynik: ', result)\\n    return new_function\", 'def add_inst(a,b):\\n    return a + b', 'add_inst(3, 5)', 'cooler_add_inst = document_it(add_inst)\\ncooler_add_inst(5, 5)', \"# decorators\\n\\ndef document_it(func):\\n    def new_function(*args, **kwargs):\\n        print('nazwa funkcji: ', func.__name__)\\n        print('Argument pozycjyjny: ', args)\\n        print('argument nazwany:', kwargs)\\n        result = func(*args, **kwargs)\\n        print('wynik: ', result)\\n    return new_function\", 'def add_inst(a,b):\\n    return a + b', 'add_inst(3, 5)', 'cooler_add_inst = document_it(add_inst)\\ncooler_add_inst(5, 5)', '@document_it\\ndef add_inst(a, b):\\n    return a + b', 'add_inst(4, 6)', \"# global variable\\n\\nanimal = 'kot'\", \"def change_and_print_global():\\n    global animalanimal = 'pies'\\n    print('wartoscwewnatrz funckji change_and_print_global: ', animal)\\n    \", \"def change_and_print_global():\\n    global animal = 'pies'\\n    print('wartoscwewnatrz funckji change_and_print_global: ', animal)\", \"def change_and_print_global():\\n    global animal \\n    animal = 'pies'\\n    print('wartoscwewnatrz funckji change_and_print_global: ', animal)\", 'animal', 'change_and_print_global()', \"# global variable\\n\\nanimal = 'kot'\", \"def change_and_print_global():\\n    global animal \\n    animal = 'pies'\\n    print('wartosc wewnatrz funckji change_and_print_global: ', animal)\", 'animal', 'change_and_print_global()', '# locals() & globals()', \"# locals() & globals()\\n\\nanimal = 'kot'\", \"def change_local():\\n    anima = 'pies'\\n    print('nazwy lokalne: ', locals())\", \"def change_local():\\n    animal = 'pies'\\n    print('nazwy lokalne: ', locals())\", 'animal', 'change_local()', \"print('nazwy globalne: ', globals())\"], 'Out': {3: <function my_range at 0x000001E0BA941C60>, 4: <generator object my_range at 0x000001E0BA8F15B0>, 10: <generator object my_range at 0x000001E0BAF092A0>, 14: 8, 18: 8, 26: 'kot', 30: 'kot', 36: 'kot'}, 'get_ipython': <bound method InteractiveShell.get_ipython of <ipykernel.zmqshell.ZMQInteractiveShell object at 0x000001E0BA7A0220>>, 'exit': <IPython.core.autocall.ZMQExitAutocall object at 0x000001E0BA7A1BD0>, 'quit': <IPython.core.autocall.ZMQExitAutocall object at 0x000001E0BA7A1BD0>, '_': 'kot', '__': 'kot', '___': 'kot', 'os': <module 'os' from 'C:\\\\Users\\\\mikol\\\\AppData\\\\Local\\\\Programs\\\\Python\\\\Python310\\\\lib\\\\os.py'>, 'sys': <module 'sys' (built-in)>, '_i': 'change_local()', '_ii': 'animal', '_iii': \"def change_local():\\n    animal = 'pies'\\n    print('nazwy lokalne: ', locals())\", '_i1': 'ranger = my_range(1, 8**6)\\nranger', '_i2': '# generator function\\n\\ndef my_range(first=0, last=10, step=1):\\n    number = first\\n    while number < last:\\n        yield number\\n        number += step', 'my_range': <function my_range at 0x000001E0BA941C60>, '_i3': 'my_range', '_3': <function my_range at 0x000001E0BA941C60>, '_i4': 'ranger = my_range(1, 8**6)\\nranger', 'ranger': <generator object my_range at 0x000001E0BAF092A0>, '_4': <generator object my_range at 0x000001E0BA8F15B0>, '_i5': 'for x in ranger:\\n    print(x)', 'x': 7, '_i6': 'x = 8*8*8*8*8*8', '_i7': 'print(x)', '_i8': 'x = 8*8*8*8*8*8*8', '_i9': 'print(x)', '_i10': 'ranger = my_range(1, 8)\\nranger', '_10': <generator object my_range at 0x000001E0BAF092A0>, '_i11': 'for x in ranger:\\n    print(x)', '_i12': \"# decorators\\n\\ndef document_it(func):\\n    def new_function(*args, **kwargs):\\n        print('nazwa funkcji: ', func._name_)\\n        print('Argument pozycjyjny: ', args)\\n        print('argument nazwany:', kwargs)\\n        result = func(*args, **kwargs)\\n        print('wynik: ', result)\\n    return new_function\", 'document_it': <function document_it at 0x000001E0BA942B00>, '_i13': 'def add_inst(a,b):\\n    return a + b', 'add_inst': <function document_it.<locals>.new_function at 0x000001E0BA943880>, '_i14': 'add_inst(3, 5)', '_14': 8, '_i15': 'cooler_add_inst = document_it(add_inst)\\ncooler_add_inst(5, 5)', 'cooler_add_inst': <function document_it.<locals>.new_function at 0x000001E0BA943B50>, '_i16': \"# decorators\\n\\ndef document_it(func):\\n    def new_function(*args, **kwargs):\\n        print('nazwa funkcji: ', func.__name__)\\n        print('Argument pozycjyjny: ', args)\\n        print('argument nazwany:', kwargs)\\n        result = func(*args, **kwargs)\\n        print('wynik: ', result)\\n    return new_function\", '_i17': 'def add_inst(a,b):\\n    return a + b', '_i18': 'add_inst(3, 5)', '_18': 8, '_i19': 'cooler_add_inst = document_it(add_inst)\\ncooler_add_inst(5, 5)', '_i20': '@document_it\\ndef add_inst(a, b):\\n    return a + b', '_i21': 'add_inst(4, 6)', '_i22': \"# global variable\\n\\nanimal = 'kot'\", 'animal': 'kot', '_i23': \"def change_and_print_global():\\n    global animalanimal = 'pies'\\n    print('wartoscwewnatrz funckji change_and_print_global: ', animal)\\n    \", '_i24': \"def change_and_print_global():\\n    global animal = 'pies'\\n    print('wartoscwewnatrz funckji change_and_print_global: ', animal)\", '_i25': \"def change_and_print_global():\\n    global animal \\n    animal = 'pies'\\n    print('wartoscwewnatrz funckji change_and_print_global: ', animal)\", 'change_and_print_global': <function change_and_print_global at 0x000001E0BA9436D0>, '_i26': 'animal', '_26': 'kot', '_i27': 'change_and_print_global()', '_i28': \"# global variable\\n\\nanimal = 'kot'\", '_i29': \"def change_and_print_global():\\n    global animal \\n    animal = 'pies'\\n    print('wartosc wewnatrz funckji change_and_print_global: ', animal)\", '_i30': 'animal', '_30': 'kot', '_i31': 'change_and_print_global()', '_i32': '# locals() & globals()', '_i33': \"# locals() & globals()\\n\\nanimal = 'kot'\", '_i34': \"def change_local():\\n    anima = 'pies'\\n    print('nazwy lokalne: ', locals())\", 'change_local': <function change_local at 0x000001E0BA941D80>, '_i35': \"def change_local():\\n    animal = 'pies'\\n    print('nazwy lokalne: ', locals())\", '_i36': 'animal', '_36': 'kot', '_i37': 'change_local()', '_i38': \"print('nazwy globalne: ', globals())\"}\n"
     ]
    }
   ],
   "source": [
    "print('nazwy globalne: ', globals())"
   ]
  },
  {
   "cell_type": "code",
   "execution_count": 39,
   "metadata": {},
   "outputs": [],
   "source": [
    "# recursive function\n",
    "\n",
    "def dive():\n",
    "    return dive()"
   ]
  },
  {
   "cell_type": "code",
   "execution_count": 40,
   "metadata": {},
   "outputs": [
    {
     "ename": "RecursionError",
     "evalue": "maximum recursion depth exceeded",
     "output_type": "error",
     "traceback": [
      "\u001b[1;31m---------------------------------------------------------------------------\u001b[0m",
      "\u001b[1;31mRecursionError\u001b[0m                            Traceback (most recent call last)",
      "\u001b[1;32m~\\AppData\\Local\\Temp/ipykernel_10372/1668493209.py\u001b[0m in \u001b[0;36m<module>\u001b[1;34m\u001b[0m\n\u001b[1;32m----> 1\u001b[1;33m \u001b[0mdive\u001b[0m\u001b[1;33m(\u001b[0m\u001b[1;33m)\u001b[0m\u001b[1;33m\u001b[0m\u001b[1;33m\u001b[0m\u001b[0m\n\u001b[0m",
      "\u001b[1;32m~\\AppData\\Local\\Temp/ipykernel_10372/3106047645.py\u001b[0m in \u001b[0;36mdive\u001b[1;34m()\u001b[0m\n\u001b[0;32m      2\u001b[0m \u001b[1;33m\u001b[0m\u001b[0m\n\u001b[0;32m      3\u001b[0m \u001b[1;32mdef\u001b[0m \u001b[0mdive\u001b[0m\u001b[1;33m(\u001b[0m\u001b[1;33m)\u001b[0m\u001b[1;33m:\u001b[0m\u001b[1;33m\u001b[0m\u001b[1;33m\u001b[0m\u001b[0m\n\u001b[1;32m----> 4\u001b[1;33m     \u001b[1;32mreturn\u001b[0m \u001b[0mdive\u001b[0m\u001b[1;33m(\u001b[0m\u001b[1;33m)\u001b[0m\u001b[1;33m\u001b[0m\u001b[1;33m\u001b[0m\u001b[0m\n\u001b[0m",
      "... last 1 frames repeated, from the frame below ...\n",
      "\u001b[1;32m~\\AppData\\Local\\Temp/ipykernel_10372/3106047645.py\u001b[0m in \u001b[0;36mdive\u001b[1;34m()\u001b[0m\n\u001b[0;32m      2\u001b[0m \u001b[1;33m\u001b[0m\u001b[0m\n\u001b[0;32m      3\u001b[0m \u001b[1;32mdef\u001b[0m \u001b[0mdive\u001b[0m\u001b[1;33m(\u001b[0m\u001b[1;33m)\u001b[0m\u001b[1;33m:\u001b[0m\u001b[1;33m\u001b[0m\u001b[1;33m\u001b[0m\u001b[0m\n\u001b[1;32m----> 4\u001b[1;33m     \u001b[1;32mreturn\u001b[0m \u001b[0mdive\u001b[0m\u001b[1;33m(\u001b[0m\u001b[1;33m)\u001b[0m\u001b[1;33m\u001b[0m\u001b[1;33m\u001b[0m\u001b[0m\n\u001b[0m",
      "\u001b[1;31mRecursionError\u001b[0m: maximum recursion depth exceeded"
     ]
    }
   ],
   "source": [
    "dive()"
   ]
  },
  {
   "cell_type": "code",
   "execution_count": 41,
   "metadata": {},
   "outputs": [],
   "source": [
    "# typical recruitment question\n",
    "\n",
    "def flatten(lol):\n",
    "    for item in lol:\n",
    "        if isinstance(item, list):\n",
    "            for subitem in flatten(item):\n",
    "                yield subitem\n",
    "        else:\n",
    "            yield item"
   ]
  },
  {
   "cell_type": "code",
   "execution_count": 42,
   "metadata": {},
   "outputs": [],
   "source": [
    "lol = [1, 2, [3, 4, [[[[[[[[4, 1]]]]]]]]]]"
   ]
  },
  {
   "cell_type": "code",
   "execution_count": 43,
   "metadata": {},
   "outputs": [
    {
     "data": {
      "text/plain": [
       "<generator object flatten at 0x000001E0BB55D230>"
      ]
     },
     "execution_count": 43,
     "metadata": {},
     "output_type": "execute_result"
    }
   ],
   "source": [
    "flatten(lol)"
   ]
  },
  {
   "cell_type": "code",
   "execution_count": 44,
   "metadata": {},
   "outputs": [
    {
     "data": {
      "text/plain": [
       "[1, 2, 3, 4, 4, 1]"
      ]
     },
     "execution_count": 44,
     "metadata": {},
     "output_type": "execute_result"
    }
   ],
   "source": [
    "list(flatten(lol))"
   ]
  },
  {
   "cell_type": "code",
   "execution_count": 51,
   "metadata": {},
   "outputs": [
    {
     "name": "stdout",
     "output_type": "stream",
     "text": [
      "indeks musi zawierac sie w przedziale od 0 do  3 , a uzyto 88\n"
     ]
    }
   ],
   "source": [
    "# exceptions\n",
    "\n",
    "short_list = [1, 2, 3, 4]\n",
    "position = 88\n",
    "try:\n",
    "    short_list[position]\n",
    "except:\n",
    "    print('indeks musi zawierac sie w przedziale od 0 do ', len(short_list)-1, ', a uzyto', position)"
   ]
  },
  {
   "cell_type": "code",
   "execution_count": null,
   "metadata": {},
   "outputs": [],
   "source": []
  }
 ],
 "metadata": {
  "interpreter": {
   "hash": "7b0470897870f91c1d27568bf8346e85da46866cae942d918bd7f2b2e94e9a5a"
  },
  "kernelspec": {
   "display_name": "Python 3.10.0 64-bit",
   "language": "python",
   "name": "python3"
  },
  "language_info": {
   "codemirror_mode": {
    "name": "ipython",
    "version": 3
   },
   "file_extension": ".py",
   "mimetype": "text/x-python",
   "name": "python",
   "nbconvert_exporter": "python",
   "pygments_lexer": "ipython3",
   "version": "3.10.0"
  },
  "orig_nbformat": 4
 },
 "nbformat": 4,
 "nbformat_minor": 2
}
