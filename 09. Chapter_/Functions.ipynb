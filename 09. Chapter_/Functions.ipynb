{
 "cells": [
  {
   "cell_type": "markdown",
   "metadata": {},
   "source": [
    "# The ninth chapter from Bill Lubanovic's book"
   ]
  },
  {
   "cell_type": "markdown",
   "metadata": {},
   "source": [
    "To define a Python function, you type ```def```, the function name, parentheses enclosing any input parameters to the function, and then finally, a ```colon (:)```. Function ```names``` have the same rules as variable ```names``` (they must start with a letter or _ and contain only letters, numbers, or _)"
   ]
  },
  {
   "cell_type": "code",
   "execution_count": 1,
   "metadata": {},
   "outputs": [],
   "source": [
    "# Here’s the simplest Python function:\n",
    "\n",
    "def do_nothing():\n",
    "    pass"
   ]
  },
  {
   "cell_type": "code",
   "execution_count": 2,
   "metadata": {},
   "outputs": [],
   "source": [
    "#You call this function just by typing its name and parentheses.\n",
    "\n",
    "do_nothing()"
   ]
  },
  {
   "cell_type": "markdown",
   "metadata": {},
   "source": [
    "Even for a function with no parameters like this one, you still need the parentheses and the colon in its definition. The next line needs to be indented, just as you would indent code under an if statement. Python requires the pass statement to show that this function does nothing."
   ]
  },
  {
   "cell_type": "code",
   "execution_count": 23,
   "metadata": {},
   "outputs": [
    {
     "name": "stdout",
     "output_type": "stream",
     "text": [
      "None\n"
     ]
    }
   ],
   "source": [
    "print(do_nothing())"
   ]
  },
  {
   "cell_type": "code",
   "execution_count": 1,
   "metadata": {},
   "outputs": [
    {
     "name": "stdout",
     "output_type": "stream",
     "text": [
      "hej\n"
     ]
    }
   ],
   "source": [
    "# Now let’s define and call another function that has no parameters but prints a single word:\n",
    "\n",
    "def make_a_sound():\n",
    "    print('hej')\n",
    "\n",
    "make_a_sound()"
   ]
  },
  {
   "cell_type": "code",
   "execution_count": 2,
   "metadata": {},
   "outputs": [
    {
     "data": {
      "text/plain": [
       "True"
      ]
     },
     "execution_count": 2,
     "metadata": {},
     "output_type": "execute_result"
    }
   ],
   "source": [
    "# Let’s try a function that has no parameters but returns a value:\n",
    "\n",
    "def agree():\n",
    "    return True\n",
    "\n",
    "agree()"
   ]
  },
  {
   "cell_type": "code",
   "execution_count": 9,
   "metadata": {},
   "outputs": [
    {
     "name": "stdout",
     "output_type": "stream",
     "text": [
      "super\n"
     ]
    }
   ],
   "source": [
    "# You can call this function and test its returned value by using if\n",
    "\n",
    "if agree() == True:\n",
    "    print('super')\n",
    "else:\n",
    "    print('suprise')"
   ]
  },
  {
   "cell_type": "markdown",
   "metadata": {},
   "source": [
    "# Arguments and Parameters"
   ]
  },
  {
   "cell_type": "code",
   "execution_count": 3,
   "metadata": {},
   "outputs": [
    {
     "data": {
      "text/plain": [
       "'test test'"
      ]
     },
     "execution_count": 3,
     "metadata": {},
     "output_type": "execute_result"
    }
   ],
   "source": [
    "# Let’s define the function echo() with one parameter called anything. It uses the return statement to send the value of anything back to its caller twice, with a space between:\n",
    "\n",
    "def echo (cos):\n",
    "    return cos + ' ' + cos\n",
    "\n",
    "\n",
    "echo ('test')\n",
    "\n",
    "\n",
    "# In the above example, the function echo() was called with the argument string 'cos'. This value was copied within echo() to the parameter anything, and then returned (in this case doubled, with a space) to the caller."
   ]
  },
  {
   "cell_type": "markdown",
   "metadata": {},
   "source": [
    "The values you pass into the function when you call it are known as arguments. When you call a function with arguments, the values of those arguments are copied to their corresponding parameters inside the function."
   ]
  },
  {
   "cell_type": "code",
   "execution_count": 4,
   "metadata": {},
   "outputs": [],
   "source": [
    "def commentary(color):\n",
    "    if color == 'red':\n",
    "        return \"It's a tomato.\"\n",
    "    elif color == \"green\":\n",
    "        return \"It's a green pepper.\"\n",
    "    elif color == 'bee purple':\n",
    "        return \"I don't know what it is, but only bees can see it.\"\n",
    "    else:\n",
    "        return \"I've never heard of the color \"  + color +  \".\""
   ]
  },
  {
   "cell_type": "code",
   "execution_count": 5,
   "metadata": {},
   "outputs": [],
   "source": [
    "#Call the function commentary() with the string argument 'blue'\n",
    "\n",
    "comment = commentary('blue')"
   ]
  },
  {
   "cell_type": "code",
   "execution_count": 6,
   "metadata": {},
   "outputs": [
    {
     "name": "stdout",
     "output_type": "stream",
     "text": [
      "I've never heard of the color blue.\n"
     ]
    }
   ],
   "source": [
    "print(comment)"
   ]
  },
  {
   "cell_type": "markdown",
   "metadata": {},
   "source": [
    "The function does the following:\n",
    "\n",
    "* Assigns the value 'blue' to the function’s internal color parameter\n",
    "\n",
    "* Runs through the if-elif-else logic chain\n",
    "\n",
    "* Returns a string\n",
    "\n",
    "The caller then assigns the string to the variable comment."
   ]
  },
  {
   "cell_type": "markdown",
   "metadata": {},
   "source": [
    "# None Is Useful"
   ]
  },
  {
   "cell_type": "code",
   "execution_count": 7,
   "metadata": {},
   "outputs": [
    {
     "name": "stdout",
     "output_type": "stream",
     "text": [
      "It's no thing\n"
     ]
    }
   ],
   "source": [
    "# None is a special Python value that holds a place when there is nothing to say. It is not the same as the boolean value False, although it looks false when evaluated as a boolean.\n",
    "\n",
    "thing = None\n",
    "if thing:\n",
    "    print(\"It's some thing\")\n",
    "else:\n",
    "    print(\"It's no thing\")"
   ]
  },
  {
   "cell_type": "code",
   "execution_count": 8,
   "metadata": {},
   "outputs": [
    {
     "name": "stdout",
     "output_type": "stream",
     "text": [
      "It's nothing\n"
     ]
    }
   ],
   "source": [
    "# To distinguish None from a boolean False value, use Python’s is operator:\n",
    "\n",
    "thing = None\n",
    "if thing is None:\n",
    "    print(\"It's nothing\")\n",
    "else:\n",
    "    print(\"It's something\")"
   ]
  },
  {
   "cell_type": "markdown",
   "metadata": {},
   "source": [
    "This seems like a subtle distinction, but it’s important in Python. You’ll need None to distinguish a missing value from an empty value. Remember that zero-valued integers or floats, empty strings (''), lists ([]), tuples ((,)), dictionaries ({}), and sets (set()) are all False, but are not the same as None."
   ]
  },
  {
   "cell_type": "code",
   "execution_count": 9,
   "metadata": {},
   "outputs": [],
   "source": [
    "# Let’s write a quick function that prints whether its argument is None, True, or False\n",
    "\n",
    "def whatis(thing):\n",
    "    if thing is None:\n",
    "        print(thing, \"is None\")\n",
    "    elif thing:\n",
    "        print(thing, \"is True\")\n",
    "    else:\n",
    "        print(thing, \"is False\")"
   ]
  },
  {
   "cell_type": "code",
   "execution_count": 10,
   "metadata": {},
   "outputs": [
    {
     "name": "stdout",
     "output_type": "stream",
     "text": [
      "None is None\n"
     ]
    }
   ],
   "source": [
    "whatis(None)"
   ]
  },
  {
   "cell_type": "code",
   "execution_count": 11,
   "metadata": {},
   "outputs": [
    {
     "name": "stdout",
     "output_type": "stream",
     "text": [
      "True is True\n"
     ]
    }
   ],
   "source": [
    "whatis(True)"
   ]
  },
  {
   "cell_type": "code",
   "execution_count": 12,
   "metadata": {},
   "outputs": [
    {
     "name": "stdout",
     "output_type": "stream",
     "text": [
      "False is False\n"
     ]
    }
   ],
   "source": [
    "whatis(False)"
   ]
  },
  {
   "cell_type": "code",
   "execution_count": 13,
   "metadata": {},
   "outputs": [
    {
     "name": "stdout",
     "output_type": "stream",
     "text": [
      "0 is False\n"
     ]
    }
   ],
   "source": [
    "whatis(0)"
   ]
  },
  {
   "cell_type": "code",
   "execution_count": 14,
   "metadata": {},
   "outputs": [
    {
     "name": "stdout",
     "output_type": "stream",
     "text": [
      "0.0 is False\n"
     ]
    }
   ],
   "source": [
    "whatis(0.0)"
   ]
  },
  {
   "cell_type": "code",
   "execution_count": 15,
   "metadata": {},
   "outputs": [
    {
     "name": "stdout",
     "output_type": "stream",
     "text": [
      " is False\n"
     ]
    }
   ],
   "source": [
    "whatis('''''')"
   ]
  },
  {
   "cell_type": "code",
   "execution_count": 16,
   "metadata": {},
   "outputs": [
    {
     "name": "stdout",
     "output_type": "stream",
     "text": [
      "{} is False\n"
     ]
    }
   ],
   "source": [
    "whatis({})"
   ]
  },
  {
   "cell_type": "code",
   "execution_count": 17,
   "metadata": {},
   "outputs": [
    {
     "name": "stdout",
     "output_type": "stream",
     "text": [
      "set() is False\n"
     ]
    }
   ],
   "source": [
    "whatis(set())"
   ]
  },
  {
   "cell_type": "code",
   "execution_count": 18,
   "metadata": {},
   "outputs": [
    {
     "name": "stdout",
     "output_type": "stream",
     "text": [
      "[''] is True\n"
     ]
    }
   ],
   "source": [
    "whatis([''])"
   ]
  },
  {
   "cell_type": "code",
   "execution_count": 19,
   "metadata": {},
   "outputs": [
    {
     "name": "stdout",
     "output_type": "stream",
     "text": [
      "1e-05 is True\n"
     ]
    }
   ],
   "source": [
    "whatis(0.00001)"
   ]
  },
  {
   "cell_type": "markdown",
   "metadata": {},
   "source": [
    "# Positional Arguments\n",
    "\n",
    "Python handles function arguments in a manner that’s very flexible, when compared to many languages. The most familiar types of arguments are positional arguments, whose values are copied to their corresponding parameters in order"
   ]
  },
  {
   "cell_type": "code",
   "execution_count": 20,
   "metadata": {},
   "outputs": [],
   "source": [
    "# This function builds a dictionary from its positional input arguments and returns it:\n",
    "\n",
    "def menu(wine, entree, dessert):\n",
    "    return {'wine': wine, 'entree': entree, 'dessert': dessert}"
   ]
  },
  {
   "cell_type": "code",
   "execution_count": 21,
   "metadata": {},
   "outputs": [
    {
     "data": {
      "text/plain": [
       "{'wine': 'chardonnay', 'entree': 'chicken', 'dessert': 'cake'}"
      ]
     },
     "execution_count": 21,
     "metadata": {},
     "output_type": "execute_result"
    }
   ],
   "source": [
    "menu('chardonnay', 'chicken', 'cake')"
   ]
  },
  {
   "cell_type": "code",
   "execution_count": 22,
   "metadata": {},
   "outputs": [
    {
     "data": {
      "text/plain": [
       "{'wine': 'beef', 'entree': 'bagel', 'dessert': 'bordeaux'}"
      ]
     },
     "execution_count": 22,
     "metadata": {},
     "output_type": "execute_result"
    }
   ],
   "source": [
    "# Although very common, a downside of positional arguments is that you need to remember the meaning of each position. If we forgot and called menu() with wine as the last argument instead of the first, the meal would be very different:\n",
    "\n",
    "menu('beef', 'bagel', 'bordeaux')"
   ]
  },
  {
   "cell_type": "markdown",
   "metadata": {},
   "source": [
    "# Keyword Arguments\n",
    "\n",
    "To avoid positional argument confusion, you can specify arguments by the names of their corresponding parameters, even in a different order from their definition in the function:"
   ]
  },
  {
   "cell_type": "code",
   "execution_count": 23,
   "metadata": {},
   "outputs": [
    {
     "data": {
      "text/plain": [
       "{'wine': 'bordeaux', 'entree': 'beef', 'dessert': 'bagel'}"
      ]
     },
     "execution_count": 23,
     "metadata": {},
     "output_type": "execute_result"
    }
   ],
   "source": [
    "menu(entree='beef', dessert='bagel', wine='bordeaux')"
   ]
  },
  {
   "cell_type": "code",
   "execution_count": 25,
   "metadata": {},
   "outputs": [
    {
     "data": {
      "text/plain": [
       "{'wine': 'frontenac', 'entree': 'fish', 'dessert': 'flan'}"
      ]
     },
     "execution_count": 25,
     "metadata": {},
     "output_type": "execute_result"
    }
   ],
   "source": [
    "# You can mix positional and keyword arguments. Let’s specify the wine first, but use keyword arguments for the entree and dessert:\n",
    "\n",
    "menu('frontenac', dessert='flan', entree='fish')\n",
    "\n",
    "# If you call a function with both positional and keyword arguments, the positional arguments need to come first."
   ]
  },
  {
   "cell_type": "markdown",
   "metadata": {},
   "source": [
    "# Specify Default Parameter Values\n",
    "\n",
    "You can specify default values for parameters. The default is used if the caller does not provide a corresponding argument. This bland-sounding feature can actually be quite useful."
   ]
  },
  {
   "cell_type": "code",
   "execution_count": 26,
   "metadata": {},
   "outputs": [],
   "source": [
    "def menu(wine, entree, dessert='pudding'):\n",
    "    return {'wine': wine, 'entree': entree, 'dessert': dessert}"
   ]
  },
  {
   "cell_type": "code",
   "execution_count": 27,
   "metadata": {},
   "outputs": [
    {
     "data": {
      "text/plain": [
       "{'wine': 'chardonnay', 'entree': 'chicken', 'dessert': 'pudding'}"
      ]
     },
     "execution_count": 27,
     "metadata": {},
     "output_type": "execute_result"
    }
   ],
   "source": [
    "# This time, try calling menu() without the dessert argument:\n",
    "\n",
    "menu('chardonnay', 'chicken')"
   ]
  },
  {
   "cell_type": "code",
   "execution_count": 28,
   "metadata": {},
   "outputs": [
    {
     "data": {
      "text/plain": [
       "{'wine': 'dunkelfelder', 'entree': 'duck', 'dessert': 'doughnut'}"
      ]
     },
     "execution_count": 28,
     "metadata": {},
     "output_type": "execute_result"
    }
   ],
   "source": [
    "# If you do provide an argument, it’s used instead of the default:\n",
    "\n",
    "menu('dunkelfelder', 'duck', 'doughnut')"
   ]
  },
  {
   "cell_type": "markdown",
   "metadata": {},
   "source": [
    "In the following test, the buggy() function is expected to run each time with a fresh empty result list, add the arg argument to it, and then print a single-item list. However, there’s a bug: it’s empty only the first time it’s called. The second time, result still has one item from the previous call:"
   ]
  },
  {
   "cell_type": "code",
   "execution_count": 29,
   "metadata": {},
   "outputs": [],
   "source": [
    "def buggy(arg, result=[]):\n",
    "    result.append(arg)\n",
    "    print(result)"
   ]
  },
  {
   "cell_type": "code",
   "execution_count": 30,
   "metadata": {},
   "outputs": [
    {
     "name": "stdout",
     "output_type": "stream",
     "text": [
      "['a']\n"
     ]
    }
   ],
   "source": [
    "buggy('a')"
   ]
  },
  {
   "cell_type": "code",
   "execution_count": 31,
   "metadata": {},
   "outputs": [
    {
     "name": "stdout",
     "output_type": "stream",
     "text": [
      "['a', 'b']\n"
     ]
    }
   ],
   "source": [
    "buggy('b')   # expect ['b']"
   ]
  },
  {
   "cell_type": "code",
   "execution_count": 32,
   "metadata": {},
   "outputs": [],
   "source": [
    "# It would have worked if \n",
    "\n",
    "def works(arg):\n",
    "    result = []\n",
    "    result.append(arg)\n",
    "    return result\n"
   ]
  },
  {
   "cell_type": "code",
   "execution_count": 33,
   "metadata": {},
   "outputs": [
    {
     "data": {
      "text/plain": [
       "['a']"
      ]
     },
     "execution_count": 33,
     "metadata": {},
     "output_type": "execute_result"
    }
   ],
   "source": [
    "works('a')"
   ]
  },
  {
   "cell_type": "code",
   "execution_count": 34,
   "metadata": {},
   "outputs": [
    {
     "data": {
      "text/plain": [
       "['b']"
      ]
     },
     "execution_count": 34,
     "metadata": {},
     "output_type": "execute_result"
    }
   ],
   "source": [
    "works('b')"
   ]
  },
  {
   "cell_type": "markdown",
   "metadata": {},
   "source": [
    "# Interview question"
   ]
  },
  {
   "cell_type": "code",
   "execution_count": 35,
   "metadata": {},
   "outputs": [],
   "source": [
    "# The fix is to pass in something else to indicate the first call:\n",
    "\n",
    "def nonbuggy(arg, result=None):\n",
    "    if result is None:\n",
    "        result = []\n",
    "    result.append(arg)\n",
    "    print(result)"
   ]
  },
  {
   "cell_type": "code",
   "execution_count": 36,
   "metadata": {},
   "outputs": [
    {
     "name": "stdout",
     "output_type": "stream",
     "text": [
      "['a']\n"
     ]
    }
   ],
   "source": [
    "nonbuggy('a')"
   ]
  },
  {
   "cell_type": "code",
   "execution_count": 37,
   "metadata": {},
   "outputs": [
    {
     "name": "stdout",
     "output_type": "stream",
     "text": [
      "['b']\n"
     ]
    }
   ],
   "source": [
    "nonbuggy('b')"
   ]
  },
  {
   "cell_type": "markdown",
   "metadata": {},
   "source": [
    "# Explode/Gather Positional Arguments with *"
   ]
  },
  {
   "cell_type": "markdown",
   "metadata": {},
   "source": [
    "When used inside the function with a parameter, an asterisk groups a variable number of positional arguments into a single tuple of parameter values. In the following example, args is the parameter tuple that resulted from zero or more arguments that were passed to the function print_args():"
   ]
  },
  {
   "cell_type": "code",
   "execution_count": 38,
   "metadata": {},
   "outputs": [],
   "source": [
    "def print_args(*args):\n",
    "    print('Positional tuple:', args)"
   ]
  },
  {
   "cell_type": "code",
   "execution_count": 40,
   "metadata": {},
   "outputs": [
    {
     "name": "stdout",
     "output_type": "stream",
     "text": [
      "Positional tuple: ()\n"
     ]
    }
   ],
   "source": [
    "# If you call the function with no arguments, you get nothing in *args\n",
    "\n",
    "print_args()"
   ]
  },
  {
   "cell_type": "code",
   "execution_count": 41,
   "metadata": {},
   "outputs": [
    {
     "name": "stdout",
     "output_type": "stream",
     "text": [
      "Positional tuple: (3, 2, 1, 'wait!', 'uh...')\n"
     ]
    }
   ],
   "source": [
    "# Whatever you give it will be printed as the args tuple:\n",
    "\n",
    "print_args(3, 2, 1, 'wait!', 'uh...')"
   ]
  },
  {
   "cell_type": "code",
   "execution_count": 43,
   "metadata": {},
   "outputs": [
    {
     "name": "stdout",
     "output_type": "stream",
     "text": [
      "Need this one: cap\n",
      "Need this one too: gloves\n",
      "All the rest: ('scarf', 'monocle', 'mustache wax')\n"
     ]
    }
   ],
   "source": [
    "# If your function has required positional arguments, as well, put them first; *args goes at the end and grabs all the rest:\n",
    "\n",
    "def print_more(required1, required2, *args):\n",
    "    print('Need this one:', required1)\n",
    "    print('Need this one too:', required2)\n",
    "    print('All the rest:', args)\n",
    "\n",
    "print_more('cap', 'gloves', 'scarf', 'monocle', 'mustache wax')"
   ]
  },
  {
   "cell_type": "markdown",
   "metadata": {},
   "source": [
    "When using *, you don’t need to call the tuple argument *args, but it’s a common idiom in Python. It’s also common to use *args inside the function, as in the preceding example, although technically it’s called a parameter and could be referred to as *params"
   ]
  },
  {
   "cell_type": "markdown",
   "metadata": {},
   "source": [
    "# Summarizing:\n",
    "\n",
    "* You can pass positional argument to a function, which will match them inside to positional parameters. This is what you’ve seen so far in this book.\n",
    "\n",
    "* You can pass a tuple argument to a function, and inside it will be a tuple parameter. This is a simple case of the preceding one.\n",
    "\n",
    "* You can pass positional arguments to a function, and gather them inside as the parameter *args, which resolves to the tuple args. This was described in this section.\n",
    "\n",
    "* You can also “explode” a tuple argument called args to positional parameters *args inside the function, which will be regathered inside into the tuple parameter args:"
   ]
  },
  {
   "cell_type": "code",
   "execution_count": 44,
   "metadata": {},
   "outputs": [
    {
     "name": "stdout",
     "output_type": "stream",
     "text": [
      "Positional tuple: (2, 5, 7, 'x')\n"
     ]
    }
   ],
   "source": [
    "print_args(2, 5, 7, 'x')"
   ]
  },
  {
   "cell_type": "code",
   "execution_count": 45,
   "metadata": {},
   "outputs": [],
   "source": [
    "args = (2,5,7,'x')"
   ]
  },
  {
   "cell_type": "code",
   "execution_count": 46,
   "metadata": {},
   "outputs": [
    {
     "name": "stdout",
     "output_type": "stream",
     "text": [
      "Positional tuple: ((2, 5, 7, 'x'),)\n"
     ]
    }
   ],
   "source": [
    "print_args(args)"
   ]
  },
  {
   "cell_type": "code",
   "execution_count": 47,
   "metadata": {},
   "outputs": [
    {
     "name": "stdout",
     "output_type": "stream",
     "text": [
      "Positional tuple: (2, 5, 7, 'x')\n"
     ]
    }
   ],
   "source": [
    "print_args(*args)"
   ]
  },
  {
   "cell_type": "markdown",
   "metadata": {},
   "source": [
    "* Outside the function, *args explodes the tuple args into comma-separated positional parameters.\n",
    "\n",
    "* Inside the function, *args gathers all of the positional arguments into a single args tuple. You could use the names *params and params, but it’s common practice to use *args for both the outside argument and inside parameter"
   ]
  },
  {
   "cell_type": "markdown",
   "metadata": {},
   "source": [
    "# Explode/Gather Keyword Arguments with **"
   ]
  },
  {
   "cell_type": "markdown",
   "metadata": {},
   "source": [
    "You can use two asterisks (**) to group keyword arguments into a dictionary, where the argument names are the keys, and their values are the corresponding dictionary values. The following example defines the function print_kwargs() to print its keyword arguments:"
   ]
  },
  {
   "cell_type": "code",
   "execution_count": 49,
   "metadata": {},
   "outputs": [],
   "source": [
    "def print_kwargs(**kwargs):\n",
    "    print('Keyword arguments:', kwargs)"
   ]
  },
  {
   "cell_type": "code",
   "execution_count": 50,
   "metadata": {},
   "outputs": [
    {
     "name": "stdout",
     "output_type": "stream",
     "text": [
      "Keyword arguments: {}\n"
     ]
    }
   ],
   "source": [
    "print_kwargs()"
   ]
  },
  {
   "cell_type": "code",
   "execution_count": 51,
   "metadata": {},
   "outputs": [
    {
     "name": "stdout",
     "output_type": "stream",
     "text": [
      "Keyword arguments: {'wine': 'merlot', 'entree': 'mutton', 'dessert': 'macaroon'}\n"
     ]
    }
   ],
   "source": [
    "print_kwargs(wine='merlot', entree='mutton', dessert='macaroon')"
   ]
  },
  {
   "cell_type": "markdown",
   "metadata": {},
   "source": [
    "Argument order is:\n",
    "\n",
    "* Required positional arguments\n",
    "\n",
    "* Optional positional arguments (*args)\n",
    "\n",
    "* Optional keyword arguments (**kwargs)"
   ]
  },
  {
   "cell_type": "markdown",
   "metadata": {},
   "source": [
    "# Summarizing:\n",
    "\n",
    "* You can pass keyword arguments to a function, which will match them inside to keyword parameters. This is what you’ve seen so far.\n",
    "\n",
    "* You can pass a dictionary argument to a function, and inside it will be dictionary parameters. This is a simple case of the preceding one.\n",
    "\n",
    "* You can pass one or more keyword arguments (name=value) to a function, and gather them inside as **kwargs, which resolves to the dictionary parameter called kwargs. This was described in this section.\n",
    "\n",
    "* Outside a function, **kwargs explodes a dictionary kwargs into name=value arguments.\n",
    "\n",
    "* Inside a function, **kwargs gathers name=value arguments into the single dictionary parameter kwargs"
   ]
  },
  {
   "cell_type": "markdown",
   "metadata": {},
   "source": [
    "# Keyword-Only Arguments"
   ]
  },
  {
   "cell_type": "markdown",
   "metadata": {},
   "source": [
    "It’s possible to pass in a keyword argument that has the same name as a positional parameter, probably not resulting in what you want. Python 3 lets you specify keyword-only arguments. As the name says, they must be provided as name=value, not positionally as value. The single * in the function definition means that the following parameters start and end must be provided as named arguments if we don’t want their default values:"
   ]
  },
  {
   "cell_type": "code",
   "execution_count": 52,
   "metadata": {},
   "outputs": [],
   "source": [
    "def print_data(data, *, start=0, end=100):\n",
    "    for value in (data[start:end]):\n",
    "        print(value)"
   ]
  },
  {
   "cell_type": "code",
   "execution_count": 53,
   "metadata": {},
   "outputs": [
    {
     "name": "stdout",
     "output_type": "stream",
     "text": [
      "a\n",
      "b\n",
      "c\n",
      "d\n",
      "e\n",
      "f\n"
     ]
    }
   ],
   "source": [
    "data = ['a', 'b', 'c', 'd', 'e', 'f']\n",
    "print_data(data)"
   ]
  },
  {
   "cell_type": "code",
   "execution_count": 54,
   "metadata": {},
   "outputs": [
    {
     "name": "stdout",
     "output_type": "stream",
     "text": [
      "e\n",
      "f\n"
     ]
    }
   ],
   "source": [
    "print_data(data, start=4)"
   ]
  },
  {
   "cell_type": "code",
   "execution_count": 55,
   "metadata": {},
   "outputs": [
    {
     "name": "stdout",
     "output_type": "stream",
     "text": [
      "a\n",
      "b\n"
     ]
    }
   ],
   "source": [
    "print_data(data, end=2)"
   ]
  },
  {
   "cell_type": "markdown",
   "metadata": {},
   "source": [
    "# Mutable and Immutable Arguments\n",
    "\n",
    "If you assigned the same list to two variables, you could change it by using either one? And that you could not if the variables both referred to something like an integer or a string? That was because the list was mutable and the integer and string were immutable.\n",
    "\n",
    "You need to watch for the same behavior when passing arguments to functions. If an argument is mutable, its value can be changed from inside the function via its corresponding parameter:"
   ]
  },
  {
   "cell_type": "code",
   "execution_count": 56,
   "metadata": {},
   "outputs": [],
   "source": [
    "outside = ['one', 'fine', 'day']\n",
    "\n",
    "def mangle(arg):\n",
    "    arg[1] = 'terrible!'\n"
   ]
  },
  {
   "cell_type": "code",
   "execution_count": 57,
   "metadata": {},
   "outputs": [
    {
     "data": {
      "text/plain": [
       "['one', 'fine', 'day']"
      ]
     },
     "execution_count": 57,
     "metadata": {},
     "output_type": "execute_result"
    }
   ],
   "source": [
    "outside"
   ]
  },
  {
   "cell_type": "code",
   "execution_count": 58,
   "metadata": {},
   "outputs": [
    {
     "data": {
      "text/plain": [
       "['one', 'terrible!', 'day']"
      ]
     },
     "execution_count": 58,
     "metadata": {},
     "output_type": "execute_result"
    }
   ],
   "source": [
    "mangle(outside)\n",
    "outside"
   ]
  },
  {
   "cell_type": "markdown",
   "metadata": {},
   "source": [
    "# Docstrings\n",
    "\n",
    "This is the function’s docstring:"
   ]
  },
  {
   "cell_type": "code",
   "execution_count": 59,
   "metadata": {},
   "outputs": [],
   "source": [
    "def echo(anything):\n",
    "    'echo returns its input argument'\n",
    "    return anything"
   ]
  },
  {
   "cell_type": "code",
   "execution_count": 60,
   "metadata": {},
   "outputs": [],
   "source": [
    "def print_if_true(thing, check):\n",
    "    '''\n",
    "    Prints the first argument if a second argument is true.\n",
    "    The operation is:\n",
    "        1. Check whether the *second* argument is true.\n",
    "        2. If it is, print the *first* argument.\n",
    "    '''\n",
    "    if check:\n",
    "        print(thing)"
   ]
  },
  {
   "cell_type": "code",
   "execution_count": 61,
   "metadata": {},
   "outputs": [
    {
     "name": "stdout",
     "output_type": "stream",
     "text": [
      "Help on function echo in module __main__:\n",
      "\n",
      "echo(anything)\n",
      "    echo returns its input argument\n",
      "\n"
     ]
    }
   ],
   "source": [
    "# To print a function’s docstring, call the Python help() function. Pass the function’s name to get a listing of arguments along with the nicely formatted docstring:\n",
    "\n",
    "help(echo)"
   ]
  },
  {
   "cell_type": "code",
   "execution_count": 62,
   "metadata": {},
   "outputs": [
    {
     "name": "stdout",
     "output_type": "stream",
     "text": [
      "echo returns its input argument\n"
     ]
    }
   ],
   "source": [
    "print(echo.__doc__)"
   ]
  },
  {
   "cell_type": "markdown",
   "metadata": {},
   "source": [
    "# Functions Are First-Class Citizens\n",
    "\n",
    "Everything is an object. This includes numbers, strings, tuples, lists, dictionaries—and functions, as well. Functions are first-class citizens in Python. You can assign them to variables, use them as arguments to other functions, and return them from functions. This gives you the capability to do some things in Python that are difficult-to-impossible to carry out in many other languages."
   ]
  },
  {
   "cell_type": "code",
   "execution_count": 63,
   "metadata": {},
   "outputs": [],
   "source": [
    "def answer():\n",
    "    print(42)\n"
   ]
  },
  {
   "cell_type": "code",
   "execution_count": 65,
   "metadata": {},
   "outputs": [
    {
     "name": "stdout",
     "output_type": "stream",
     "text": [
      "42\n"
     ]
    }
   ],
   "source": [
    "answer()"
   ]
  },
  {
   "cell_type": "code",
   "execution_count": 66,
   "metadata": {},
   "outputs": [],
   "source": [
    "# Now let’s define another function named run_something. It has one argument called func, a function to run. Once inside, it just calls the function:\n",
    "\n",
    "def run_something(func):\n",
    "    func()\n"
   ]
  },
  {
   "cell_type": "code",
   "execution_count": 67,
   "metadata": {},
   "outputs": [
    {
     "name": "stdout",
     "output_type": "stream",
     "text": [
      "42\n"
     ]
    }
   ],
   "source": [
    "# If we pass answer to run_something(), we’re using a function as data, just as with anything else:\n",
    "run_something(answer)\n"
   ]
  },
  {
   "cell_type": "code",
   "execution_count": 69,
   "metadata": {},
   "outputs": [
    {
     "data": {
      "text/plain": [
       "function"
      ]
     },
     "execution_count": 69,
     "metadata": {},
     "output_type": "execute_result"
    }
   ],
   "source": [
    "# Above example show: answer, not answer(). In Python, those parentheses mean call this function. With no parentheses, Python just treats the function like any other object. That’s because, like everything else in Python, it is an object:\n",
    "\n",
    "type(run_something)"
   ]
  },
  {
   "cell_type": "code",
   "execution_count": 70,
   "metadata": {},
   "outputs": [],
   "source": [
    "# Let’s try running a function with arguments. Define a function add_args() that prints the sum of its two numeric arguments, arg1 and arg2:\n",
    "\n"
   ]
  },
  {
   "cell_type": "code",
   "execution_count": 71,
   "metadata": {},
   "outputs": [],
   "source": [
    "def add_args(arg1, arg2):\n",
    "    print(arg1 + arg2)"
   ]
  },
  {
   "cell_type": "code",
   "execution_count": 73,
   "metadata": {},
   "outputs": [],
   "source": [
    "# At this point, let’s define a function called run_something_with_args() that takes three arguments:\n",
    "\n",
    "# func\n",
    "# The function to run\n",
    "\n",
    "# arg1\n",
    "# The first argument for func\n",
    "\n",
    "# arg2\n",
    "# The second argument for func\n",
    "\n",
    "\n",
    "def run_something_with_args(func, arg1, arg2):\n",
    "    func(arg1, arg2)\n",
    "\n",
    "# When you call run_something_with_args(), the function passed by the caller is assigned to the func parameter, whereas arg1 and arg2 get the values that follow in the argument list. Then, running func(arg1, arg2) executes that function with those arguments because the parentheses told Python to do so.\n"
   ]
  },
  {
   "cell_type": "code",
   "execution_count": 75,
   "metadata": {},
   "outputs": [
    {
     "name": "stdout",
     "output_type": "stream",
     "text": [
      "10\n"
     ]
    }
   ],
   "source": [
    "# Within the function run_something_with_args(), the function name argument add_args was assigned to the parameter func, 5 to arg1, and 9 to arg2.\n",
    "\n",
    "run_something_with_args(add_args, 5, 5)\n",
    "\n",
    "# This end with:\n",
    "# add_args(5, 9)\n"
   ]
  },
  {
   "cell_type": "code",
   "execution_count": 76,
   "metadata": {},
   "outputs": [],
   "source": [
    "# Let’s define a test function that takes any number of positional arguments, calculates their sum by using the sum() function, and then returns that sum:\n",
    "\n",
    "def sum_args(*args):\n",
    "    return sum(args)"
   ]
  },
  {
   "cell_type": "code",
   "execution_count": 77,
   "metadata": {},
   "outputs": [],
   "source": [
    "# Let’s define the new function run_with_positional_args(), which takes a function and any number of positional arguments to pass to it:\n",
    "\n",
    "def run_with_positional_args(func, *args):\n",
    "    return func(*args)"
   ]
  },
  {
   "cell_type": "code",
   "execution_count": 78,
   "metadata": {},
   "outputs": [
    {
     "data": {
      "text/plain": [
       "10"
      ]
     },
     "execution_count": 78,
     "metadata": {},
     "output_type": "execute_result"
    }
   ],
   "source": [
    "run_with_positional_args(sum_args, 1, 2, 3, 4)"
   ]
  },
  {
   "cell_type": "markdown",
   "metadata": {},
   "source": [
    "Functions as elements of lists, tuples, sets, and dictionaries. Functions are immutable, so you can also use them as dictionary keys."
   ]
  },
  {
   "cell_type": "markdown",
   "metadata": {},
   "source": [
    "# Inner Functions"
   ]
  },
  {
   "cell_type": "code",
   "execution_count": 82,
   "metadata": {},
   "outputs": [],
   "source": [
    "# An inner function can be useful when performing some complex task more than once within another function, to avoid loops or code duplication.\n",
    "\n",
    "def outer(a, b):\n",
    "    def inner(c, d):\n",
    "        return c + d\n",
    "    return inner(a, b)"
   ]
  },
  {
   "cell_type": "code",
   "execution_count": 83,
   "metadata": {},
   "outputs": [
    {
     "data": {
      "text/plain": [
       "12"
      ]
     },
     "execution_count": 83,
     "metadata": {},
     "output_type": "execute_result"
    }
   ],
   "source": [
    "outer(4, 8)"
   ]
  },
  {
   "cell_type": "markdown",
   "metadata": {},
   "source": [
    "# Closures\n",
    "\n",
    "An inner function can act as a closure. This is a function that is dynamically generated by another function and can both change and remember the values of variables that were created outside the function."
   ]
  },
  {
   "cell_type": "code",
   "execution_count": 84,
   "metadata": {},
   "outputs": [],
   "source": [
    "# Let’s call the new one knights2(), because we have no imagination, and turn the inner() function into a closure called inner2(). Here are the differences:\n",
    "\n",
    "# * inner2() uses the outer saying parameter directly instead of getting it as an argument.\n",
    "\n",
    "# * knights2() returns the inner2 function name instead of calling it:\n",
    "\n"
   ]
  },
  {
   "cell_type": "code",
   "execution_count": 85,
   "metadata": {},
   "outputs": [],
   "source": [
    "def knights2(saying):\n",
    "    def inner2():\n",
    "        return \"We are the knights who say: '%s'\" % saying\n",
    "    return inner2\n",
    "\n",
    "# The inner2() function knows the value of saying that was passed in and remembers it. The line return inner2 returns this specialized copy of the inner2 function (but doesn’t call it). That’s a kind of closure: a dynamically created function that remembers where it came from."
   ]
  },
  {
   "cell_type": "code",
   "execution_count": 86,
   "metadata": {},
   "outputs": [],
   "source": [
    "a = knights2('Duck')"
   ]
  },
  {
   "cell_type": "code",
   "execution_count": 87,
   "metadata": {},
   "outputs": [],
   "source": [
    "b = knights2('Hasenpfeffer')"
   ]
  },
  {
   "cell_type": "code",
   "execution_count": 88,
   "metadata": {},
   "outputs": [
    {
     "data": {
      "text/plain": [
       "function"
      ]
     },
     "execution_count": 88,
     "metadata": {},
     "output_type": "execute_result"
    }
   ],
   "source": [
    "type(a)"
   ]
  },
  {
   "cell_type": "code",
   "execution_count": 89,
   "metadata": {},
   "outputs": [
    {
     "data": {
      "text/plain": [
       "<function __main__.knights2.<locals>.inner2()>"
      ]
     },
     "execution_count": 89,
     "metadata": {},
     "output_type": "execute_result"
    }
   ],
   "source": [
    "b"
   ]
  },
  {
   "cell_type": "code",
   "execution_count": 90,
   "metadata": {},
   "outputs": [
    {
     "data": {
      "text/plain": [
       "\"We are the knights who say: 'Duck'\""
      ]
     },
     "execution_count": 90,
     "metadata": {},
     "output_type": "execute_result"
    }
   ],
   "source": [
    "# If we call them, they remember the saying that was used when they were created by knights2:\n",
    "\n",
    "a()"
   ]
  },
  {
   "cell_type": "markdown",
   "metadata": {},
   "source": [
    "# Anonymous Functions: lambda\n",
    "\n",
    "A Python lambda function is an anonymous function expressed as a single statement. You can use it instead of a normal tiny function.\n",
    "\n",
    "To illustrate it, let’s first make an example that uses normal functions. To begin, let’s define the function edit_story(). Its arguments are the following:"
   ]
  },
  {
   "cell_type": "code",
   "execution_count": 91,
   "metadata": {},
   "outputs": [],
   "source": [
    "# words—a list of words\n",
    "\n",
    "# func—a function to apply to each word in words\n",
    "\n",
    "def edit_story(words, func):\n",
    "    for word in words:\n",
    "        print(func(word))"
   ]
  },
  {
   "cell_type": "markdown",
   "metadata": {},
   "source": [
    "stairs = ['thud', 'meow', 'thud', 'hiss']"
   ]
  },
  {
   "cell_type": "code",
   "execution_count": 95,
   "metadata": {},
   "outputs": [],
   "source": [
    "# And for the function, this will capitalize each word and append an exclamation point, perfect for feline tabloid newspaper headlines:\n",
    "stairs = ['thud', 'meow', 'thud', 'hiss']\n",
    "\n",
    "\n",
    "def enliven(word):   # give that prose more punch\n",
    "    return word.capitalize() + '!'"
   ]
  },
  {
   "cell_type": "code",
   "execution_count": 96,
   "metadata": {},
   "outputs": [
    {
     "name": "stdout",
     "output_type": "stream",
     "text": [
      "Thud!\n",
      "Meow!\n",
      "Thud!\n",
      "Hiss!\n"
     ]
    }
   ],
   "source": [
    "edit_story(stairs, enliven)"
   ]
  },
  {
   "cell_type": "code",
   "execution_count": 98,
   "metadata": {},
   "outputs": [
    {
     "name": "stdout",
     "output_type": "stream",
     "text": [
      "Thud!\n",
      "Meow!\n",
      "Thud!\n",
      "Hiss!\n"
     ]
    }
   ],
   "source": [
    "# Finally, we get to the lambda. The enliven() function was so brief that we could replace it with a lambda:\n",
    "\n",
    "edit_story(stairs, lambda word: word.capitalize() + '!')"
   ]
  },
  {
   "cell_type": "markdown",
   "metadata": {},
   "source": [
    "A lambda has zero or more comma-separated arguments, followed by a colon (:), and then the definition of the function. We’re giving this lambda one argument, word. You don’t use parentheses with lambda as you would when calling a function created with def.\n",
    "\n",
    "Often, using real functions such as enliven() is much clearer than using lambdas. Lambdas are mostly useful for cases in which you would otherwise need to define many tiny functions and remember what you called them all. In particular, you can use lambdas in graphical user interfaces to define callback functions"
   ]
  },
  {
   "cell_type": "markdown",
   "metadata": {},
   "source": [
    "# Generators\n",
    "\n",
    "A generator is a Python sequence creation object. With it, you can iterate through potentially huge sequences without creating and storing the entire sequence in memory at once. Generators are often the source of data for iterators."
   ]
  },
  {
   "cell_type": "code",
   "execution_count": 105,
   "metadata": {},
   "outputs": [
    {
     "data": {
      "text/plain": [
       "5336592776371605"
      ]
     },
     "execution_count": 105,
     "metadata": {},
     "output_type": "execute_result"
    }
   ],
   "source": [
    "sum(range(1, 103311111))"
   ]
  },
  {
   "cell_type": "markdown",
   "metadata": {},
   "source": [
    "Every time you iterate through a generator, it keeps track of where it was the last time it was called and returns the next value. This is different from a normal function, which has no memory of previous calls and always starts at its first line with the same state."
   ]
  },
  {
   "cell_type": "markdown",
   "metadata": {},
   "source": [
    "# Generator Functions"
   ]
  },
  {
   "cell_type": "markdown",
   "metadata": {},
   "source": [
    "If you want to create a potentially large sequence, you can write a generator function. It’s a normal function, but it returns its value with a yield statement rather than return. Let’s write our own version of range():"
   ]
  },
  {
   "cell_type": "code",
   "execution_count": 106,
   "metadata": {},
   "outputs": [],
   "source": [
    "def my_range(first=0, last=10, step=1):\n",
    "    number = first\n",
    "    while number < last:\n",
    "        yield number\n",
    "        number += step"
   ]
  },
  {
   "cell_type": "code",
   "execution_count": 108,
   "metadata": {},
   "outputs": [
    {
     "data": {
      "text/plain": [
       "<function __main__.my_range(first=0, last=10, step=1)>"
      ]
     },
     "execution_count": 108,
     "metadata": {},
     "output_type": "execute_result"
    }
   ],
   "source": [
    "my_range"
   ]
  },
  {
   "cell_type": "code",
   "execution_count": 111,
   "metadata": {},
   "outputs": [
    {
     "data": {
      "text/plain": [
       "<generator object my_range at 0x0000029F2205AC70>"
      ]
     },
     "execution_count": 111,
     "metadata": {},
     "output_type": "execute_result"
    }
   ],
   "source": [
    "# returns a generator object:\n",
    "\n",
    "ranger = my_range(1, 9)\n",
    "ranger"
   ]
  },
  {
   "cell_type": "code",
   "execution_count": 112,
   "metadata": {},
   "outputs": [
    {
     "name": "stdout",
     "output_type": "stream",
     "text": [
      "1\n",
      "2\n",
      "3\n",
      "4\n",
      "5\n",
      "6\n",
      "7\n",
      "8\n"
     ]
    }
   ],
   "source": [
    "for x in ranger:\n",
    "    print(x)"
   ]
  },
  {
   "cell_type": "markdown",
   "metadata": {},
   "source": [
    "A generator can be run only once. Lists, sets, strings, and dictionaries exist in memory, but a generator creates its values on the fly and hands them out one at a time through an iterator. It doesn’t remember them, so you can’t restart or back up a generator."
   ]
  },
  {
   "cell_type": "markdown",
   "metadata": {},
   "source": [
    "# Generator Comprehensions"
   ]
  },
  {
   "cell_type": "markdown",
   "metadata": {},
   "source": [
    "You’ve seen comprehensions for lists, dictionaries, and sets. A generator comprehension looks like those, but is surrounded by parentheses instead of square or curly brackets. It’s like a shorthand version of a generator function, doing the yield invisibly, and also returns a generator object:\n",
    "\n"
   ]
  },
  {
   "cell_type": "code",
   "execution_count": 114,
   "metadata": {},
   "outputs": [
    {
     "data": {
      "text/plain": [
       "<generator object <genexpr> at 0x0000029F2205B5A0>"
      ]
     },
     "execution_count": 114,
     "metadata": {},
     "output_type": "execute_result"
    }
   ],
   "source": [
    "genobj = (pair for pair in zip(['a', 'b'], ['1', '2']))\n",
    "genobj"
   ]
  },
  {
   "cell_type": "code",
   "execution_count": 115,
   "metadata": {},
   "outputs": [
    {
     "name": "stdout",
     "output_type": "stream",
     "text": [
      "('a', '1')\n",
      "('b', '2')\n"
     ]
    }
   ],
   "source": [
    "for thing in genobj:\n",
    "    print(thing)"
   ]
  },
  {
   "cell_type": "markdown",
   "metadata": {},
   "source": [
    "# Decorators"
   ]
  },
  {
   "cell_type": "markdown",
   "metadata": {},
   "source": [
    "Sometimes, you want to modify an existing function without changing its source code. A common example is adding a debugging statement to see what arguments were passed in.\n",
    "\n",
    "A decorator is a function that takes one function as input and returns another function. Let’s dig into our bag of Python tricks and use the following:\n",
    "\n",
    "* *args and **kwargs\n",
    "\n",
    "* Inner functions\n",
    "\n",
    "* Functions as arguments"
   ]
  },
  {
   "cell_type": "markdown",
   "metadata": {},
   "source": [
    "The function document_it() defines a decorator that will do the following:\n",
    "\n",
    "* Print the function’s name and the values of its arguments\n",
    "\n",
    "* Run the function with the arguments\n",
    "\n",
    "* Print the result\n",
    "\n",
    "* Return the modified function for use\n",
    "\n",
    "Here’s what the code looks like:"
   ]
  },
  {
   "cell_type": "code",
   "execution_count": 117,
   "metadata": {},
   "outputs": [],
   "source": [
    "def document_it(func):\n",
    "    def new_function(*args, **kwargs):\n",
    "        print('Running function:', func.__name__)\n",
    "        print('Positional arguments:', args)\n",
    "        print('Keyword arguments:', kwargs)\n",
    "        result = func(*args, **kwargs)\n",
    "        print('Result:', result)\n",
    "        return result\n",
    "    return new_function\n",
    "\n",
    "# Whatever func you pass to document_it(), you get a new function that includes the extra statements that document_it() adds. A decorator doesn’t actually have to run any code from func, but document_it() calls func partway through so that you get the results of func as well as all the extras."
   ]
  },
  {
   "cell_type": "code",
   "execution_count": 118,
   "metadata": {},
   "outputs": [],
   "source": [
    "# So, how do you use this? You can apply the decorator manually:\n",
    "\n",
    "def add_ints(a, b):\n",
    "    return a + b"
   ]
  },
  {
   "cell_type": "code",
   "execution_count": 119,
   "metadata": {},
   "outputs": [
    {
     "data": {
      "text/plain": [
       "9"
      ]
     },
     "execution_count": 119,
     "metadata": {},
     "output_type": "execute_result"
    }
   ],
   "source": [
    "add_ints(3, 6)"
   ]
  },
  {
   "cell_type": "code",
   "execution_count": 120,
   "metadata": {},
   "outputs": [],
   "source": [
    "cooler_add_ints = document_it(add_ints)  # manual decorator assignment"
   ]
  },
  {
   "cell_type": "code",
   "execution_count": 121,
   "metadata": {},
   "outputs": [
    {
     "name": "stdout",
     "output_type": "stream",
     "text": [
      "Running function: add_ints\n",
      "Positional arguments: (3, 5)\n",
      "Keyword arguments: {}\n",
      "Result: 8\n"
     ]
    },
    {
     "data": {
      "text/plain": [
       "8"
      ]
     },
     "execution_count": 121,
     "metadata": {},
     "output_type": "execute_result"
    }
   ],
   "source": [
    "cooler_add_ints(3, 5)"
   ]
  },
  {
   "cell_type": "code",
   "execution_count": 122,
   "metadata": {},
   "outputs": [
    {
     "name": "stdout",
     "output_type": "stream",
     "text": [
      "Running function: add_ints\n",
      "Positional arguments: (3, 5)\n",
      "Keyword arguments: {}\n",
      "Result: 8\n"
     ]
    },
    {
     "data": {
      "text/plain": [
       "8"
      ]
     },
     "execution_count": 122,
     "metadata": {},
     "output_type": "execute_result"
    }
   ],
   "source": [
    "# As an alternative to the manual decorator assignment we just looked at, you can add @decorator_name before the function that you want to decorate:\n",
    "\n",
    "@document_it\n",
    "def add_ints(a, b):\n",
    "    return a + b\n",
    "add_ints(3, 5)"
   ]
  },
  {
   "cell_type": "code",
   "execution_count": 123,
   "metadata": {},
   "outputs": [],
   "source": [
    "# You can have more than one decorator for a function. Let’s write another decorator called square_it() that squares the result:\n",
    "\n",
    "def square_it(func):\n",
    "    def new_function(*args, **kwargs):\n",
    "        result = func(*args, **kwargs)\n",
    "        return result * result\n",
    "    return new_function"
   ]
  },
  {
   "cell_type": "code",
   "execution_count": 125,
   "metadata": {},
   "outputs": [
    {
     "name": "stdout",
     "output_type": "stream",
     "text": [
      "Running function: new_function\n",
      "Positional arguments: (3, 5)\n",
      "Keyword arguments: {}\n",
      "Result: 64\n"
     ]
    },
    {
     "data": {
      "text/plain": [
       "64"
      ]
     },
     "execution_count": 125,
     "metadata": {},
     "output_type": "execute_result"
    }
   ],
   "source": [
    "# The decorator that’s used closest to the function (just above the def) runs first and then the one above it. Either order gives the same end result, but you can see how the intermediate steps change\n",
    "\n",
    "@document_it\n",
    "@square_it\n",
    "def add_ints(a, b):\n",
    "    return a + b\n",
    "\n",
    "\n",
    "add_ints(3, 5)"
   ]
  },
  {
   "cell_type": "markdown",
   "metadata": {},
   "source": [
    "# Namespaces and Scope"
   ]
  },
  {
   "cell_type": "markdown",
   "metadata": {},
   "source": [
    "A name can refer to different things, depending on where it’s used. Python programs have various namespaces—sections within which a particular name is unique and unrelated to the same name in other namespaces.\n",
    "\n",
    "Each function defines its own namespace. If you define a variable called x in a main program and another variable called x in a function, they refer to different things. But the walls can be breached: if you need to, you can access names in other namespaces in various ways.\n",
    "\n",
    "The main part of a program defines the global namespace; thus, the variables in that namespace are global variables.\n"
   ]
  },
  {
   "cell_type": "code",
   "execution_count": 126,
   "metadata": {},
   "outputs": [],
   "source": [
    "# global variable from within a function:\n",
    "\n",
    "animal = 'fruitbat'\n",
    "def print_global():\n",
    "    print('inside print_global:', animal)"
   ]
  },
  {
   "cell_type": "code",
   "execution_count": 127,
   "metadata": {},
   "outputs": [
    {
     "name": "stdout",
     "output_type": "stream",
     "text": [
      "at the top level: fruitbat\n"
     ]
    }
   ],
   "source": [
    "print('at the top level:', animal)"
   ]
  },
  {
   "cell_type": "code",
   "execution_count": 128,
   "metadata": {},
   "outputs": [
    {
     "name": "stdout",
     "output_type": "stream",
     "text": [
      "inside print_global: fruitbat\n"
     ]
    }
   ],
   "source": [
    "print_global()"
   ]
  },
  {
   "cell_type": "code",
   "execution_count": 130,
   "metadata": {},
   "outputs": [
    {
     "ename": "UnboundLocalError",
     "evalue": "local variable 'animal' referenced before assignment",
     "output_type": "error",
     "traceback": [
      "\u001b[1;31m---------------------------------------------------------------------------\u001b[0m",
      "\u001b[1;31mUnboundLocalError\u001b[0m                         Traceback (most recent call last)",
      "\u001b[1;32m~\\AppData\\Local\\Temp/ipykernel_13060/2633489429.py\u001b[0m in \u001b[0;36m<module>\u001b[1;34m\u001b[0m\n\u001b[0;32m      7\u001b[0m \u001b[1;33m\u001b[0m\u001b[0m\n\u001b[0;32m      8\u001b[0m \u001b[1;33m\u001b[0m\u001b[0m\n\u001b[1;32m----> 9\u001b[1;33m \u001b[0mchange_and_print_global\u001b[0m\u001b[1;33m(\u001b[0m\u001b[1;33m)\u001b[0m\u001b[1;33m\u001b[0m\u001b[1;33m\u001b[0m\u001b[0m\n\u001b[0m",
      "\u001b[1;32m~\\AppData\\Local\\Temp/ipykernel_13060/2633489429.py\u001b[0m in \u001b[0;36mchange_and_print_global\u001b[1;34m()\u001b[0m\n\u001b[0;32m      2\u001b[0m \u001b[1;33m\u001b[0m\u001b[0m\n\u001b[0;32m      3\u001b[0m \u001b[1;32mdef\u001b[0m \u001b[0mchange_and_print_global\u001b[0m\u001b[1;33m(\u001b[0m\u001b[1;33m)\u001b[0m\u001b[1;33m:\u001b[0m\u001b[1;33m\u001b[0m\u001b[1;33m\u001b[0m\u001b[0m\n\u001b[1;32m----> 4\u001b[1;33m     \u001b[0mprint\u001b[0m\u001b[1;33m(\u001b[0m\u001b[1;34m'inside change_and_print_global:'\u001b[0m\u001b[1;33m,\u001b[0m \u001b[0manimal\u001b[0m\u001b[1;33m)\u001b[0m\u001b[1;33m\u001b[0m\u001b[1;33m\u001b[0m\u001b[0m\n\u001b[0m\u001b[0;32m      5\u001b[0m     \u001b[0manimal\u001b[0m \u001b[1;33m=\u001b[0m \u001b[1;34m'wombat'\u001b[0m\u001b[1;33m\u001b[0m\u001b[1;33m\u001b[0m\u001b[0m\n\u001b[0;32m      6\u001b[0m     \u001b[0mprint\u001b[0m\u001b[1;33m(\u001b[0m\u001b[1;34m'after the change:'\u001b[0m\u001b[1;33m,\u001b[0m \u001b[0manimal\u001b[0m\u001b[1;33m)\u001b[0m\u001b[1;33m\u001b[0m\u001b[1;33m\u001b[0m\u001b[0m\n",
      "\u001b[1;31mUnboundLocalError\u001b[0m: local variable 'animal' referenced before assignment"
     ]
    }
   ],
   "source": [
    "# But if you try to get the value of the global variable and change it within the function, you get an error\n",
    "\n",
    "def change_and_print_global():\n",
    "    print('inside change_and_print_global:', animal)\n",
    "    animal = 'wombat'\n",
    "    print('after the change:', animal)\n",
    "\n",
    "\n",
    "change_and_print_global()"
   ]
  },
  {
   "cell_type": "code",
   "execution_count": 132,
   "metadata": {},
   "outputs": [
    {
     "name": "stdout",
     "output_type": "stream",
     "text": [
      "inside change_local: wombat 2882493912752\n"
     ]
    }
   ],
   "source": [
    "# If you just change it, it changes a different variable also named animal, but this variable is inside the function:\n",
    "\n",
    "def change_local():\n",
    "    animal = 'wombat'\n",
    "    print('inside change_local:', animal, id(animal))\n",
    "\n",
    "\n",
    "change_local()"
   ]
  },
  {
   "cell_type": "code",
   "execution_count": 133,
   "metadata": {},
   "outputs": [
    {
     "data": {
      "text/plain": [
       "'fruitbat'"
      ]
     },
     "execution_count": 133,
     "metadata": {},
     "output_type": "execute_result"
    }
   ],
   "source": [
    "animal"
   ]
  },
  {
   "cell_type": "code",
   "execution_count": 135,
   "metadata": {},
   "outputs": [
    {
     "data": {
      "text/plain": [
       "2882492990192"
      ]
     },
     "execution_count": 135,
     "metadata": {},
     "output_type": "execute_result"
    }
   ],
   "source": [
    "id(animal)"
   ]
  },
  {
   "cell_type": "markdown",
   "metadata": {},
   "source": [
    "The first line assigned the string 'fruitbat' to a global variable named animal. The change_local() function also has a variable named animal, but that’s in its local namespace.\n",
    "\n",
    "I used the Python function id() here to print the unique value for each object and prove that the variable animal inside change_local() is not the same as animal at the main level of the program."
   ]
  },
  {
   "cell_type": "code",
   "execution_count": 136,
   "metadata": {},
   "outputs": [],
   "source": [
    "# To access the global variable rather than the local one within a function, you need to be explicit and use the global keyword (you knew this was coming: explicit is better than implicit)\n",
    "\n",
    "animal = 'fruitbat'\n",
    "def change_and_print_global():\n",
    "    global animal\n",
    "    animal = 'wombat'\n",
    "    print('inside change_and_print_global:', animal)"
   ]
  },
  {
   "cell_type": "code",
   "execution_count": 137,
   "metadata": {},
   "outputs": [
    {
     "data": {
      "text/plain": [
       "'fruitbat'"
      ]
     },
     "execution_count": 137,
     "metadata": {},
     "output_type": "execute_result"
    }
   ],
   "source": [
    "animal"
   ]
  },
  {
   "cell_type": "code",
   "execution_count": 138,
   "metadata": {},
   "outputs": [
    {
     "name": "stdout",
     "output_type": "stream",
     "text": [
      "inside change_and_print_global: wombat\n"
     ]
    }
   ],
   "source": [
    "change_and_print_global()"
   ]
  },
  {
   "cell_type": "code",
   "execution_count": 139,
   "metadata": {},
   "outputs": [
    {
     "data": {
      "text/plain": [
       "'wombat'"
      ]
     },
     "execution_count": 139,
     "metadata": {},
     "output_type": "execute_result"
    }
   ],
   "source": [
    "animal"
   ]
  },
  {
   "cell_type": "markdown",
   "metadata": {},
   "source": [
    "If you don’t say global within a function, Python uses the local namespace and the variable is local. It goes away after the function completes.\n",
    "\n",
    "Python provides two functions to access the contents of your namespaces:\n",
    "\n",
    "* ```locals()``` returns a dictionary of the contents of the local namespace.\n",
    "\n",
    "* ```globals()``` returns a dictionary of the contents of the global namespace"
   ]
  },
  {
   "cell_type": "code",
   "execution_count": 141,
   "metadata": {},
   "outputs": [
    {
     "data": {
      "text/plain": [
       "'fruitbat'"
      ]
     },
     "execution_count": 141,
     "metadata": {},
     "output_type": "execute_result"
    }
   ],
   "source": [
    "animal = 'fruitbat'\n",
    "\n",
    "def change_local():\n",
    "    animal = 'wombat'  # local variable\n",
    "    print('locals:', locals())\n",
    "\n",
    "\n",
    "animal"
   ]
  },
  {
   "cell_type": "code",
   "execution_count": 142,
   "metadata": {},
   "outputs": [
    {
     "name": "stdout",
     "output_type": "stream",
     "text": [
      "locals: {'animal': 'wombat'}\n"
     ]
    }
   ],
   "source": [
    "change_local()"
   ]
  },
  {
   "cell_type": "code",
   "execution_count": 143,
   "metadata": {},
   "outputs": [
    {
     "name": "stdout",
     "output_type": "stream",
     "text": [
      "globals: {'__name__': '__main__', '__doc__': 'Automatically created module for IPython interactive environment', '__package__': None, '__loader__': None, '__spec__': None, '__builtin__': <module 'builtins' (built-in)>, '__builtins__': <module 'builtins' (built-in)>, '_ih': ['', \"def make_a_sound():\\n    print('hej')\\n\\nmake_a_sound()\", '# Let’s try a function that has no parameters but returns a value:\\n\\ndef agree():\\n    return True\\n\\nagree()', \"# Let’s define the function echo() with one parameter called anything. It uses the return statement to send the value of anything back to its caller twice, with a space between:\\n\\ndef echo (cos):\\n    return cos + ' ' + cos\\n\\n\\necho ('test')\", 'def commentary(color):\\n    if color == \\'red\\':\\n        return \"It\\'s a tomato.\"\\n    elif color == \"green\":\\n        return \"It\\'s a green pepper.\"\\n    elif color == \\'bee purple\\':\\n        return \"I don\\'t know what it is, but only bees can see it.\"\\n    else:\\n        return \"I\\'ve never heard of the color \"  + color +  \".\"', \"comment = commentary('blue')\", 'print(comment)', 'thing = None\\nif thing:\\n    print(\"It\\'s some thing\")\\nelse:\\n    print(\"It\\'s no thing\")', '# To distinguish None from a boolean False value, use Python’s is operator:\\n\\nthing = None\\nif thing is None:\\n    print(\"It\\'s nothing\")\\nelse:\\n    print(\"It\\'s something\")', '# Let’s write a quick function that prints whether its argument is None, True, or False\\n\\ndef whatis(thing):\\n    if thing is None:\\n        print(thing, \"is None\")\\n    elif thing:\\n        print(thing, \"is True\")\\n    else:\\n        print(thing, \"is False\")', 'whatis(None)', 'whatis(True)', 'whatis(False)', 'whatis(0)', 'whatis(0.0)', \"whatis('''''')\", 'whatis({})', 'whatis(set())', \"whatis([''])\", 'whatis(0.00001)', \"# This function builds a dictionary from its positional input arguments and returns it:\\n\\ndef menu(wine, entree, dessert):\\n    return {'wine': wine, 'entree': entree, 'dessert': dessert}\", \"menu('chardonnay', 'chicken', 'cake')\", \"# Although very common, a downside of positional arguments is that you need to remember the meaning of each position. If we forgot and called menu() with wine as the last argument instead of the first, the meal would be very different:\\n\\nmenu('beef', 'bagel', 'bordeaux')\", \"menu(entree='beef', dessert='bagel', wine='bordeaux')\", \"# You can mix positional and keyword arguments. Let’s specify the wine first, but use keyword arguments for the entree and dessert:\\n\\nmenu('frontenac', dessert='flan', entree='fish')\", \"# You can mix positional and keyword arguments. Let’s specify the wine first, but use keyword arguments for the entree and dessert:\\n\\nmenu('frontenac', dessert='flan', entree='fish')\\n\\n# If you call a function with both positional and keyword arguments, the positional arguments need to come first.\", \"def menu(wine, entree, dessert='pudding'):\\n    return {'wine': wine, 'entree': entree, 'dessert': dessert}\", \"# This time, try calling menu() without the dessert argument:\\n\\nmenu('chardonnay', 'chicken')\", \"# If you do provide an argument, it’s used instead of the default:\\n\\nmenu('dunkelfelder', 'duck', 'doughnut')\", 'def buggy(arg, result=[]):\\n    result.append(arg)\\n    print(result)', \"buggy('a')\", \"buggy('b')   # expect ['b']\", '# It would have worked if \\n\\ndef works(arg):\\n    result = []\\n    result.append(arg)\\n    return result', \"works('a')\", \"works('b')\", '# The fix is to pass in something else to indicate the first call:\\n\\ndef nonbuggy(arg, result=None):\\n    if result is None:\\n        result = []\\n    result.append(arg)\\n    print(result)', \"nonbuggy('a')\", \"nonbuggy('b')\", \"def print_args(*args):\\n    print('Positional tuple:', args)\", 'print_args()', '# If you call the function with no arguments, you get nothing in *args\\n\\nprint_args()', \"# Whatever you give it will be printed as the args tuple:\\n\\nprint_args(3, 2, 1, 'wait!', 'uh...')\", \"# If your function has required positional arguments, as well, put them first; *args goes at the end and grabs all the rest:\\n\\ndef print_more(required1, required2, *args):\\n    print('Need this one:', required1)\\n    print('Need this one too:', required2)\\n    print('All the rest:', args)\", \"# If your function has required positional arguments, as well, put them first; *args goes at the end and grabs all the rest:\\n\\ndef print_more(required1, required2, *args):\\n    print('Need this one:', required1)\\n    print('Need this one too:', required2)\\n    print('All the rest:', args)\\n\\nprint_more('cap', 'gloves', 'scarf', 'monocle', 'mustache wax')\", \"print_args(2, 5, 7, 'x')\", \"args = (2,5,7,'x')\", 'print_args(args)', 'print_args(*args)', \"def print_kwargs(**kwargs):\\n    print('Keyword arguments:', kwarg\", \"def print_kwargs(**kwargs):\\n    print('Keyword arguments:', kwargs)\", 'print_kwargs()', \"print_kwargs(wine='merlot', entree='mutton', dessert='macaroon')\", 'def print_data(data, *, start=0, end=100):\\n    for value in (data[start:end]):\\n        print(value)', \"data = ['a', 'b', 'c', 'd', 'e', 'f']\\nprint_data(data)\", 'print_data(data, start=4)', 'print_data(data, end=2)', \"outside = ['one', 'fine', 'day']\\n\\ndef mangle(arg):\\n    arg[1] = 'terrible!'\", 'outside', 'mangle(outside)\\noutside', \"def echo(anything):\\n    'echo returns its input argument'\\n    return anything\", \"def print_if_true(thing, check):\\n    '''\\n    Prints the first argument if a second argument is true.\\n    The operation is:\\n        1. Check whether the *second* argument is true.\\n        2. If it is, print the *first* argument.\\n    '''\\n    if check:\\n        print(thing)\", '# To print a function’s docstring, call the Python help() function. Pass the function’s name to get a listing of arguments along with the nicely formatted docstring:\\n\\nhelp(echo)', 'print(echo.__doc__)', 'def answer():\\n    print(42)', 'answer', 'answer()', '# Now let’s define another function named run_something. It has one argument called func, a function to run. Once inside, it just calls the function:\\ndef run_something(func):\\n    func()', '# If we pass answer to run_something(), we’re using a function as data, just as with anything else:\\nrun_something(answer)', '# Above example show: answer, not answer(). In Python, those parentheses mean call this function. With no parentheses, Python just treats the function like any other object. That’s because, like everything else in Python, it is an object:\\n\\ntype(run_something', '# Above example show: answer, not answer(). In Python, those parentheses mean call this function. With no parentheses, Python just treats the function like any other object. That’s because, like everything else in Python, it is an object:\\n\\ntype(run_something)', '# Let’s try running a function with arguments. Define a function add_args() that prints the sum of its two numeric arguments, arg1 and arg2:', 'def add_args(arg1, arg2):\\n    print(arg1 + arg2)', '# At this point, let’s define a function called run_something_with_args() that takes three arguments:\\n\\n# func\\n# The function to run\\n\\n# arg1\\n# The first argument for func\\n\\n# arg2\\n# The second argument for func\\n\\n\\ndef run_something_with_args(func, arg1, arg2):\\n    func(arg1, arg2)', '# At this point, let’s define a function called run_something_with_args() that takes three arguments:\\n\\n# func\\n# The function to run\\n\\n# arg1\\n# The first argument for func\\n\\n# arg2\\n# The second argument for func\\n\\n\\ndef run_something_with_args(func, arg1, arg2):\\n    func(arg1, arg2)\\n\\n# When you call run_something_with_args(), the function passed by the caller is assigned to the func parameter, whereas arg1 and arg2 get the values that follow in the argument list. Then, running func(arg1, arg2) executes that function with those arguments because the parentheses told Python to do so.', 'run_something_with_args(add_args, 5, 9)', 'run_something_with_args(add_args, 5, 5)', '# Let’s define a test function that takes any number of positional arguments, calculates their sum by using the sum() function, and then returns that sum:\\n\\ndef sum_args(*args):\\n    return sum(args)', '# Let’s define the new function run_with_positional_args(), which takes a function and any number of positional arguments to pass to it:\\n\\ndef run_with_positional_args(func, *args):\\n    return func(*args)', 'run_with_positional_args(sum_args, 1, 2, 3, 4)', '# Functions as elements of lists, tuples, sets, and dictionaries. Functions are immutable, so you can also use them as dictionary keys.', 'def outer(a, b):\\n    def inner(c, d):\\n        return c + d\\n    return inner(a, b)', 'outer(4, 8)', '# An inner function can be useful when performing some complex task more than once within another function, to avoid loops or code duplication.\\n\\ndef outer(a, b):\\n    def inner(c, d):\\n        return c + d\\n    return inner(a, b)', 'outer(4, 8)', '# Let’s call the new one knights2(), because we have no imagination, and turn the inner() function into a closure called inner2(). Here are the differences:\\n\\n# * inner2() uses the outer saying parameter directly instead of getting it as an argument.\\n\\n# * knights2() returns the inner2 function name instead of calling it:', 'def knights2(saying):\\n    def inner2():\\n        return \"We are the knights who say: \\'%s\\'\" % saying\\n    return inner2\\n\\n# The inner2() function knows the value of saying that was passed in and remembers it. The line return inner2 returns this specialized copy of the inner2 function (but doesn’t call it). That’s a kind of closure: a dynamically created function that remembers where it came from.', \"a = knights2('Duck')\", \"b = knights2('Hasenpfeffer')\", 'type(a)', 'b', '# If we call them, they remember the saying that was used when they were created by knights2:\\n\\na()', '# words—a list of words\\n\\n# func—a function to apply to each word in words\\n\\ndef edit_story(words, func):\\n    for word in words:\\n        print(func(word))', \"# And for the function, this will capitalize each word and append an exclamation point, perfect for feline tabloid newspaper headlines:\\n\\ndef enliven(word):   # give that prose more punch\\n    return word.capitalize() + '!'\", \"# And for the function, this will capitalize each word and append an exclamation point, perfect for feline tabloid newspaper headlines:\\n\\ndef enliven(word):   # give that prose more punch\\n    return word.capitalize() + '!'\", 'edit_story(stairs, enliven)', \"# And for the function, this will capitalize each word and append an exclamation point, perfect for feline tabloid newspaper headlines:\\nstairs = ['thud', 'meow', 'thud', 'hiss']\\n\\n\\ndef enliven(word):   # give that prose more punch\\n    return word.capitalize() + '!'\", 'edit_story(stairs, enliven)', \"# Finally, we get to the lambda. The enliven() function was so brief that we could replace it with a lambda:\\n\\nedit_story(stairs, lambda word: word.capitalize() + '!'\", \"# Finally, we get to the lambda. The enliven() function was so brief that we could replace it with a lambda:\\n\\nedit_story(stairs, lambda word: word.capitalize() + '!')\", 'sum(range(1, 101))', 'sum(range(1, 1033))', 'sum(range(1, 10331))', 'sum(range(1, 103311))', 'sum(range(1, 1033111))', 'sum(range(1, 10331111))', 'sum(range(1, 103311111))', 'def my_range(first=0, last=10, step=1):\\n    number = first\\n    while number < last:\\n        yield number\\n        number += step', 'my range', 'my_range', '# returns a generator object:\\n\\nranger = my_range(1, 5)\\nranger', 'for x in ranger:\\n    print(x)', '# returns a generator object:\\n\\nranger = my_range(1, 9)\\nranger', 'for x in ranger:\\n    print(x)', 'for try_again in ranger:\\n    print(try_again)', \"genobj = (pair for pair in zip(['a', 'b'], ['1', '2']))\\ngenobj\", 'for thing in genobj:\\n    print(thing)', \"def document_it(func):\\n    def new_function(*args, **kwargs):\\n        print('Running function:', func.__name__)\\n        print('Positional arguments:', args)\\n        print('Keyword arguments:', kwargs)\\n        result = func(*args, **kwargs)\\n        print('Result:', result)\\n        return result\\n    return new_function\", \"def document_it(func):\\n    def new_function(*args, **kwargs):\\n        print('Running function:', func.__name__)\\n        print('Positional arguments:', args)\\n        print('Keyword arguments:', kwargs)\\n        result = func(*args, **kwargs)\\n        print('Result:', result)\\n        return result\\n    return new_function\\n\\n# Whatever func you pass to document_it(), you get a new function that includes the extra statements that document_it() adds. A decorator doesn’t actually have to run any code from func, but document_it() calls func partway through so that you get the results of func as well as all the extras.\", '# So, how do you use this? You can apply the decorator manually:\\n\\ndef add_ints(a, b):\\n    return a + b', 'add_ints(3, 6)', 'cooler_add_ints = document_it(add_ints)  # manual decorator assignment', 'cooler_add_ints(3, 5)', '# As an alternative to the manual decorator assignment we just looked at, you can add @decorator_name before the function that you want to decorate:\\n\\n@document_it\\ndef add_ints(a, b):\\n    return a + b\\nadd_ints(3, 5)', '# You can have more than one decorator for a function. Let’s write another decorator called square_it() that squares the result:\\n\\ndef square_it(func):\\n    def new_function(*args, **kwargs):\\n        result = func(*args, **kwargs)\\n        return result * result\\n    return new_function', '# The decorator that’s used closest to the function (just above the def) runs first and then the one above it. Either order gives the same end result, but you can see how the intermediate steps change\\n\\n@document_it\\n@square_it\\ndef add_ints(a, b):\\n    return a + b', '# The decorator that’s used closest to the function (just above the def) runs first and then the one above it. Either order gives the same end result, but you can see how the intermediate steps change\\n\\n@document_it\\n@square_it\\ndef add_ints(a, b):\\n    return a + b\\n\\n\\nadd_ints(3, 5)', \"# global variable from within a function:\\n\\nanimal = 'fruitbat'\\ndef print_global():\\n    print('inside print_global:', animal)\", \"print('at the top level:', animal)\", 'print_global()', \"# But if you try to get the value of the global variable and change it within the function, you get an error\\n\\ndef change_and_print_global():\\n    print('inside change_and_print_global:', animal)\\n    animal = 'wombat'\\n    print('after the change:', animal)\", \"# But if you try to get the value of the global variable and change it within the function, you get an error\\n\\ndef change_and_print_global():\\n    print('inside change_and_print_global:', animal)\\n    animal = 'wombat'\\n    print('after the change:', animal)\\n\\n\\nchange_and_print_global()\", 'If you just change it, it changes a different variable also named animal, but this variable is inside the function:', \"# If you just change it, it changes a different variable also named animal, but this variable is inside the function:\\n\\ndef change_local():\\n    animal = 'wombat'\\n    print('inside change_local:', animal, id(animal))\\n\\n\\nchange_local()\", 'animal', 'id', 'id(animal)', \"# To access the global variable rather than the local one within a function, you need to be explicit and use the global keyword (you knew this was coming: explicit is better than implicit)\\n\\nanimal = 'fruitbat'\\ndef change_and_print_global():\\n    global animal\\n    animal = 'wombat'\\n    print('inside change_and_print_global:', animal)\", 'animal', 'change_and_print_global()', 'animal', \"animal = 'fruitbat'\\n\\ndef change_local():\\n    animal = 'wombat'  # local variable\\n    print('locals:', locals())\\n\\n\\naniamal\", \"animal = 'fruitbat'\\n\\ndef change_local():\\n    animal = 'wombat'  # local variable\\n    print('locals:', locals())\\n\\n\\nanimal\", 'change_local()', \"print('globals:', globals()) # reformatted a little for presentation\"], '_oh': {2: True, 3: 'test test', 21: {'wine': 'chardonnay', 'entree': 'chicken', 'dessert': 'cake'}, 22: {'wine': 'beef', 'entree': 'bagel', 'dessert': 'bordeaux'}, 23: {'wine': 'bordeaux', 'entree': 'beef', 'dessert': 'bagel'}, 24: {'wine': 'frontenac', 'entree': 'fish', 'dessert': 'flan'}, 25: {'wine': 'frontenac', 'entree': 'fish', 'dessert': 'flan'}, 27: {'wine': 'chardonnay', 'entree': 'chicken', 'dessert': 'pudding'}, 28: {'wine': 'dunkelfelder', 'entree': 'duck', 'dessert': 'doughnut'}, 33: ['a'], 34: ['b'], 57: ['one', 'terrible!', 'day'], 58: ['one', 'terrible!', 'day'], 64: <function answer at 0x0000029F21F48940>, 69: <class 'function'>, 78: 10, 81: 12, 83: 12, 88: <class 'function'>, 89: <function knights2.<locals>.inner2 at 0x0000029F21F49630>, 90: \"We are the knights who say: 'Duck'\", 99: 5050, 100: 533028, 101: 53359615, 102: 5336529705, 103: 533658652605, 104: 53365922081605, 105: 5336592776371605, 108: <function my_range at 0x0000029F2202B490>, 109: <generator object my_range at 0x0000029F22059E70>, 111: <generator object my_range at 0x0000029F2205AC70>, 114: <generator object <genexpr> at 0x0000029F2205B5A0>, 119: 9, 121: 8, 122: 8, 125: 64, 133: 'fruitbat', 134: <built-in function id>, 135: 2882492990192, 137: 'fruitbat', 139: 'wombat', 141: 'fruitbat'}, '_dh': ['c:\\\\Users\\\\mikol\\\\Desktop\\\\Skonczone_rzeczy\\\\Python_Bill_Lubanovic\\\\GitHub about this book\\\\Python_Bill_Lubanovic_BookCodes\\\\09. Chapter_'], 'In': ['', \"def make_a_sound():\\n    print('hej')\\n\\nmake_a_sound()\", '# Let’s try a function that has no parameters but returns a value:\\n\\ndef agree():\\n    return True\\n\\nagree()', \"# Let’s define the function echo() with one parameter called anything. It uses the return statement to send the value of anything back to its caller twice, with a space between:\\n\\ndef echo (cos):\\n    return cos + ' ' + cos\\n\\n\\necho ('test')\", 'def commentary(color):\\n    if color == \\'red\\':\\n        return \"It\\'s a tomato.\"\\n    elif color == \"green\":\\n        return \"It\\'s a green pepper.\"\\n    elif color == \\'bee purple\\':\\n        return \"I don\\'t know what it is, but only bees can see it.\"\\n    else:\\n        return \"I\\'ve never heard of the color \"  + color +  \".\"', \"comment = commentary('blue')\", 'print(comment)', 'thing = None\\nif thing:\\n    print(\"It\\'s some thing\")\\nelse:\\n    print(\"It\\'s no thing\")', '# To distinguish None from a boolean False value, use Python’s is operator:\\n\\nthing = None\\nif thing is None:\\n    print(\"It\\'s nothing\")\\nelse:\\n    print(\"It\\'s something\")', '# Let’s write a quick function that prints whether its argument is None, True, or False\\n\\ndef whatis(thing):\\n    if thing is None:\\n        print(thing, \"is None\")\\n    elif thing:\\n        print(thing, \"is True\")\\n    else:\\n        print(thing, \"is False\")', 'whatis(None)', 'whatis(True)', 'whatis(False)', 'whatis(0)', 'whatis(0.0)', \"whatis('''''')\", 'whatis({})', 'whatis(set())', \"whatis([''])\", 'whatis(0.00001)', \"# This function builds a dictionary from its positional input arguments and returns it:\\n\\ndef menu(wine, entree, dessert):\\n    return {'wine': wine, 'entree': entree, 'dessert': dessert}\", \"menu('chardonnay', 'chicken', 'cake')\", \"# Although very common, a downside of positional arguments is that you need to remember the meaning of each position. If we forgot and called menu() with wine as the last argument instead of the first, the meal would be very different:\\n\\nmenu('beef', 'bagel', 'bordeaux')\", \"menu(entree='beef', dessert='bagel', wine='bordeaux')\", \"# You can mix positional and keyword arguments. Let’s specify the wine first, but use keyword arguments for the entree and dessert:\\n\\nmenu('frontenac', dessert='flan', entree='fish')\", \"# You can mix positional and keyword arguments. Let’s specify the wine first, but use keyword arguments for the entree and dessert:\\n\\nmenu('frontenac', dessert='flan', entree='fish')\\n\\n# If you call a function with both positional and keyword arguments, the positional arguments need to come first.\", \"def menu(wine, entree, dessert='pudding'):\\n    return {'wine': wine, 'entree': entree, 'dessert': dessert}\", \"# This time, try calling menu() without the dessert argument:\\n\\nmenu('chardonnay', 'chicken')\", \"# If you do provide an argument, it’s used instead of the default:\\n\\nmenu('dunkelfelder', 'duck', 'doughnut')\", 'def buggy(arg, result=[]):\\n    result.append(arg)\\n    print(result)', \"buggy('a')\", \"buggy('b')   # expect ['b']\", '# It would have worked if \\n\\ndef works(arg):\\n    result = []\\n    result.append(arg)\\n    return result', \"works('a')\", \"works('b')\", '# The fix is to pass in something else to indicate the first call:\\n\\ndef nonbuggy(arg, result=None):\\n    if result is None:\\n        result = []\\n    result.append(arg)\\n    print(result)', \"nonbuggy('a')\", \"nonbuggy('b')\", \"def print_args(*args):\\n    print('Positional tuple:', args)\", 'print_args()', '# If you call the function with no arguments, you get nothing in *args\\n\\nprint_args()', \"# Whatever you give it will be printed as the args tuple:\\n\\nprint_args(3, 2, 1, 'wait!', 'uh...')\", \"# If your function has required positional arguments, as well, put them first; *args goes at the end and grabs all the rest:\\n\\ndef print_more(required1, required2, *args):\\n    print('Need this one:', required1)\\n    print('Need this one too:', required2)\\n    print('All the rest:', args)\", \"# If your function has required positional arguments, as well, put them first; *args goes at the end and grabs all the rest:\\n\\ndef print_more(required1, required2, *args):\\n    print('Need this one:', required1)\\n    print('Need this one too:', required2)\\n    print('All the rest:', args)\\n\\nprint_more('cap', 'gloves', 'scarf', 'monocle', 'mustache wax')\", \"print_args(2, 5, 7, 'x')\", \"args = (2,5,7,'x')\", 'print_args(args)', 'print_args(*args)', \"def print_kwargs(**kwargs):\\n    print('Keyword arguments:', kwarg\", \"def print_kwargs(**kwargs):\\n    print('Keyword arguments:', kwargs)\", 'print_kwargs()', \"print_kwargs(wine='merlot', entree='mutton', dessert='macaroon')\", 'def print_data(data, *, start=0, end=100):\\n    for value in (data[start:end]):\\n        print(value)', \"data = ['a', 'b', 'c', 'd', 'e', 'f']\\nprint_data(data)\", 'print_data(data, start=4)', 'print_data(data, end=2)', \"outside = ['one', 'fine', 'day']\\n\\ndef mangle(arg):\\n    arg[1] = 'terrible!'\", 'outside', 'mangle(outside)\\noutside', \"def echo(anything):\\n    'echo returns its input argument'\\n    return anything\", \"def print_if_true(thing, check):\\n    '''\\n    Prints the first argument if a second argument is true.\\n    The operation is:\\n        1. Check whether the *second* argument is true.\\n        2. If it is, print the *first* argument.\\n    '''\\n    if check:\\n        print(thing)\", '# To print a function’s docstring, call the Python help() function. Pass the function’s name to get a listing of arguments along with the nicely formatted docstring:\\n\\nhelp(echo)', 'print(echo.__doc__)', 'def answer():\\n    print(42)', 'answer', 'answer()', '# Now let’s define another function named run_something. It has one argument called func, a function to run. Once inside, it just calls the function:\\ndef run_something(func):\\n    func()', '# If we pass answer to run_something(), we’re using a function as data, just as with anything else:\\nrun_something(answer)', '# Above example show: answer, not answer(). In Python, those parentheses mean call this function. With no parentheses, Python just treats the function like any other object. That’s because, like everything else in Python, it is an object:\\n\\ntype(run_something', '# Above example show: answer, not answer(). In Python, those parentheses mean call this function. With no parentheses, Python just treats the function like any other object. That’s because, like everything else in Python, it is an object:\\n\\ntype(run_something)', '# Let’s try running a function with arguments. Define a function add_args() that prints the sum of its two numeric arguments, arg1 and arg2:', 'def add_args(arg1, arg2):\\n    print(arg1 + arg2)', '# At this point, let’s define a function called run_something_with_args() that takes three arguments:\\n\\n# func\\n# The function to run\\n\\n# arg1\\n# The first argument for func\\n\\n# arg2\\n# The second argument for func\\n\\n\\ndef run_something_with_args(func, arg1, arg2):\\n    func(arg1, arg2)', '# At this point, let’s define a function called run_something_with_args() that takes three arguments:\\n\\n# func\\n# The function to run\\n\\n# arg1\\n# The first argument for func\\n\\n# arg2\\n# The second argument for func\\n\\n\\ndef run_something_with_args(func, arg1, arg2):\\n    func(arg1, arg2)\\n\\n# When you call run_something_with_args(), the function passed by the caller is assigned to the func parameter, whereas arg1 and arg2 get the values that follow in the argument list. Then, running func(arg1, arg2) executes that function with those arguments because the parentheses told Python to do so.', 'run_something_with_args(add_args, 5, 9)', 'run_something_with_args(add_args, 5, 5)', '# Let’s define a test function that takes any number of positional arguments, calculates their sum by using the sum() function, and then returns that sum:\\n\\ndef sum_args(*args):\\n    return sum(args)', '# Let’s define the new function run_with_positional_args(), which takes a function and any number of positional arguments to pass to it:\\n\\ndef run_with_positional_args(func, *args):\\n    return func(*args)', 'run_with_positional_args(sum_args, 1, 2, 3, 4)', '# Functions as elements of lists, tuples, sets, and dictionaries. Functions are immutable, so you can also use them as dictionary keys.', 'def outer(a, b):\\n    def inner(c, d):\\n        return c + d\\n    return inner(a, b)', 'outer(4, 8)', '# An inner function can be useful when performing some complex task more than once within another function, to avoid loops or code duplication.\\n\\ndef outer(a, b):\\n    def inner(c, d):\\n        return c + d\\n    return inner(a, b)', 'outer(4, 8)', '# Let’s call the new one knights2(), because we have no imagination, and turn the inner() function into a closure called inner2(). Here are the differences:\\n\\n# * inner2() uses the outer saying parameter directly instead of getting it as an argument.\\n\\n# * knights2() returns the inner2 function name instead of calling it:', 'def knights2(saying):\\n    def inner2():\\n        return \"We are the knights who say: \\'%s\\'\" % saying\\n    return inner2\\n\\n# The inner2() function knows the value of saying that was passed in and remembers it. The line return inner2 returns this specialized copy of the inner2 function (but doesn’t call it). That’s a kind of closure: a dynamically created function that remembers where it came from.', \"a = knights2('Duck')\", \"b = knights2('Hasenpfeffer')\", 'type(a)', 'b', '# If we call them, they remember the saying that was used when they were created by knights2:\\n\\na()', '# words—a list of words\\n\\n# func—a function to apply to each word in words\\n\\ndef edit_story(words, func):\\n    for word in words:\\n        print(func(word))', \"# And for the function, this will capitalize each word and append an exclamation point, perfect for feline tabloid newspaper headlines:\\n\\ndef enliven(word):   # give that prose more punch\\n    return word.capitalize() + '!'\", \"# And for the function, this will capitalize each word and append an exclamation point, perfect for feline tabloid newspaper headlines:\\n\\ndef enliven(word):   # give that prose more punch\\n    return word.capitalize() + '!'\", 'edit_story(stairs, enliven)', \"# And for the function, this will capitalize each word and append an exclamation point, perfect for feline tabloid newspaper headlines:\\nstairs = ['thud', 'meow', 'thud', 'hiss']\\n\\n\\ndef enliven(word):   # give that prose more punch\\n    return word.capitalize() + '!'\", 'edit_story(stairs, enliven)', \"# Finally, we get to the lambda. The enliven() function was so brief that we could replace it with a lambda:\\n\\nedit_story(stairs, lambda word: word.capitalize() + '!'\", \"# Finally, we get to the lambda. The enliven() function was so brief that we could replace it with a lambda:\\n\\nedit_story(stairs, lambda word: word.capitalize() + '!')\", 'sum(range(1, 101))', 'sum(range(1, 1033))', 'sum(range(1, 10331))', 'sum(range(1, 103311))', 'sum(range(1, 1033111))', 'sum(range(1, 10331111))', 'sum(range(1, 103311111))', 'def my_range(first=0, last=10, step=1):\\n    number = first\\n    while number < last:\\n        yield number\\n        number += step', 'my range', 'my_range', '# returns a generator object:\\n\\nranger = my_range(1, 5)\\nranger', 'for x in ranger:\\n    print(x)', '# returns a generator object:\\n\\nranger = my_range(1, 9)\\nranger', 'for x in ranger:\\n    print(x)', 'for try_again in ranger:\\n    print(try_again)', \"genobj = (pair for pair in zip(['a', 'b'], ['1', '2']))\\ngenobj\", 'for thing in genobj:\\n    print(thing)', \"def document_it(func):\\n    def new_function(*args, **kwargs):\\n        print('Running function:', func.__name__)\\n        print('Positional arguments:', args)\\n        print('Keyword arguments:', kwargs)\\n        result = func(*args, **kwargs)\\n        print('Result:', result)\\n        return result\\n    return new_function\", \"def document_it(func):\\n    def new_function(*args, **kwargs):\\n        print('Running function:', func.__name__)\\n        print('Positional arguments:', args)\\n        print('Keyword arguments:', kwargs)\\n        result = func(*args, **kwargs)\\n        print('Result:', result)\\n        return result\\n    return new_function\\n\\n# Whatever func you pass to document_it(), you get a new function that includes the extra statements that document_it() adds. A decorator doesn’t actually have to run any code from func, but document_it() calls func partway through so that you get the results of func as well as all the extras.\", '# So, how do you use this? You can apply the decorator manually:\\n\\ndef add_ints(a, b):\\n    return a + b', 'add_ints(3, 6)', 'cooler_add_ints = document_it(add_ints)  # manual decorator assignment', 'cooler_add_ints(3, 5)', '# As an alternative to the manual decorator assignment we just looked at, you can add @decorator_name before the function that you want to decorate:\\n\\n@document_it\\ndef add_ints(a, b):\\n    return a + b\\nadd_ints(3, 5)', '# You can have more than one decorator for a function. Let’s write another decorator called square_it() that squares the result:\\n\\ndef square_it(func):\\n    def new_function(*args, **kwargs):\\n        result = func(*args, **kwargs)\\n        return result * result\\n    return new_function', '# The decorator that’s used closest to the function (just above the def) runs first and then the one above it. Either order gives the same end result, but you can see how the intermediate steps change\\n\\n@document_it\\n@square_it\\ndef add_ints(a, b):\\n    return a + b', '# The decorator that’s used closest to the function (just above the def) runs first and then the one above it. Either order gives the same end result, but you can see how the intermediate steps change\\n\\n@document_it\\n@square_it\\ndef add_ints(a, b):\\n    return a + b\\n\\n\\nadd_ints(3, 5)', \"# global variable from within a function:\\n\\nanimal = 'fruitbat'\\ndef print_global():\\n    print('inside print_global:', animal)\", \"print('at the top level:', animal)\", 'print_global()', \"# But if you try to get the value of the global variable and change it within the function, you get an error\\n\\ndef change_and_print_global():\\n    print('inside change_and_print_global:', animal)\\n    animal = 'wombat'\\n    print('after the change:', animal)\", \"# But if you try to get the value of the global variable and change it within the function, you get an error\\n\\ndef change_and_print_global():\\n    print('inside change_and_print_global:', animal)\\n    animal = 'wombat'\\n    print('after the change:', animal)\\n\\n\\nchange_and_print_global()\", 'If you just change it, it changes a different variable also named animal, but this variable is inside the function:', \"# If you just change it, it changes a different variable also named animal, but this variable is inside the function:\\n\\ndef change_local():\\n    animal = 'wombat'\\n    print('inside change_local:', animal, id(animal))\\n\\n\\nchange_local()\", 'animal', 'id', 'id(animal)', \"# To access the global variable rather than the local one within a function, you need to be explicit and use the global keyword (you knew this was coming: explicit is better than implicit)\\n\\nanimal = 'fruitbat'\\ndef change_and_print_global():\\n    global animal\\n    animal = 'wombat'\\n    print('inside change_and_print_global:', animal)\", 'animal', 'change_and_print_global()', 'animal', \"animal = 'fruitbat'\\n\\ndef change_local():\\n    animal = 'wombat'  # local variable\\n    print('locals:', locals())\\n\\n\\naniamal\", \"animal = 'fruitbat'\\n\\ndef change_local():\\n    animal = 'wombat'  # local variable\\n    print('locals:', locals())\\n\\n\\nanimal\", 'change_local()', \"print('globals:', globals()) # reformatted a little for presentation\"], 'Out': {2: True, 3: 'test test', 21: {'wine': 'chardonnay', 'entree': 'chicken', 'dessert': 'cake'}, 22: {'wine': 'beef', 'entree': 'bagel', 'dessert': 'bordeaux'}, 23: {'wine': 'bordeaux', 'entree': 'beef', 'dessert': 'bagel'}, 24: {'wine': 'frontenac', 'entree': 'fish', 'dessert': 'flan'}, 25: {'wine': 'frontenac', 'entree': 'fish', 'dessert': 'flan'}, 27: {'wine': 'chardonnay', 'entree': 'chicken', 'dessert': 'pudding'}, 28: {'wine': 'dunkelfelder', 'entree': 'duck', 'dessert': 'doughnut'}, 33: ['a'], 34: ['b'], 57: ['one', 'terrible!', 'day'], 58: ['one', 'terrible!', 'day'], 64: <function answer at 0x0000029F21F48940>, 69: <class 'function'>, 78: 10, 81: 12, 83: 12, 88: <class 'function'>, 89: <function knights2.<locals>.inner2 at 0x0000029F21F49630>, 90: \"We are the knights who say: 'Duck'\", 99: 5050, 100: 533028, 101: 53359615, 102: 5336529705, 103: 533658652605, 104: 53365922081605, 105: 5336592776371605, 108: <function my_range at 0x0000029F2202B490>, 109: <generator object my_range at 0x0000029F22059E70>, 111: <generator object my_range at 0x0000029F2205AC70>, 114: <generator object <genexpr> at 0x0000029F2205B5A0>, 119: 9, 121: 8, 122: 8, 125: 64, 133: 'fruitbat', 134: <built-in function id>, 135: 2882492990192, 137: 'fruitbat', 139: 'wombat', 141: 'fruitbat'}, 'get_ipython': <bound method InteractiveShell.get_ipython of <ipykernel.zmqshell.ZMQInteractiveShell object at 0x0000029F20232680>>, 'exit': <IPython.core.autocall.ZMQExitAutocall object at 0x0000029F202D5600>, 'quit': <IPython.core.autocall.ZMQExitAutocall object at 0x0000029F202D5600>, '_': 'fruitbat', '__': 'wombat', '___': 'fruitbat', 'os': <module 'os' from 'C:\\\\Users\\\\mikol\\\\AppData\\\\Local\\\\Programs\\\\Python\\\\Python310\\\\lib\\\\os.py'>, 'sys': <module 'sys' (built-in)>, '_i': 'change_local()', '_ii': \"animal = 'fruitbat'\\n\\ndef change_local():\\n    animal = 'wombat'  # local variable\\n    print('locals:', locals())\\n\\n\\nanimal\", '_iii': \"animal = 'fruitbat'\\n\\ndef change_local():\\n    animal = 'wombat'  # local variable\\n    print('locals:', locals())\\n\\n\\naniamal\", '_i1': \"def make_a_sound():\\n    print('hej')\\n\\nmake_a_sound()\", 'make_a_sound': <function make_a_sound at 0x0000029F202B7010>, '_i2': '# Let’s try a function that has no parameters but returns a value:\\n\\ndef agree():\\n    return True\\n\\nagree()', 'agree': <function agree at 0x0000029F202B79A0>, '_2': True, '_i3': \"# Let’s define the function echo() with one parameter called anything. It uses the return statement to send the value of anything back to its caller twice, with a space between:\\n\\ndef echo (cos):\\n    return cos + ' ' + cos\\n\\n\\necho ('test')\", 'echo': <function echo at 0x0000029F21F48820>, '_3': 'test test', '_i4': 'def commentary(color):\\n    if color == \\'red\\':\\n        return \"It\\'s a tomato.\"\\n    elif color == \"green\":\\n        return \"It\\'s a green pepper.\"\\n    elif color == \\'bee purple\\':\\n        return \"I don\\'t know what it is, but only bees can see it.\"\\n    else:\\n        return \"I\\'ve never heard of the color \"  + color +  \".\"', 'commentary': <function commentary at 0x0000029F202B7AC0>, '_i5': \"comment = commentary('blue')\", 'comment': \"I've never heard of the color blue.\", '_i6': 'print(comment)', '_i7': 'thing = None\\nif thing:\\n    print(\"It\\'s some thing\")\\nelse:\\n    print(\"It\\'s no thing\")', 'thing': ('b', '2'), '_i8': '# To distinguish None from a boolean False value, use Python’s is operator:\\n\\nthing = None\\nif thing is None:\\n    print(\"It\\'s nothing\")\\nelse:\\n    print(\"It\\'s something\")', '_i9': '# Let’s write a quick function that prints whether its argument is None, True, or False\\n\\ndef whatis(thing):\\n    if thing is None:\\n        print(thing, \"is None\")\\n    elif thing:\\n        print(thing, \"is True\")\\n    else:\\n        print(thing, \"is False\")', 'whatis': <function whatis at 0x0000029F21F48280>, '_i10': 'whatis(None)', '_i11': 'whatis(True)', '_i12': 'whatis(False)', '_i13': 'whatis(0)', '_i14': 'whatis(0.0)', '_i15': \"whatis('''''')\", '_i16': 'whatis({})', '_i17': 'whatis(set())', '_i18': \"whatis([''])\", '_i19': 'whatis(0.00001)', '_i20': \"# This function builds a dictionary from its positional input arguments and returns it:\\n\\ndef menu(wine, entree, dessert):\\n    return {'wine': wine, 'entree': entree, 'dessert': dessert}\", 'menu': <function menu at 0x0000029F21F484C0>, '_i21': \"menu('chardonnay', 'chicken', 'cake')\", '_21': {'wine': 'chardonnay', 'entree': 'chicken', 'dessert': 'cake'}, '_i22': \"# Although very common, a downside of positional arguments is that you need to remember the meaning of each position. If we forgot and called menu() with wine as the last argument instead of the first, the meal would be very different:\\n\\nmenu('beef', 'bagel', 'bordeaux')\", '_22': {'wine': 'beef', 'entree': 'bagel', 'dessert': 'bordeaux'}, '_i23': \"menu(entree='beef', dessert='bagel', wine='bordeaux')\", '_23': {'wine': 'bordeaux', 'entree': 'beef', 'dessert': 'bagel'}, '_i24': \"# You can mix positional and keyword arguments. Let’s specify the wine first, but use keyword arguments for the entree and dessert:\\n\\nmenu('frontenac', dessert='flan', entree='fish')\", '_24': {'wine': 'frontenac', 'entree': 'fish', 'dessert': 'flan'}, '_i25': \"# You can mix positional and keyword arguments. Let’s specify the wine first, but use keyword arguments for the entree and dessert:\\n\\nmenu('frontenac', dessert='flan', entree='fish')\\n\\n# If you call a function with both positional and keyword arguments, the positional arguments need to come first.\", '_25': {'wine': 'frontenac', 'entree': 'fish', 'dessert': 'flan'}, '_i26': \"def menu(wine, entree, dessert='pudding'):\\n    return {'wine': wine, 'entree': entree, 'dessert': dessert}\", '_i27': \"# This time, try calling menu() without the dessert argument:\\n\\nmenu('chardonnay', 'chicken')\", '_27': {'wine': 'chardonnay', 'entree': 'chicken', 'dessert': 'pudding'}, '_i28': \"# If you do provide an argument, it’s used instead of the default:\\n\\nmenu('dunkelfelder', 'duck', 'doughnut')\", '_28': {'wine': 'dunkelfelder', 'entree': 'duck', 'dessert': 'doughnut'}, '_i29': 'def buggy(arg, result=[]):\\n    result.append(arg)\\n    print(result)', 'buggy': <function buggy at 0x0000029F21F483A0>, '_i30': \"buggy('a')\", '_i31': \"buggy('b')   # expect ['b']\", '_i32': '# It would have worked if \\n\\ndef works(arg):\\n    result = []\\n    result.append(arg)\\n    return result', 'works': <function works at 0x0000029F21F485E0>, '_i33': \"works('a')\", '_33': ['a'], '_i34': \"works('b')\", '_34': ['b'], '_i35': '# The fix is to pass in something else to indicate the first call:\\n\\ndef nonbuggy(arg, result=None):\\n    if result is None:\\n        result = []\\n    result.append(arg)\\n    print(result)', 'nonbuggy': <function nonbuggy at 0x0000029F21F480D0>, '_i36': \"nonbuggy('a')\", '_i37': \"nonbuggy('b')\", '_i38': \"def print_args(*args):\\n    print('Positional tuple:', args)\", 'print_args': <function print_args at 0x0000029F21F48700>, '_i39': 'print_args()', '_i40': '# If you call the function with no arguments, you get nothing in *args\\n\\nprint_args()', '_i41': \"# Whatever you give it will be printed as the args tuple:\\n\\nprint_args(3, 2, 1, 'wait!', 'uh...')\", '_i42': \"# If your function has required positional arguments, as well, put them first; *args goes at the end and grabs all the rest:\\n\\ndef print_more(required1, required2, *args):\\n    print('Need this one:', required1)\\n    print('Need this one too:', required2)\\n    print('All the rest:', args)\", 'print_more': <function print_more at 0x0000029F21F48A60>, '_i43': \"# If your function has required positional arguments, as well, put them first; *args goes at the end and grabs all the rest:\\n\\ndef print_more(required1, required2, *args):\\n    print('Need this one:', required1)\\n    print('Need this one too:', required2)\\n    print('All the rest:', args)\\n\\nprint_more('cap', 'gloves', 'scarf', 'monocle', 'mustache wax')\", '_i44': \"print_args(2, 5, 7, 'x')\", '_i45': \"args = (2,5,7,'x')\", 'args': (2, 5, 7, 'x'), '_i46': 'print_args(args)', '_i47': 'print_args(*args)', '_i48': \"def print_kwargs(**kwargs):\\n    print('Keyword arguments:', kwarg\", '_i49': \"def print_kwargs(**kwargs):\\n    print('Keyword arguments:', kwargs)\", 'print_kwargs': <function print_kwargs at 0x0000029F21F48B80>, '_i50': 'print_kwargs()', '_i51': \"print_kwargs(wine='merlot', entree='mutton', dessert='macaroon')\", '_i52': 'def print_data(data, *, start=0, end=100):\\n    for value in (data[start:end]):\\n        print(value)', 'print_data': <function print_data at 0x0000029F21F48C10>, '_i53': \"data = ['a', 'b', 'c', 'd', 'e', 'f']\\nprint_data(data)\", 'data': ['a', 'b', 'c', 'd', 'e', 'f'], '_i54': 'print_data(data, start=4)', '_i55': 'print_data(data, end=2)', '_i56': \"outside = ['one', 'fine', 'day']\\n\\ndef mangle(arg):\\n    arg[1] = 'terrible!'\", 'outside': ['one', 'terrible!', 'day'], 'mangle': <function mangle at 0x0000029F21F48F70>, '_i57': 'outside', '_57': ['one', 'terrible!', 'day'], '_i58': 'mangle(outside)\\noutside', '_58': ['one', 'terrible!', 'day'], '_i59': \"def echo(anything):\\n    'echo returns its input argument'\\n    return anything\", '_i60': \"def print_if_true(thing, check):\\n    '''\\n    Prints the first argument if a second argument is true.\\n    The operation is:\\n        1. Check whether the *second* argument is true.\\n        2. If it is, print the *first* argument.\\n    '''\\n    if check:\\n        print(thing)\", 'print_if_true': <function print_if_true at 0x0000029F21F481F0>, '_i61': '# To print a function’s docstring, call the Python help() function. Pass the function’s name to get a listing of arguments along with the nicely formatted docstring:\\n\\nhelp(echo)', '_i62': 'print(echo.__doc__)', '_i63': 'def answer():\\n    print(42)', 'answer': <function answer at 0x0000029F21F48940>, '_i64': 'answer', '_64': <function answer at 0x0000029F21F48940>, '_i65': 'answer()', '_i66': '# Now let’s define another function named run_something. It has one argument called func, a function to run. Once inside, it just calls the function:\\ndef run_something(func):\\n    func()', 'run_something': <function run_something at 0x0000029F21F488B0>, '_i67': '# If we pass answer to run_something(), we’re using a function as data, just as with anything else:\\nrun_something(answer)', '_i68': '# Above example show: answer, not answer(). In Python, those parentheses mean call this function. With no parentheses, Python just treats the function like any other object. That’s because, like everything else in Python, it is an object:\\n\\ntype(run_something', '_i69': '# Above example show: answer, not answer(). In Python, those parentheses mean call this function. With no parentheses, Python just treats the function like any other object. That’s because, like everything else in Python, it is an object:\\n\\ntype(run_something)', '_69': <class 'function'>, '_i70': '# Let’s try running a function with arguments. Define a function add_args() that prints the sum of its two numeric arguments, arg1 and arg2:', '_i71': 'def add_args(arg1, arg2):\\n    print(arg1 + arg2)', 'add_args': <function add_args at 0x0000029F21F48CA0>, '_i72': '# At this point, let’s define a function called run_something_with_args() that takes three arguments:\\n\\n# func\\n# The function to run\\n\\n# arg1\\n# The first argument for func\\n\\n# arg2\\n# The second argument for func\\n\\n\\ndef run_something_with_args(func, arg1, arg2):\\n    func(arg1, arg2)', 'run_something_with_args': <function run_something_with_args at 0x0000029F21F48670>, '_i73': '# At this point, let’s define a function called run_something_with_args() that takes three arguments:\\n\\n# func\\n# The function to run\\n\\n# arg1\\n# The first argument for func\\n\\n# arg2\\n# The second argument for func\\n\\n\\ndef run_something_with_args(func, arg1, arg2):\\n    func(arg1, arg2)\\n\\n# When you call run_something_with_args(), the function passed by the caller is assigned to the func parameter, whereas arg1 and arg2 get the values that follow in the argument list. Then, running func(arg1, arg2) executes that function with those arguments because the parentheses told Python to do so.', '_i74': 'run_something_with_args(add_args, 5, 9)', '_i75': 'run_something_with_args(add_args, 5, 5)', '_i76': '# Let’s define a test function that takes any number of positional arguments, calculates their sum by using the sum() function, and then returns that sum:\\n\\ndef sum_args(*args):\\n    return sum(args)', 'sum_args': <function sum_args at 0x0000029F21F491B0>, '_i77': '# Let’s define the new function run_with_positional_args(), which takes a function and any number of positional arguments to pass to it:\\n\\ndef run_with_positional_args(func, *args):\\n    return func(*args)', 'run_with_positional_args': <function run_with_positional_args at 0x0000029F21F49240>, '_i78': 'run_with_positional_args(sum_args, 1, 2, 3, 4)', '_78': 10, '_i79': '# Functions as elements of lists, tuples, sets, and dictionaries. Functions are immutable, so you can also use them as dictionary keys.', '_i80': 'def outer(a, b):\\n    def inner(c, d):\\n        return c + d\\n    return inner(a, b)', 'outer': <function outer at 0x0000029F21F493F0>, '_i81': 'outer(4, 8)', '_81': 12, '_i82': '# An inner function can be useful when performing some complex task more than once within another function, to avoid loops or code duplication.\\n\\ndef outer(a, b):\\n    def inner(c, d):\\n        return c + d\\n    return inner(a, b)', '_i83': 'outer(4, 8)', '_83': 12, '_i84': '# Let’s call the new one knights2(), because we have no imagination, and turn the inner() function into a closure called inner2(). Here are the differences:\\n\\n# * inner2() uses the outer saying parameter directly instead of getting it as an argument.\\n\\n# * knights2() returns the inner2 function name instead of calling it:', '_i85': 'def knights2(saying):\\n    def inner2():\\n        return \"We are the knights who say: \\'%s\\'\" % saying\\n    return inner2\\n\\n# The inner2() function knows the value of saying that was passed in and remembers it. The line return inner2 returns this specialized copy of the inner2 function (but doesn’t call it). That’s a kind of closure: a dynamically created function that remembers where it came from.', 'knights2': <function knights2 at 0x0000029F21F48EE0>, '_i86': \"a = knights2('Duck')\", 'a': <function knights2.<locals>.inner2 at 0x0000029F21F49510>, '_i87': \"b = knights2('Hasenpfeffer')\", 'b': <function knights2.<locals>.inner2 at 0x0000029F21F49630>, '_i88': 'type(a)', '_88': <class 'function'>, '_i89': 'b', '_89': <function knights2.<locals>.inner2 at 0x0000029F21F49630>, '_i90': '# If we call them, they remember the saying that was used when they were created by knights2:\\n\\na()', '_90': \"We are the knights who say: 'Duck'\", '_i91': '# words—a list of words\\n\\n# func—a function to apply to each word in words\\n\\ndef edit_story(words, func):\\n    for word in words:\\n        print(func(word))', 'edit_story': <function edit_story at 0x0000029F21F497E0>, '_i92': \"# And for the function, this will capitalize each word and append an exclamation point, perfect for feline tabloid newspaper headlines:\\n\\ndef enliven(word):   # give that prose more punch\\n    return word.capitalize() + '!'\", 'enliven': <function enliven at 0x0000029F2202AF80>, '_i93': \"# And for the function, this will capitalize each word and append an exclamation point, perfect for feline tabloid newspaper headlines:\\n\\ndef enliven(word):   # give that prose more punch\\n    return word.capitalize() + '!'\", '_i94': 'edit_story(stairs, enliven)', '_i95': \"# And for the function, this will capitalize each word and append an exclamation point, perfect for feline tabloid newspaper headlines:\\nstairs = ['thud', 'meow', 'thud', 'hiss']\\n\\n\\ndef enliven(word):   # give that prose more punch\\n    return word.capitalize() + '!'\", 'stairs': ['thud', 'meow', 'thud', 'hiss'], '_i96': 'edit_story(stairs, enliven)', '_i97': \"# Finally, we get to the lambda. The enliven() function was so brief that we could replace it with a lambda:\\n\\nedit_story(stairs, lambda word: word.capitalize() + '!'\", '_i98': \"# Finally, we get to the lambda. The enliven() function was so brief that we could replace it with a lambda:\\n\\nedit_story(stairs, lambda word: word.capitalize() + '!')\", '_i99': 'sum(range(1, 101))', '_99': 5050, '_i100': 'sum(range(1, 1033))', '_100': 533028, '_i101': 'sum(range(1, 10331))', '_101': 53359615, '_i102': 'sum(range(1, 103311))', '_102': 5336529705, '_i103': 'sum(range(1, 1033111))', '_103': 533658652605, '_i104': 'sum(range(1, 10331111))', '_104': 53365922081605, '_i105': 'sum(range(1, 103311111))', '_105': 5336592776371605, '_i106': 'def my_range(first=0, last=10, step=1):\\n    number = first\\n    while number < last:\\n        yield number\\n        number += step', 'my_range': <function my_range at 0x0000029F2202B490>, '_i107': 'my range', '_i108': 'my_range', '_108': <function my_range at 0x0000029F2202B490>, '_i109': '# returns a generator object:\\n\\nranger = my_range(1, 5)\\nranger', 'ranger': <generator object my_range at 0x0000029F2205AC70>, '_109': <generator object my_range at 0x0000029F22059E70>, '_i110': 'for x in ranger:\\n    print(x)', 'x': 8, '_i111': '# returns a generator object:\\n\\nranger = my_range(1, 9)\\nranger', '_111': <generator object my_range at 0x0000029F2205AC70>, '_i112': 'for x in ranger:\\n    print(x)', '_i113': 'for try_again in ranger:\\n    print(try_again)', '_i114': \"genobj = (pair for pair in zip(['a', 'b'], ['1', '2']))\\ngenobj\", 'genobj': <generator object <genexpr> at 0x0000029F2205B5A0>, '_114': <generator object <genexpr> at 0x0000029F2205B5A0>, '_i115': 'for thing in genobj:\\n    print(thing)', '_i116': \"def document_it(func):\\n    def new_function(*args, **kwargs):\\n        print('Running function:', func.__name__)\\n        print('Positional arguments:', args)\\n        print('Keyword arguments:', kwargs)\\n        result = func(*args, **kwargs)\\n        print('Result:', result)\\n        return result\\n    return new_function\", 'document_it': <function document_it at 0x0000029F2202B400>, '_i117': \"def document_it(func):\\n    def new_function(*args, **kwargs):\\n        print('Running function:', func.__name__)\\n        print('Positional arguments:', args)\\n        print('Keyword arguments:', kwargs)\\n        result = func(*args, **kwargs)\\n        print('Result:', result)\\n        return result\\n    return new_function\\n\\n# Whatever func you pass to document_it(), you get a new function that includes the extra statements that document_it() adds. A decorator doesn’t actually have to run any code from func, but document_it() calls func partway through so that you get the results of func as well as all the extras.\", '_i118': '# So, how do you use this? You can apply the decorator manually:\\n\\ndef add_ints(a, b):\\n    return a + b', 'add_ints': <function document_it.<locals>.new_function at 0x0000029F2202B5B0>, '_i119': 'add_ints(3, 6)', '_119': 9, '_i120': 'cooler_add_ints = document_it(add_ints)  # manual decorator assignment', 'cooler_add_ints': <function document_it.<locals>.new_function at 0x0000029F2202B250>, '_i121': 'cooler_add_ints(3, 5)', '_121': 8, '_i122': '# As an alternative to the manual decorator assignment we just looked at, you can add @decorator_name before the function that you want to decorate:\\n\\n@document_it\\ndef add_ints(a, b):\\n    return a + b\\nadd_ints(3, 5)', '_122': 8, '_i123': '# You can have more than one decorator for a function. Let’s write another decorator called square_it() that squares the result:\\n\\ndef square_it(func):\\n    def new_function(*args, **kwargs):\\n        result = func(*args, **kwargs)\\n        return result * result\\n    return new_function', 'square_it': <function square_it at 0x0000029F2202BF40>, '_i124': '# The decorator that’s used closest to the function (just above the def) runs first and then the one above it. Either order gives the same end result, but you can see how the intermediate steps change\\n\\n@document_it\\n@square_it\\ndef add_ints(a, b):\\n    return a + b', '_i125': '# The decorator that’s used closest to the function (just above the def) runs first and then the one above it. Either order gives the same end result, but you can see how the intermediate steps change\\n\\n@document_it\\n@square_it\\ndef add_ints(a, b):\\n    return a + b\\n\\n\\nadd_ints(3, 5)', '_125': 64, '_i126': \"# global variable from within a function:\\n\\nanimal = 'fruitbat'\\ndef print_global():\\n    print('inside print_global:', animal)\", 'animal': 'fruitbat', 'print_global': <function print_global at 0x0000029F2202BB50>, '_i127': \"print('at the top level:', animal)\", '_i128': 'print_global()', '_i129': \"# But if you try to get the value of the global variable and change it within the function, you get an error\\n\\ndef change_and_print_global():\\n    print('inside change_and_print_global:', animal)\\n    animal = 'wombat'\\n    print('after the change:', animal)\", 'change_and_print_global': <function change_and_print_global at 0x0000029F2202B7F0>, '_i130': \"# But if you try to get the value of the global variable and change it within the function, you get an error\\n\\ndef change_and_print_global():\\n    print('inside change_and_print_global:', animal)\\n    animal = 'wombat'\\n    print('after the change:', animal)\\n\\n\\nchange_and_print_global()\", '_i131': 'If you just change it, it changes a different variable also named animal, but this variable is inside the function:', '_i132': \"# If you just change it, it changes a different variable also named animal, but this variable is inside the function:\\n\\ndef change_local():\\n    animal = 'wombat'\\n    print('inside change_local:', animal, id(animal))\\n\\n\\nchange_local()\", 'change_local': <function change_local at 0x0000029F2202BC70>, '_i133': 'animal', '_133': 'fruitbat', '_i134': 'id', '_134': <built-in function id>, '_i135': 'id(animal)', '_135': 2882492990192, '_i136': \"# To access the global variable rather than the local one within a function, you need to be explicit and use the global keyword (you knew this was coming: explicit is better than implicit)\\n\\nanimal = 'fruitbat'\\ndef change_and_print_global():\\n    global animal\\n    animal = 'wombat'\\n    print('inside change_and_print_global:', animal)\", '_i137': 'animal', '_137': 'fruitbat', '_i138': 'change_and_print_global()', '_i139': 'animal', '_139': 'wombat', '_i140': \"animal = 'fruitbat'\\n\\ndef change_local():\\n    animal = 'wombat'  # local variable\\n    print('locals:', locals())\\n\\n\\naniamal\", '_i141': \"animal = 'fruitbat'\\n\\ndef change_local():\\n    animal = 'wombat'  # local variable\\n    print('locals:', locals())\\n\\n\\nanimal\", '_141': 'fruitbat', '_i142': 'change_local()', '_i143': \"print('globals:', globals()) # reformatted a little for presentation\"}\n"
     ]
    }
   ],
   "source": [
    "print('globals:', globals()) # reformatted a little for presentation"
   ]
  },
  {
   "cell_type": "code",
   "execution_count": 145,
   "metadata": {},
   "outputs": [
    {
     "data": {
      "text/plain": [
       "'fruitbat'"
      ]
     },
     "execution_count": 145,
     "metadata": {},
     "output_type": "execute_result"
    }
   ],
   "source": [
    "animal\n",
    "\n",
    "# The local namespace within change_local() contained only the local variable animal. The global namespace contained the separate global variable animal and a number of other things."
   ]
  },
  {
   "cell_type": "markdown",
   "metadata": {},
   "source": [
    "# Uses of _ and __ in Names"
   ]
  },
  {
   "cell_type": "markdown",
   "metadata": {},
   "source": [
    "Names that begin and end with two underscores ```(__)``` are reserved for use within Python, so you should not use them with your own variables. This naming pattern was chosen because it seemed unlikely to be selected by application developers for their own variables.\n",
    "\n",
    "For instance, the name of a function is in the system variable ```function.__name__```, and its documentation string is ```function.__doc__```:"
   ]
  },
  {
   "cell_type": "code",
   "execution_count": 146,
   "metadata": {},
   "outputs": [],
   "source": [
    "def amazing():\n",
    "    '''This is the amazing function.\n",
    "    Want to see it again?'''\n",
    "    print('This function is named:', amazing.__name__)\n",
    "    print('And its docstring is:', amazing.__doc__)"
   ]
  },
  {
   "cell_type": "code",
   "execution_count": 148,
   "metadata": {},
   "outputs": [
    {
     "name": "stdout",
     "output_type": "stream",
     "text": [
      "This function is named: amazing\n",
      "And its docstring is: This is the amazing function.\n",
      "    Want to see it again?\n"
     ]
    }
   ],
   "source": [
    "amazing()\n",
    "\n",
    "# As you saw in the earlier globals printout, the main program is assigned the special name __main__."
   ]
  },
  {
   "cell_type": "markdown",
   "metadata": {},
   "source": [
    "# Recursion"
   ]
  },
  {
   "cell_type": "markdown",
   "metadata": {},
   "source": [
    "So far, we’ve called functions that do some things directly, and maybe call other functions. But what if a function calls itself?5 This is called recursion. Like an unbroken infinite loop with ```while``` or ```for```, you don’t want infinite recursion. Do we still need to worry about cracks in the space-time continuum?\n",
    "\n",
    "Python saves the universe again by raising an exception if you get too deep:"
   ]
  },
  {
   "cell_type": "code",
   "execution_count": 149,
   "metadata": {},
   "outputs": [
    {
     "ename": "RecursionError",
     "evalue": "maximum recursion depth exceeded",
     "output_type": "error",
     "traceback": [
      "\u001b[1;31m---------------------------------------------------------------------------\u001b[0m",
      "\u001b[1;31mRecursionError\u001b[0m                            Traceback (most recent call last)",
      "\u001b[1;32m~\\AppData\\Local\\Temp/ipykernel_13060/3283071852.py\u001b[0m in \u001b[0;36m<module>\u001b[1;34m\u001b[0m\n\u001b[0;32m      3\u001b[0m \u001b[1;33m\u001b[0m\u001b[0m\n\u001b[0;32m      4\u001b[0m \u001b[1;33m\u001b[0m\u001b[0m\n\u001b[1;32m----> 5\u001b[1;33m \u001b[0mdive\u001b[0m\u001b[1;33m(\u001b[0m\u001b[1;33m)\u001b[0m\u001b[1;33m\u001b[0m\u001b[1;33m\u001b[0m\u001b[0m\n\u001b[0m",
      "\u001b[1;32m~\\AppData\\Local\\Temp/ipykernel_13060/3283071852.py\u001b[0m in \u001b[0;36mdive\u001b[1;34m()\u001b[0m\n\u001b[0;32m      1\u001b[0m \u001b[1;32mdef\u001b[0m \u001b[0mdive\u001b[0m\u001b[1;33m(\u001b[0m\u001b[1;33m)\u001b[0m\u001b[1;33m:\u001b[0m\u001b[1;33m\u001b[0m\u001b[1;33m\u001b[0m\u001b[0m\n\u001b[1;32m----> 2\u001b[1;33m     \u001b[1;32mreturn\u001b[0m \u001b[0mdive\u001b[0m\u001b[1;33m(\u001b[0m\u001b[1;33m)\u001b[0m\u001b[1;33m\u001b[0m\u001b[1;33m\u001b[0m\u001b[0m\n\u001b[0m\u001b[0;32m      3\u001b[0m \u001b[1;33m\u001b[0m\u001b[0m\n\u001b[0;32m      4\u001b[0m \u001b[1;33m\u001b[0m\u001b[0m\n\u001b[0;32m      5\u001b[0m \u001b[0mdive\u001b[0m\u001b[1;33m(\u001b[0m\u001b[1;33m)\u001b[0m\u001b[1;33m\u001b[0m\u001b[1;33m\u001b[0m\u001b[0m\n",
      "... last 1 frames repeated, from the frame below ...\n",
      "\u001b[1;32m~\\AppData\\Local\\Temp/ipykernel_13060/3283071852.py\u001b[0m in \u001b[0;36mdive\u001b[1;34m()\u001b[0m\n\u001b[0;32m      1\u001b[0m \u001b[1;32mdef\u001b[0m \u001b[0mdive\u001b[0m\u001b[1;33m(\u001b[0m\u001b[1;33m)\u001b[0m\u001b[1;33m:\u001b[0m\u001b[1;33m\u001b[0m\u001b[1;33m\u001b[0m\u001b[0m\n\u001b[1;32m----> 2\u001b[1;33m     \u001b[1;32mreturn\u001b[0m \u001b[0mdive\u001b[0m\u001b[1;33m(\u001b[0m\u001b[1;33m)\u001b[0m\u001b[1;33m\u001b[0m\u001b[1;33m\u001b[0m\u001b[0m\n\u001b[0m\u001b[0;32m      3\u001b[0m \u001b[1;33m\u001b[0m\u001b[0m\n\u001b[0;32m      4\u001b[0m \u001b[1;33m\u001b[0m\u001b[0m\n\u001b[0;32m      5\u001b[0m \u001b[0mdive\u001b[0m\u001b[1;33m(\u001b[0m\u001b[1;33m)\u001b[0m\u001b[1;33m\u001b[0m\u001b[1;33m\u001b[0m\u001b[0m\n",
      "\u001b[1;31mRecursionError\u001b[0m: maximum recursion depth exceeded"
     ]
    }
   ],
   "source": [
    "def dive():\n",
    "    return dive()\n",
    "\n",
    "\n",
    "dive()"
   ]
  },
  {
   "cell_type": "markdown",
   "metadata": {},
   "source": [
    "# Interview question"
   ]
  },
  {
   "cell_type": "code",
   "execution_count": 150,
   "metadata": {},
   "outputs": [],
   "source": [
    "# Recursion is useful when you’re dealing with “uneven” data, like lists of lists of lists. Suppose that you want to “flatten” all sublists of a list, no matter how deeply nested. A generator function is just the thing:\n",
    "\n",
    "\n",
    "def flatten(lol):\n",
    "    for item in lol:\n",
    "        if isinstance(item, list):\n",
    "            for subitem in flatten(item):\n",
    "                yield subitem\n",
    "        else:\n",
    "            yield item"
   ]
  },
  {
   "cell_type": "code",
   "execution_count": 151,
   "metadata": {},
   "outputs": [],
   "source": [
    "lol = [1, 2, [3,4,5], [6,[7,8,9], []]]"
   ]
  },
  {
   "cell_type": "code",
   "execution_count": 152,
   "metadata": {},
   "outputs": [
    {
     "data": {
      "text/plain": [
       "<generator object flatten at 0x0000029F220586D0>"
      ]
     },
     "execution_count": 152,
     "metadata": {},
     "output_type": "execute_result"
    }
   ],
   "source": [
    "flatten(lol)"
   ]
  },
  {
   "cell_type": "code",
   "execution_count": 153,
   "metadata": {},
   "outputs": [
    {
     "data": {
      "text/plain": [
       "[1, 2, 3, 4, 5, 6, 7, 8, 9]"
      ]
     },
     "execution_count": 153,
     "metadata": {},
     "output_type": "execute_result"
    }
   ],
   "source": [
    "list(flatten(lol))"
   ]
  },
  {
   "cell_type": "code",
   "execution_count": 154,
   "metadata": {},
   "outputs": [],
   "source": [
    "def flatten(lol):\n",
    "    for item in lol:\n",
    "        if isinstance(item, list):\n",
    "            yield from flatten(item)\n",
    "        else:\n",
    "            yield item"
   ]
  },
  {
   "cell_type": "code",
   "execution_count": 155,
   "metadata": {},
   "outputs": [],
   "source": [
    "lol = [1, 2, [3,4,5], [6,[7,8,9], []]]"
   ]
  },
  {
   "cell_type": "code",
   "execution_count": 156,
   "metadata": {},
   "outputs": [
    {
     "data": {
      "text/plain": [
       "[1, 2, 3, 4, 5, 6, 7, 8, 9]"
      ]
     },
     "execution_count": 156,
     "metadata": {},
     "output_type": "execute_result"
    }
   ],
   "source": [
    "list(flatten(lol))"
   ]
  },
  {
   "cell_type": "markdown",
   "metadata": {},
   "source": [
    "# Async Functions"
   ]
  },
  {
   "cell_type": "markdown",
   "metadata": {},
   "source": [
    "The keywords async and await were added to Python 3.5 to define and run asynchronous functions. They’re:\n",
    "\n",
    "* Relatively new\n",
    "\n",
    "* Different enough to be harder to understand\n",
    "\n",
    "* Will become more important and better known over time\n",
    "\n",
    " If you see async before the def line for a function, it’s an asynchronous function. Likewise, if you see await before a function call, that function is asynchronous.\n",
    "\n",
    "The main difference between asynchronous and normal functions is that async ones can “give up control” rather than running to completion."
   ]
  },
  {
   "cell_type": "markdown",
   "metadata": {},
   "source": [
    "# Exceptions"
   ]
  },
  {
   "cell_type": "markdown",
   "metadata": {},
   "source": [
    "In some languages, errors are indicated by special function return values. When things go south, Python uses exceptions: code that is executed when an associated error occurs.\n",
    "\n",
    "You’ve seen some of these already, such as accessing a list or tuple with an out-of-range position, or a dictionary with a nonexistent key. When you run code that might fail under some circumstances, you also need appropriate exception handlers to intercept any potential errors.\n",
    "\n",
    "It’s good practice to add exception handling anywhere an exception might occur to let the user know what is happening. You might not be able to fix the problem, but at least you can note the circumstances and shut your program down gracefully. If an exception occurs in some function and is not caught there, it bubbles up until it is caught by a matching handler in some calling function. If you don’t provide your own exception handler, Python prints an error message and some information about where the error occurred and then terminates the program, as demonstrated in the following snippet:"
   ]
  },
  {
   "cell_type": "code",
   "execution_count": 157,
   "metadata": {},
   "outputs": [
    {
     "ename": "IndexError",
     "evalue": "list index out of range",
     "output_type": "error",
     "traceback": [
      "\u001b[1;31m---------------------------------------------------------------------------\u001b[0m",
      "\u001b[1;31mIndexError\u001b[0m                                Traceback (most recent call last)",
      "\u001b[1;32m~\\AppData\\Local\\Temp/ipykernel_13060/3463217681.py\u001b[0m in \u001b[0;36m<module>\u001b[1;34m\u001b[0m\n\u001b[0;32m      1\u001b[0m \u001b[0mshort_list\u001b[0m \u001b[1;33m=\u001b[0m \u001b[1;33m[\u001b[0m\u001b[1;36m1\u001b[0m\u001b[1;33m,\u001b[0m \u001b[1;36m2\u001b[0m\u001b[1;33m,\u001b[0m \u001b[1;36m3\u001b[0m\u001b[1;33m]\u001b[0m\u001b[1;33m\u001b[0m\u001b[1;33m\u001b[0m\u001b[0m\n\u001b[0;32m      2\u001b[0m \u001b[0mposition\u001b[0m \u001b[1;33m=\u001b[0m \u001b[1;36m5\u001b[0m\u001b[1;33m\u001b[0m\u001b[1;33m\u001b[0m\u001b[0m\n\u001b[1;32m----> 3\u001b[1;33m \u001b[0mshort_list\u001b[0m\u001b[1;33m[\u001b[0m\u001b[0mposition\u001b[0m\u001b[1;33m]\u001b[0m\u001b[1;33m\u001b[0m\u001b[1;33m\u001b[0m\u001b[0m\n\u001b[0m",
      "\u001b[1;31mIndexError\u001b[0m: list index out of range"
     ]
    }
   ],
   "source": [
    "short_list = [1, 2, 3]\n",
    "position = 5\n",
    "short_list[position]"
   ]
  },
  {
   "cell_type": "code",
   "execution_count": 158,
   "metadata": {},
   "outputs": [
    {
     "name": "stdout",
     "output_type": "stream",
     "text": [
      "Need a position between 0 and 2  but got 5\n"
     ]
    }
   ],
   "source": [
    "# Rather than leaving things to chance, use try to wrap your code, and except to provide the error handling:\n",
    "\n",
    "short_list = [1, 2, 3]\n",
    "position = 5\n",
    "try:\n",
    "    short_list[position]\n",
    "except:\n",
    "    print('Need a position between 0 and', len(short_list)-1, ' but got',position)"
   ]
  },
  {
   "cell_type": "markdown",
   "metadata": {},
   "source": [
    "The code inside the try block is run. If there is an error, an exception is raised and the code inside the except block runs. If there are no errors, the except block is skipped.\n",
    "\n",
    "Specifying a plain except with no arguments, as we did here, is a catchall for any exception type. If more than one type of exception could occur, it’s best to provide a separate exception handler for each. No one forces you to do this; you can use a bare except to catch all exceptions, but your treatment of them would probably be generic (something akin to printing Some error occurred). You can use any number of specific exception handlers.\n",
    "\n",
    "Sometimes, you want exception details beyond the type. You get the full exception object in the variable name if you use the form:\n",
    "\n",
    "```\n",
    "> except exceptiontype as name\n",
    "```\n",
    "The example that follows looks for an IndexError first, because that’s the exception type raised when you provide an illegal position to a sequence. It saves an IndexError exception in the variable err, and any other exception in the variable other. The example prints everything stored in other to show what you get in that object:"
   ]
  },
  {
   "cell_type": "code",
   "execution_count": null,
   "metadata": {},
   "outputs": [],
   "source": [
    "short_list = [1, 2, 3]\n",
    "while True:\n",
    "    value = input('Position [q to quit]? ')\n",
    "    if value == 'q':\n",
    "        break\n",
    "    try:\n",
    "        position = int(value)\n",
    "        print(short_list[position])\n",
    "    except IndexError as err:\n",
    "        print('Bad index:', position)\n",
    "    except Exception as other:\n",
    "        print('Something else broke:', other)\n",
    "\n",
    "# Inputting position 3 raised an IndexError as expected. Entering two annoyed the int() function, which we handled in our second, catchall except code."
   ]
  }
 ],
 "metadata": {
  "interpreter": {
   "hash": "7b0470897870f91c1d27568bf8346e85da46866cae942d918bd7f2b2e94e9a5a"
  },
  "kernelspec": {
   "display_name": "Python 3.10.0 64-bit",
   "language": "python",
   "name": "python3"
  },
  "language_info": {
   "codemirror_mode": {
    "name": "ipython",
    "version": 3
   },
   "file_extension": ".py",
   "mimetype": "text/x-python",
   "name": "python",
   "nbconvert_exporter": "python",
   "pygments_lexer": "ipython3",
   "version": "3.10.0"
  },
  "orig_nbformat": 4
 },
 "nbformat": 4,
 "nbformat_minor": 2
}
