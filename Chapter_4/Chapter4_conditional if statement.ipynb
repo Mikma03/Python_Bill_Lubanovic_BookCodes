{
 "cells": [
  {
   "cell_type": "markdown",
   "metadata": {
    "collapsed": true,
    "pycharm": {
     "name": "#%% md\n"
    }
   },
   "source": [
    "# The fourth chapter from Bill Lubanovic's book\n",
    "\n",
    "# Additional characters"
   ]
  },
  {
   "cell_type": "code",
   "execution_count": 1,
   "metadata": {
    "collapsed": false,
    "pycharm": {
     "name": "#%%\n"
    }
   },
   "outputs": [
    {
     "name": "stdout",
     "output_type": "stream",
     "text": [
      "Cudzysłów powoduje że znak # nie działą\n"
     ]
    }
   ],
   "source": [
    "print(\"Cudzysłów powoduje że znak # nie działą\")"
   ]
  },
  {
   "cell_type": "markdown",
   "metadata": {
    "collapsed": false,
    "pycharm": {
     "name": "#%% md\n"
    }
   },
   "source": [
    "## Continuation sign backslash"
   ]
  },
  {
   "cell_type": "code",
   "execution_count": 2,
   "metadata": {
    "collapsed": false,
    "pycharm": {
     "name": "#%%\n"
    }
   },
   "outputs": [
    {
     "data": {
      "text/plain": [
       "10"
      ]
     },
     "execution_count": 2,
     "metadata": {},
     "output_type": "execute_result"
    }
   ],
   "source": [
    "sum = 1 + \\\n",
    "      2 + \\\n",
    "      3 + \\\n",
    "      4\n",
    "sum"
   ]
  },
  {
   "cell_type": "code",
   "execution_count": 6,
   "metadata": {
    "collapsed": false,
    "pycharm": {
     "name": "#%%\n"
    }
   },
   "outputs": [
    {
     "data": {
      "text/plain": [
       "83"
      ]
     },
     "execution_count": 6,
     "metadata": {},
     "output_type": "execute_result"
    }
   ],
   "source": [
    "sum = (\n",
    "    1+\n",
    "    2+\n",
    "    3+\n",
    "    77)\n",
    "sum"
   ]
  },
  {
   "cell_type": "markdown",
   "metadata": {
    "collapsed": false,
    "pycharm": {
     "name": "#%% md\n"
    }
   },
   "source": [
    "## Instructions \"if\", \"elif\", \"else\""
   ]
  },
  {
   "cell_type": "code",
   "execution_count": 4,
   "metadata": {
    "collapsed": false,
    "pycharm": {
     "name": "#%%\n"
    }
   },
   "outputs": [
    {
     "name": "stdout",
     "output_type": "stream",
     "text": [
      "Niedobrze\n"
     ]
    }
   ],
   "source": [
    "disaster = True\n",
    "if disaster == True:\n",
    "    print(\"Niedobrze\")\n",
    "else:\n",
    "    print(\"Dobrze\")"
   ]
  },
  {
   "cell_type": "code",
   "execution_count": 5,
   "metadata": {
    "collapsed": false,
    "pycharm": {
     "name": "#%%\n"
    }
   },
   "outputs": [
    {
     "name": "stdout",
     "output_type": "stream",
     "text": [
      "to jest yeti\n"
     ]
    }
   ],
   "source": [
    "furry = True\n",
    "large = True\n",
    "if furry == True:\n",
    "    if large ==True:\n",
    "        print(\"to jest yeti\")\n",
    "    else:\n",
    "        print(\"to jest kot\")\n",
    "else:\n",
    "    if large == True:\n",
    "        print(\"to jest wieloryb\")\n",
    "    else:\n",
    "        print(\"to jest czlowiek\")"
   ]
  },
  {
   "cell_type": "code",
   "execution_count": 6,
   "metadata": {
    "collapsed": false,
    "pycharm": {
     "name": "#%%\n"
    }
   },
   "outputs": [
    {
     "name": "stdout",
     "output_type": "stream",
     "text": [
      "nie znam kolrou lawendowy\n"
     ]
    }
   ],
   "source": [
    "color = \"lawendowy\"\n",
    "if color == \"czerwony\":\n",
    "    print(\"to jest pomidor\")\n",
    "elif color == \"zielony\":\n",
    "    print(\"to jest ogorek\")\n",
    "elif color == \"ultrafioletowy\":\n",
    "    print(\"nie wiem co to jest\")\n",
    "else:\n",
    "    print(\"nie znam kolrou\", color)"
   ]
  },
  {
   "cell_type": "code",
   "execution_count": 11,
   "metadata": {},
   "outputs": [
    {
     "name": "stdout",
     "output_type": "stream",
     "text": [
      "More\n"
     ]
    }
   ],
   "source": [
    "x = 3\n",
    "if x < 0:\n",
    "    x = 0\n",
    "    print('Negative changed to zero')\n",
    "elif x == 0:\n",
    "    print('Zero')\n",
    "elif x == 1:\n",
    "    print('Single')\n",
    "else:\n",
    "    print('More')"
   ]
  },
  {
   "cell_type": "code",
   "execution_count": 12,
   "metadata": {},
   "outputs": [
    {
     "name": "stdout",
     "output_type": "stream",
     "text": [
      "cat 3\n",
      "window 6\n",
      "defenestrate 12\n"
     ]
    }
   ],
   "source": [
    "# Measure some strings:\n",
    "words = ['cat', 'window', 'defenestrate']\n",
    "for w in words:\n",
    "    print(w, len(w))"
   ]
  },
  {
   "cell_type": "code",
   "execution_count": 13,
   "metadata": {},
   "outputs": [],
   "source": [
    "# Create a sample collection\n",
    "users = {'Hans': 'active', 'Éléonore': 'inactive', '景太郎': 'active'}\n",
    "\n",
    "# Strategy:  Iterate over a copy\n",
    "for user, status in users.copy().items():\n",
    "    if status == 'inactive':\n",
    "        del users[user]\n",
    "\n",
    "# Strategy:  Create a new collection\n",
    "active_users = {}\n",
    "for user, status in users.items():\n",
    "    if status == 'active':\n",
    "        active_users[user] = status"
   ]
  },
  {
   "cell_type": "code",
   "execution_count": 14,
   "metadata": {},
   "outputs": [
    {
     "name": "stdout",
     "output_type": "stream",
     "text": [
      "0\n",
      "1\n",
      "2\n",
      "3\n",
      "4\n"
     ]
    }
   ],
   "source": [
    "for i in range(5):\n",
    "    print(i)"
   ]
  },
  {
   "cell_type": "code",
   "execution_count": 15,
   "metadata": {},
   "outputs": [
    {
     "data": {
      "text/plain": [
       "[-10, -40, -70]"
      ]
     },
     "execution_count": 15,
     "metadata": {},
     "output_type": "execute_result"
    }
   ],
   "source": [
    "list(range(5, 10))\n",
    "\n",
    "\n",
    "list(range(0, 10, 3))\n",
    "\n",
    "\n",
    "list(range(-10, -100, -30))\n"
   ]
  },
  {
   "cell_type": "code",
   "execution_count": 16,
   "metadata": {},
   "outputs": [
    {
     "name": "stdout",
     "output_type": "stream",
     "text": [
      "0 Mary\n",
      "1 had\n",
      "2 a\n",
      "3 little\n",
      "4 lamb\n"
     ]
    }
   ],
   "source": [
    "a = ['Mary', 'had', 'a', 'little', 'lamb']\n",
    "for i in range(len(a)):\n",
    "    print(i, a[i])"
   ]
  },
  {
   "cell_type": "code",
   "execution_count": 23,
   "metadata": {},
   "outputs": [
    {
     "name": "stdout",
     "output_type": "stream",
     "text": [
      "2 is a prime number\n",
      "3 is a prime number\n",
      "4 equals 2 * 2\n",
      "5 is a prime number\n",
      "6 equals 2 * 3\n",
      "7 is a prime number\n",
      "8 equals 2 * 4\n",
      "9 equals 3 * 3\n"
     ]
    }
   ],
   "source": [
    "for n in range(2, 10):\n",
    "    for x in range(2, n):\n",
    "        if n % x == 0:\n",
    "            print(n, 'equals', x, '*', n//x)\n",
    "            break\n",
    "    else:\n",
    "        # loop fell through without finding a factor\n",
    "        print(n, 'is a prime number')"
   ]
  },
  {
   "cell_type": "code",
   "execution_count": 24,
   "metadata": {},
   "outputs": [
    {
     "name": "stdout",
     "output_type": "stream",
     "text": [
      "Found an even number 2\n",
      "Found an odd number 3\n",
      "Found an even number 4\n",
      "Found an odd number 5\n",
      "Found an even number 6\n",
      "Found an odd number 7\n",
      "Found an even number 8\n",
      "Found an odd number 9\n"
     ]
    }
   ],
   "source": [
    "for num in range(2, 10):\n",
    "    if num % 2 == 0:\n",
    "        print(\"Found an even number\", num)\n",
    "        continue\n",
    "    print(\"Found an odd number\", num)"
   ]
  },
  {
   "cell_type": "markdown",
   "metadata": {
    "collapsed": false,
    "pycharm": {
     "name": "#%% md\n"
    }
   },
   "source": [
    "## Comparison operators\n",
    "\n",
    "|Operator|\tName\t|Example|\n",
    "| -- | -- | -- |\n",
    "|== |\tEqual|\tx == y\n",
    "|!=\t|Not equal|\tx != y\n",
    "|>\t|Greater than|\tx > y\n",
    "|<\t|Less than|\tx < y\n",
    "|>=\t|Greater than or equal to|\tx >= y\n",
    "|<=\t|Less than or equal to|\tx <= y"
   ]
  },
  {
   "cell_type": "code",
   "execution_count": 10,
   "metadata": {
    "collapsed": false,
    "pycharm": {
     "name": "#%%\n"
    }
   },
   "outputs": [],
   "source": [
    "x = 55"
   ]
  },
  {
   "cell_type": "code",
   "execution_count": 11,
   "metadata": {
    "collapsed": false,
    "pycharm": {
     "name": "#%%\n"
    }
   },
   "outputs": [
    {
     "data": {
      "text/plain": [
       "False"
      ]
     },
     "execution_count": 11,
     "metadata": {},
     "output_type": "execute_result"
    }
   ],
   "source": [
    "x == 8"
   ]
  },
  {
   "cell_type": "code",
   "execution_count": 12,
   "metadata": {
    "collapsed": false,
    "pycharm": {
     "name": "#%%\n"
    }
   },
   "outputs": [
    {
     "data": {
      "text/plain": [
       "True"
      ]
     },
     "execution_count": 12,
     "metadata": {},
     "output_type": "execute_result"
    }
   ],
   "source": [
    "(5 < x) and (x < 100)"
   ]
  },
  {
   "cell_type": "code",
   "execution_count": 15,
   "metadata": {
    "collapsed": false,
    "pycharm": {
     "name": "#%%\n"
    }
   },
   "outputs": [
    {
     "data": {
      "text/plain": [
       "False"
      ]
     },
     "execution_count": 15,
     "metadata": {},
     "output_type": "execute_result"
    }
   ],
   "source": [
    "bool(None)"
   ]
  },
  {
   "cell_type": "markdown",
   "metadata": {
    "collapsed": false,
    "pycharm": {
     "name": "#%% md\n"
    }
   },
   "source": [
    "Treated as false in Python\n",
    "\n",
    "|Object| Symbol |\n",
    "| -- | -- |\n",
    "|no value | None |\n",
    "|integer zero | 0 |\n",
    "|real number zero | 0.0 |\n",
    "|empty string  | ' ' |\n",
    "| empty list| [] |\n",
    "|empty tuple | () |\n",
    "|empty dictionary| {} |\n",
    "|empty set | set() |"
   ]
  },
  {
   "cell_type": "code",
   "execution_count": 1,
   "metadata": {
    "collapsed": false,
    "pycharm": {
     "name": "#%%\n"
    }
   },
   "outputs": [
    {
     "name": "stdout",
     "output_type": "stream",
     "text": [
      "w tej liscie cos jest\n"
     ]
    }
   ],
   "source": [
    "some_list = [1]\n",
    "if some_list:\n",
    "    print(\"w tej liscie cos jest\")\n",
    "else:\n",
    "    print(\"ta lista jest pusta\")\n"
   ]
  },
  {
   "cell_type": "markdown",
   "metadata": {
    "collapsed": false,
    "pycharm": {
     "name": "#%% md\n"
    }
   },
   "source": [
    "## Operator \"in\""
   ]
  },
  {
   "cell_type": "code",
   "execution_count": 23,
   "metadata": {
    "collapsed": false,
    "pycharm": {
     "name": "#%%\n"
    }
   },
   "outputs": [
    {
     "data": {
      "text/plain": [
       "True"
      ]
     },
     "execution_count": 23,
     "metadata": {},
     "output_type": "execute_result"
    }
   ],
   "source": [
    "vowels = 'aeiouy'\n",
    "letter = 'o'\n",
    "letter in vowels"
   ]
  },
  {
   "cell_type": "code",
   "execution_count": 24,
   "metadata": {
    "collapsed": false,
    "pycharm": {
     "name": "#%%\n"
    }
   },
   "outputs": [
    {
     "name": "stdout",
     "output_type": "stream",
     "text": [
      "o jest samogłoską\n"
     ]
    }
   ],
   "source": [
    "vowels = 'aeiouy'\n",
    "letter = 'o'\n",
    "if letter in vowels:\n",
    "    print(letter, 'jest samogłoską')"
   ]
  },
  {
   "cell_type": "code",
   "execution_count": 25,
   "metadata": {
    "collapsed": false,
    "pycharm": {
     "name": "#%%\n"
    }
   },
   "outputs": [
    {
     "data": {
      "text/plain": [
       "True"
      ]
     },
     "execution_count": 25,
     "metadata": {},
     "output_type": "execute_result"
    }
   ],
   "source": [
    "letter = 'o'\n",
    "vowel_set = {'a', 'e', 'i', 'o', 'u', 'y'}\n",
    "letter in vowel_set"
   ]
  },
  {
   "cell_type": "code",
   "execution_count": 26,
   "metadata": {
    "collapsed": false,
    "pycharm": {
     "name": "#%%\n"
    }
   },
   "outputs": [
    {
     "data": {
      "text/plain": [
       "True"
      ]
     },
     "execution_count": 26,
     "metadata": {},
     "output_type": "execute_result"
    }
   ],
   "source": [
    "vowel_list = [ 'a', 'e', 'i', 'o', 'u', 'y']\n",
    "letter in vowel_list"
   ]
  },
  {
   "cell_type": "markdown",
   "metadata": {
    "collapsed": false,
    "pycharm": {
     "name": "#%% md\n"
    }
   },
   "source": [
    "## Operator \"walrus\""
   ]
  },
  {
   "cell_type": "code",
   "execution_count": 1,
   "metadata": {
    "collapsed": false,
    "pycharm": {
     "name": "#%%\n"
    }
   },
   "outputs": [
    {
     "name": "stdout",
     "output_type": "stream",
     "text": [
      "tweet za dlugi o 320 znakow\n"
     ]
    }
   ],
   "source": [
    "# befor using operator\n",
    "\n",
    "tweet_limit = 280\n",
    "tweet_string = \"cosssswwwwww\" * 50\n",
    "diff = tweet_limit - len(tweet_string)\n",
    "if diff >= 0:\n",
    "    print(\"dobry tweet\")\n",
    "else:\n",
    "    print(\"tweet za dlugi o\", abs(diff), \"znakow\")"
   ]
  },
  {
   "cell_type": "code",
   "execution_count": 2,
   "metadata": {
    "collapsed": false,
    "pycharm": {
     "name": "#%%\n"
    }
   },
   "outputs": [
    {
     "name": "stdout",
     "output_type": "stream",
     "text": [
      "dobry tweet\n"
     ]
    }
   ],
   "source": [
    "# after using new operator\n",
    "\n",
    "tweet_limit = 280\n",
    "tweet_string = \"cos\" * 50\n",
    "if diff := tweet_limit - len(tweet_string) >= 0:\n",
    "    print(\"dobry tweet\")\n",
    "else:\n",
    "    print(\"tweebmt za dlugi o\", abs(diff), \"znakow\")\n"
   ]
  },
  {
   "cell_type": "markdown",
   "metadata": {},
   "source": [
    "## [More info about Walarus Operator](https://realpython.com/python-walrus-operator/#walrus-operator-use-cases)"
   ]
  }
 ],
 "metadata": {
  "kernelspec": {
   "display_name": "Python 3",
   "language": "python",
   "name": "python3"
  },
  "language_info": {
   "codemirror_mode": {
    "name": "ipython",
    "version": 3
   },
   "file_extension": ".py",
   "mimetype": "text/x-python",
   "name": "python",
   "nbconvert_exporter": "python",
   "pygments_lexer": "ipython3",
   "version": "3.10.0"
  }
 },
 "nbformat": 4,
 "nbformat_minor": 0
}
